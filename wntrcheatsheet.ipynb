{
 "cells": [
  {
   "cell_type": "code",
   "execution_count": 4,
   "id": "53e5b026-6763-45ca-9eb9-7a985c9511bf",
   "metadata": {},
   "outputs": [],
   "source": [
    "import numpy as np\n",
    "import scipy.stats \n",
    "import networkx as nx\n",
    "import geopandas as gpd\n",
    "import matplotlib.pyplot as plt\n",
    "import wntr"
   ]
  },
  {
   "cell_type": "code",
   "execution_count": 5,
   "id": "c91c5256-71bc-49c3-a94b-51bf867559d2",
   "metadata": {},
   "outputs": [],
   "source": [
    "wn=wntr.network.WaterNetworkModel('Net3.inp')"
   ]
  },
  {
   "cell_type": "code",
   "execution_count": 6,
   "id": "475610a4-e267-4d9a-b828-5129680b4047",
   "metadata": {},
   "outputs": [
    {
     "data": {
      "text/plain": [
       "{'Nodes': {'Junctions': 92, 'Tanks': 3, 'Reservoirs': 2},\n",
       " 'Links': {'Pipes': 117,\n",
       "  'Pumps': {'Head': 2, 'Power': 0},\n",
       "  'Valves': {'PRV': 0, 'PSV': 0, 'PBV': 0, 'TCV': 0, 'FCV': 0, 'GPV': 0}},\n",
       " 'Patterns': 5,\n",
       " 'Curves': {'Pump': 2, 'Efficiency': 0, 'Headloss': 0, 'Volume': 0},\n",
       " 'Sources': 0,\n",
       " 'Controls': 6}"
      ]
     },
     "execution_count": 6,
     "metadata": {},
     "output_type": "execute_result"
    }
   ],
   "source": [
    "wn.describe(level=2)"
   ]
  },
  {
   "cell_type": "code",
   "execution_count": 7,
   "id": "597315cf-40db-4c32-ae8f-5bd5e149fc03",
   "metadata": {},
   "outputs": [],
   "source": [
    "listoffunctionofwn=[]\n",
    "for function in dir(wn):\n",
    "    if not function.startswith('_'):\n",
    "        listoffunctionofwn.append(function)"
   ]
  },
  {
   "cell_type": "code",
   "execution_count": 8,
   "id": "62871c5f-9018-4970-8b48-c66eb75c0a3a",
   "metadata": {},
   "outputs": [
    {
     "data": {
      "text/plain": [
       "['add_control',\n",
       " 'add_curve',\n",
       " 'add_junction',\n",
       " 'add_pattern',\n",
       " 'add_pipe',\n",
       " 'add_pump',\n",
       " 'add_reservoir',\n",
       " 'add_source',\n",
       " 'add_tank',\n",
       " 'add_valve',\n",
       " 'assign_demand',\n",
       " 'control_name_list',\n",
       " 'controls',\n",
       " 'convert_controls_to_rules',\n",
       " 'curve_name_list',\n",
       " 'curves',\n",
       " 'describe',\n",
       " 'fcv_name_list',\n",
       " 'fcvs',\n",
       " 'from_dict',\n",
       " 'from_gis',\n",
       " 'get_control',\n",
       " 'get_curve',\n",
       " 'get_graph',\n",
       " 'get_link',\n",
       " 'get_links_for_node',\n",
       " 'get_node',\n",
       " 'get_pattern',\n",
       " 'get_source',\n",
       " 'gpv_name_list',\n",
       " 'gpvs',\n",
       " 'head_pump_name_list',\n",
       " 'head_pumps',\n",
       " 'junction_name_list',\n",
       " 'junctions',\n",
       " 'link_name_list',\n",
       " 'links',\n",
       " 'name',\n",
       " 'node_name_list',\n",
       " 'nodes',\n",
       " 'num_controls',\n",
       " 'num_curves',\n",
       " 'num_junctions',\n",
       " 'num_links',\n",
       " 'num_nodes',\n",
       " 'num_patterns',\n",
       " 'num_pipes',\n",
       " 'num_pumps',\n",
       " 'num_reservoirs',\n",
       " 'num_sources',\n",
       " 'num_tanks',\n",
       " 'num_valves',\n",
       " 'options',\n",
       " 'pattern_name_list',\n",
       " 'patterns',\n",
       " 'pbv_name_list',\n",
       " 'pbvs',\n",
       " 'pipe_name_list',\n",
       " 'pipes',\n",
       " 'power_pump_name_list',\n",
       " 'power_pumps',\n",
       " 'prv_name_list',\n",
       " 'prvs',\n",
       " 'psv_name_list',\n",
       " 'psvs',\n",
       " 'pump_name_list',\n",
       " 'pumps',\n",
       " 'query_link_attribute',\n",
       " 'query_node_attribute',\n",
       " 'remove_control',\n",
       " 'remove_curve',\n",
       " 'remove_link',\n",
       " 'remove_node',\n",
       " 'remove_pattern',\n",
       " 'remove_source',\n",
       " 'reservoir_name_list',\n",
       " 'reservoirs',\n",
       " 'reset_initial_values',\n",
       " 'sim_time',\n",
       " 'source_name_list',\n",
       " 'sources',\n",
       " 'tank_name_list',\n",
       " 'tanks',\n",
       " 'tcv_name_list',\n",
       " 'tcvs',\n",
       " 'title',\n",
       " 'to_dict',\n",
       " 'to_gis',\n",
       " 'to_graph',\n",
       " 'valve_name_list',\n",
       " 'valves']"
      ]
     },
     "execution_count": 8,
     "metadata": {},
     "output_type": "execute_result"
    }
   ],
   "source": [
    "listoffunctionofwn"
   ]
  },
  {
   "cell_type": "code",
   "execution_count": 9,
   "id": "13314c78-70d5-45d3-8c43-66f39dc6ab41",
   "metadata": {},
   "outputs": [
    {
     "data": {
      "image/png": "[encoded data removed]",
      "text/plain": [
       "<Figure size 640x480 with 1 Axes>"
      ]
     },
     "metadata": {},
     "output_type": "display_data"
    },
    {
     "data": {
      "text/plain": [
       "<Axes: >"
      ]
     },
     "execution_count": 9,
     "metadata": {},
     "output_type": "execute_result"
    }
   ],
   "source": [
    "wntr.graphics.plot_network(wn)"
   ]
  },
  {
   "cell_type": "markdown",
   "id": "e9f1d89e-d6ba-4ad5-b85c-f94cb1e78b0c",
   "metadata": {},
   "source": [
    "## Node Part\n"
   ]
  },
  {
   "cell_type": "code",
   "execution_count": 10,
   "id": "6b25bcb1-161e-485d-a9b6-b20fbd6a071a",
   "metadata": {},
   "outputs": [
    {
     "name": "stdout",
     "output_type": "stream",
     "text": [
      "Node name:  ['10', '15', '20', '35', '40', '50', '60', '601', '61', '101', '103', '105', '107', '109', '111', '113', '115', '117', '119', '120', '121', '123', '125', '127', '129', '131', '139', '141', '143', '145', '147', '149', '151', '153', '157', '159', '161', '163', '164', '166', '167', '169', '171', '173', '177', '179', '181', '183', '184', '185', '187', '189', '191', '193', '195', '197', '199', '201', '203', '204', '205', '206', '207', '208', '209', '211', '213', '215', '217', '219', '225', '229', '231', '237', '239', '241', '243', '247', '249', '251', '253', '255', '257', '259', '261', '263', '265', '267', '269', '271', '273', '275', 'River', 'Lake', '1', '2', '3']\n"
     ]
    }
   ],
   "source": [
    "print(\"Node name: \",wn.node_name_list)"
   ]
  },
  {
   "cell_type": "code",
   "execution_count": 11,
   "id": "0e83746d-fd65-4a03-8d87-183db8ecf0ed",
   "metadata": {},
   "outputs": [
    {
     "name": "stdout",
     "output_type": "stream",
     "text": [
      "Tanks name:  ['1', '2', '3']\n"
     ]
    }
   ],
   "source": [
    "print(\"Tanks name: \",wn.tank_name_list)"
   ]
  },
  {
   "cell_type": "code",
   "execution_count": 12,
   "id": "26772904-ba2a-4aef-a352-e5a093130fd3",
   "metadata": {},
   "outputs": [],
   "source": [
    "tank=wn.get_node('1')"
   ]
  },
  {
   "cell_type": "code",
   "execution_count": 13,
   "id": "c2de9b25-07db-4d27-97a2-1705a1436676",
   "metadata": {},
   "outputs": [
    {
     "data": {
      "text/plain": [
       "wntr.network.elements.Tank"
      ]
     },
     "execution_count": 13,
     "metadata": {},
     "output_type": "execute_result"
    }
   ],
   "source": [
    "type(tank)"
   ]
  },
  {
   "cell_type": "code",
   "execution_count": 14,
   "id": "8445f059-1e61-4d4c-949d-80939d746603",
   "metadata": {},
   "outputs": [],
   "source": [
    "listoffunctiontank=[]\n",
    "for function in dir(tank):\n",
    "    if not function.startswith('_'):\n",
    "        listoffunctiontank.append(function)"
   ]
  },
  {
   "cell_type": "code",
   "execution_count": 15,
   "id": "8274f7b4-beab-4301-9e29-e07f2e466f5c",
   "metadata": {},
   "outputs": [
    {
     "name": "stdout",
     "output_type": "stream",
     "text": [
      "Tanks functions: ['add_leak', 'bulk_coeff', 'coordinates', 'demand', 'diameter', 'elevation', 'get_volume', 'head', 'init_level', 'initial_quality', 'leak_area', 'leak_demand', 'leak_discharge_coeff', 'leak_status', 'level', 'max_level', 'min_level', 'min_vol', 'mixing_fraction', 'mixing_model', 'name', 'node_type', 'overflow', 'pressure', 'quality', 'remove_leak', 'tag', 'to_dict', 'to_ref', 'vol_curve', 'vol_curve_name']\n"
     ]
    }
   ],
   "source": [
    "print(\"Tanks functions:\",listoffunctiontank)"
   ]
  },
  {
   "cell_type": "code",
   "execution_count": 16,
   "id": "ee8a3b4c-6b53-4cc7-942f-f06b5c90aa5f",
   "metadata": {},
   "outputs": [
    {
     "data": {
      "text/plain": [
       "9.784080000000001"
      ]
     },
     "execution_count": 16,
     "metadata": {},
     "output_type": "execute_result"
    }
   ],
   "source": [
    "tank.max_level"
   ]
  },
  {
   "cell_type": "code",
   "execution_count": 17,
   "id": "989c9b11-7304-4569-813d-0afdb0f6bdae",
   "metadata": {},
   "outputs": [],
   "source": [
    "tank.max_level=10"
   ]
  },
  {
   "cell_type": "code",
   "execution_count": 18,
   "id": "5fa17727-5f65-45c4-94aa-55e0b7ca588d",
   "metadata": {},
   "outputs": [
    {
     "data": {
      "text/plain": [
       "10"
      ]
     },
     "execution_count": 18,
     "metadata": {},
     "output_type": "execute_result"
    }
   ],
   "source": [
    "tank.max_level"
   ]
  },
  {
   "cell_type": "code",
   "execution_count": 19,
   "id": "474f0a5a-ca54-40a3-8874-a9d4ce468353",
   "metadata": {},
   "outputs": [
    {
     "name": "stdout",
     "output_type": "stream",
     "text": [
      "Help on method add_junction in module wntr.network.model:\n",
      "\n",
      "add_junction(name, base_demand=0.0, demand_pattern=None, elevation=0.0, coordinates=None, demand_category=None) method of wntr.network.model.WaterNetworkModel instance\n",
      "    Adds a junction to the water network model\n",
      "    \n",
      "    Parameters\n",
      "    -------------------\n",
      "    name : string\n",
      "        Name of the junction.\n",
      "    base_demand : float\n",
      "        Base demand at the junction.\n",
      "    demand_pattern : string or Pattern\n",
      "        Name of the demand pattern or the Pattern object\n",
      "    elevation : float\n",
      "        Elevation of the junction.\n",
      "    coordinates : tuple of floats\n",
      "        X-Y coordinates of the node location.\n",
      "    demand_category  : string\n",
      "        Name of the demand category\n",
      "\n"
     ]
    }
   ],
   "source": [
    "help(wn.add_junction)"
   ]
  },
  {
   "cell_type": "code",
   "execution_count": 20,
   "id": "810b3c0d-e90b-4d59-aeca-9a59c342ac06",
   "metadata": {},
   "outputs": [],
   "source": [
    "wn.add_junction('new_junction',base_demand=0.0,demand_pattern=None,elevation=0.0,coordinates=None,demand_category=None)"
   ]
  },
  {
   "cell_type": "code",
   "execution_count": 21,
   "id": "1479f133-79e3-4e6a-93a4-955261e6ade7",
   "metadata": {},
   "outputs": [
    {
     "data": {
      "text/plain": [
       "['10',\n",
       " '15',\n",
       " '20',\n",
       " '35',\n",
       " '40',\n",
       " '50',\n",
       " '60',\n",
       " '601',\n",
       " '61',\n",
       " '101',\n",
       " '103',\n",
       " '105',\n",
       " '107',\n",
       " '109',\n",
       " '111',\n",
       " '113',\n",
       " '115',\n",
       " '117',\n",
       " '119',\n",
       " '120',\n",
       " '121',\n",
       " '123',\n",
       " '125',\n",
       " '127',\n",
       " '129',\n",
       " '131',\n",
       " '139',\n",
       " '141',\n",
       " '143',\n",
       " '145',\n",
       " '147',\n",
       " '149',\n",
       " '151',\n",
       " '153',\n",
       " '157',\n",
       " '159',\n",
       " '161',\n",
       " '163',\n",
       " '164',\n",
       " '166',\n",
       " '167',\n",
       " '169',\n",
       " '171',\n",
       " '173',\n",
       " '177',\n",
       " '179',\n",
       " '181',\n",
       " '183',\n",
       " '184',\n",
       " '185',\n",
       " '187',\n",
       " '189',\n",
       " '191',\n",
       " '193',\n",
       " '195',\n",
       " '197',\n",
       " '199',\n",
       " '201',\n",
       " '203',\n",
       " '204',\n",
       " '205',\n",
       " '206',\n",
       " '207',\n",
       " '208',\n",
       " '209',\n",
       " '211',\n",
       " '213',\n",
       " '215',\n",
       " '217',\n",
       " '219',\n",
       " '225',\n",
       " '229',\n",
       " '231',\n",
       " '237',\n",
       " '239',\n",
       " '241',\n",
       " '243',\n",
       " '247',\n",
       " '249',\n",
       " '251',\n",
       " '253',\n",
       " '255',\n",
       " '257',\n",
       " '259',\n",
       " '261',\n",
       " '263',\n",
       " '265',\n",
       " '267',\n",
       " '269',\n",
       " '271',\n",
       " '273',\n",
       " '275',\n",
       " 'new_junction']"
      ]
     },
     "execution_count": 21,
     "metadata": {},
     "output_type": "execute_result"
    }
   ],
   "source": [
    "wn.junction_name_list"
   ]
  },
  {
   "cell_type": "code",
   "execution_count": 22,
   "id": "3ff2cbf5-6750-4738-a0a3-b2d74b0f21ce",
   "metadata": {},
   "outputs": [],
   "source": [
    "wn.remove_node('new_junction')"
   ]
  },
  {
   "cell_type": "code",
   "execution_count": 23,
   "id": "fd334279-e088-4314-9d50-adecfca97b2c",
   "metadata": {},
   "outputs": [
    {
     "data": {
      "text/plain": [
       "['10',\n",
       " '15',\n",
       " '20',\n",
       " '35',\n",
       " '40',\n",
       " '50',\n",
       " '60',\n",
       " '601',\n",
       " '61',\n",
       " '101',\n",
       " '103',\n",
       " '105',\n",
       " '107',\n",
       " '109',\n",
       " '111',\n",
       " '113',\n",
       " '115',\n",
       " '117',\n",
       " '119',\n",
       " '120',\n",
       " '121',\n",
       " '123',\n",
       " '125',\n",
       " '127',\n",
       " '129',\n",
       " '131',\n",
       " '139',\n",
       " '141',\n",
       " '143',\n",
       " '145',\n",
       " '147',\n",
       " '149',\n",
       " '151',\n",
       " '153',\n",
       " '157',\n",
       " '159',\n",
       " '161',\n",
       " '163',\n",
       " '164',\n",
       " '166',\n",
       " '167',\n",
       " '169',\n",
       " '171',\n",
       " '173',\n",
       " '177',\n",
       " '179',\n",
       " '181',\n",
       " '183',\n",
       " '184',\n",
       " '185',\n",
       " '187',\n",
       " '189',\n",
       " '191',\n",
       " '193',\n",
       " '195',\n",
       " '197',\n",
       " '199',\n",
       " '201',\n",
       " '203',\n",
       " '204',\n",
       " '205',\n",
       " '206',\n",
       " '207',\n",
       " '208',\n",
       " '209',\n",
       " '211',\n",
       " '213',\n",
       " '215',\n",
       " '217',\n",
       " '219',\n",
       " '225',\n",
       " '229',\n",
       " '231',\n",
       " '237',\n",
       " '239',\n",
       " '241',\n",
       " '243',\n",
       " '247',\n",
       " '249',\n",
       " '251',\n",
       " '253',\n",
       " '255',\n",
       " '257',\n",
       " '259',\n",
       " '261',\n",
       " '263',\n",
       " '265',\n",
       " '267',\n",
       " '269',\n",
       " '271',\n",
       " '273',\n",
       " '275']"
      ]
     },
     "execution_count": 23,
     "metadata": {},
     "output_type": "execute_result"
    }
   ],
   "source": [
    "wn.junction_name_list"
   ]
  },
  {
   "cell_type": "markdown",
   "id": "ad53247d-4e44-4ebb-bcb0-61bfed874482",
   "metadata": {},
   "source": [
    "## LINK PART"
   ]
  },
  {
   "cell_type": "code",
   "execution_count": 24,
   "id": "2d6e2eac-9afa-40a9-b9db-38baed003cab",
   "metadata": {},
   "outputs": [
    {
     "name": "stdout",
     "output_type": "stream",
     "text": [
      "Link names: ['20', '40', '50', '60', '101', '103', '105', '107', '109', '111', '112', '113', '114', '115', '116', '117', '119', '120', '121', '122', '123', '125', '129', '131', '133', '135', '137', '145', '147', '149', '151', '153', '155', '159', '161', '163', '169', '171', '173', '175', '177', '179', '180', '181', '183', '185', '186', '187', '189', '191', '193', '195', '197', '199', '201', '202', '203', '204', '205', '207', '209', '211', '213', '215', '217', '219', '221', '223', '225', '229', '231', '233', '235', '237', '238', '239', '240', '241', '243', '245', '247', '249', '251', '257', '261', '263', '269', '271', '273', '275', '277', '281', '283', '285', '287', '289', '291', '293', '295', '297', '299', '301', '303', '305', '307', '309', '311', '313', '315', '317', '319', '321', '323', '325', '329', '330', '333', '10', '335']\n"
     ]
    }
   ],
   "source": [
    "print('Link names:',wn.link_name_list)"
   ]
  },
  {
   "cell_type": "code",
   "execution_count": 25,
   "id": "5c285eb3-7d4b-49a4-8e78-9be2eca6f831",
   "metadata": {},
   "outputs": [
    {
     "name": "stdout",
     "output_type": "stream",
     "text": [
      "Link names: ['10', '335']\n"
     ]
    }
   ],
   "source": [
    "print('Link names:',wn.head_pump_name_list)"
   ]
  },
  {
   "cell_type": "code",
   "execution_count": 26,
   "id": "800ef027-3359-4644-962e-832eb8e08cb8",
   "metadata": {},
   "outputs": [],
   "source": [
    "connected_links=wn.get_links_for_node('115')"
   ]
  },
  {
   "cell_type": "code",
   "execution_count": 27,
   "id": "83d3dc2b-cb42-483f-959f-3823da24795c",
   "metadata": {},
   "outputs": [
    {
     "name": "stdout",
     "output_type": "stream",
     "text": [
      "Links connected with the node: ['112', '114', '115', '119']\n"
     ]
    }
   ],
   "source": [
    "print('Links connected with the node:',connected_links)"
   ]
  },
  {
   "cell_type": "code",
   "execution_count": 28,
   "id": "8df2d848-5cd5-46cc-878c-99d7440efadb",
   "metadata": {},
   "outputs": [],
   "source": [
    "Pipe=wn.get_link('112')"
   ]
  },
  {
   "cell_type": "code",
   "execution_count": 29,
   "id": "1124d458-9493-479d-bb35-7aab10f8092a",
   "metadata": {},
   "outputs": [
    {
     "data": {
      "text/plain": [
       "<Pipe '112' from '115' to '111', length=353.56800000000004, diameter=0.30479999999999996, roughness=130.0, minor_loss=0.0, check_valve=False, status=Open>"
      ]
     },
     "execution_count": 29,
     "metadata": {},
     "output_type": "execute_result"
    }
   ],
   "source": [
    "Pipe"
   ]
  },
  {
   "cell_type": "code",
   "execution_count": 30,
   "id": "148a3e62-1413-45a6-93c5-a4c706159b01",
   "metadata": {},
   "outputs": [
    {
     "data": {
      "text/plain": [
       "wntr.network.elements.Pipe"
      ]
     },
     "execution_count": 30,
     "metadata": {},
     "output_type": "execute_result"
    }
   ],
   "source": [
    "type(Pipe)"
   ]
  },
  {
   "cell_type": "code",
   "execution_count": 31,
   "id": "b282b9e6-d2ce-4f60-8c11-6b494f9af06d",
   "metadata": {},
   "outputs": [
    {
     "name": "stdout",
     "output_type": "stream",
     "text": [
      "Help on method add_pipe in module wntr.network.model:\n",
      "\n",
      "add_pipe(name, start_node_name, end_node_name, length=304.8, diameter=0.3048, roughness=100, minor_loss=0.0, initial_status='OPEN', check_valve=False) method of wntr.network.model.WaterNetworkModel instance\n",
      "    Adds a pipe to the water network model\n",
      "    \n",
      "    Parameters\n",
      "    ----------\n",
      "    name : string\n",
      "        Name of the pipe.\n",
      "    start_node_name : string\n",
      "         Name of the start node.\n",
      "    end_node_name : string\n",
      "         Name of the end node.\n",
      "    length : float, optional\n",
      "        Length of the pipe.\n",
      "    diameter : float, optional\n",
      "        Diameter of the pipe.\n",
      "    roughness : float, optional\n",
      "        Pipe roughness coefficient.\n",
      "    minor_loss : float, optional\n",
      "        Pipe minor loss coefficient.\n",
      "    initial_status : string or LinkStatus, optional\n",
      "        Pipe initial status. Options are 'OPEN' or 'CLOSED'.\n",
      "    check_valve : bool, optional\n",
      "        True if the pipe has a check valve.\n",
      "        False if the pipe does not have a check valve.\n",
      "\n"
     ]
    }
   ],
   "source": [
    "help(wn.add_pipe)"
   ]
  },
  {
   "cell_type": "code",
   "execution_count": 32,
   "id": "1773f2e9-ee5d-496b-bff0-965fedb2c1fd",
   "metadata": {},
   "outputs": [],
   "source": [
    "wn.add_pipe(name='new_pipe',start_node_name=\"10\",end_node_name='117')"
   ]
  },
  {
   "cell_type": "code",
   "execution_count": 33,
   "id": "768662c4-894d-4dfe-8a08-5063353ba02a",
   "metadata": {},
   "outputs": [
    {
     "data": {
      "text/plain": [
       "['20',\n",
       " '40',\n",
       " '50',\n",
       " '60',\n",
       " '101',\n",
       " '103',\n",
       " '105',\n",
       " '107',\n",
       " '109',\n",
       " '111',\n",
       " '112',\n",
       " '113',\n",
       " '114',\n",
       " '115',\n",
       " '116',\n",
       " '117',\n",
       " '119',\n",
       " '120',\n",
       " '121',\n",
       " '122',\n",
       " '123',\n",
       " '125',\n",
       " '129',\n",
       " '131',\n",
       " '133',\n",
       " '135',\n",
       " '137',\n",
       " '145',\n",
       " '147',\n",
       " '149',\n",
       " '151',\n",
       " '153',\n",
       " '155',\n",
       " '159',\n",
       " '161',\n",
       " '163',\n",
       " '169',\n",
       " '171',\n",
       " '173',\n",
       " '175',\n",
       " '177',\n",
       " '179',\n",
       " '180',\n",
       " '181',\n",
       " '183',\n",
       " '185',\n",
       " '186',\n",
       " '187',\n",
       " '189',\n",
       " '191',\n",
       " '193',\n",
       " '195',\n",
       " '197',\n",
       " '199',\n",
       " '201',\n",
       " '202',\n",
       " '203',\n",
       " '204',\n",
       " '205',\n",
       " '207',\n",
       " '209',\n",
       " '211',\n",
       " '213',\n",
       " '215',\n",
       " '217',\n",
       " '219',\n",
       " '221',\n",
       " '223',\n",
       " '225',\n",
       " '229',\n",
       " '231',\n",
       " '233',\n",
       " '235',\n",
       " '237',\n",
       " '238',\n",
       " '239',\n",
       " '240',\n",
       " '241',\n",
       " '243',\n",
       " '245',\n",
       " '247',\n",
       " '249',\n",
       " '251',\n",
       " '257',\n",
       " '261',\n",
       " '263',\n",
       " '269',\n",
       " '271',\n",
       " '273',\n",
       " '275',\n",
       " '277',\n",
       " '281',\n",
       " '283',\n",
       " '285',\n",
       " '287',\n",
       " '289',\n",
       " '291',\n",
       " '293',\n",
       " '295',\n",
       " '297',\n",
       " '299',\n",
       " '301',\n",
       " '303',\n",
       " '305',\n",
       " '307',\n",
       " '309',\n",
       " '311',\n",
       " '313',\n",
       " '315',\n",
       " '317',\n",
       " '319',\n",
       " '321',\n",
       " '323',\n",
       " '325',\n",
       " '329',\n",
       " '330',\n",
       " '333',\n",
       " 'new_pipe']"
      ]
     },
     "execution_count": 33,
     "metadata": {},
     "output_type": "execute_result"
    }
   ],
   "source": [
    "wn.pipe_name_list"
   ]
  },
  {
   "cell_type": "code",
   "execution_count": 34,
   "id": "7f31309c-84d1-40f3-aadf-7403fd2d53e9",
   "metadata": {},
   "outputs": [],
   "source": [
    "wn.remove_link('new_pipe')"
   ]
  },
  {
   "cell_type": "code",
   "execution_count": 35,
   "id": "d5563d55-34fa-497c-9d72-3e68dc7e7a43",
   "metadata": {},
   "outputs": [
    {
     "data": {
      "text/plain": [
       "['20',\n",
       " '40',\n",
       " '50',\n",
       " '60',\n",
       " '101',\n",
       " '103',\n",
       " '105',\n",
       " '107',\n",
       " '109',\n",
       " '111',\n",
       " '112',\n",
       " '113',\n",
       " '114',\n",
       " '115',\n",
       " '116',\n",
       " '117',\n",
       " '119',\n",
       " '120',\n",
       " '121',\n",
       " '122',\n",
       " '123',\n",
       " '125',\n",
       " '129',\n",
       " '131',\n",
       " '133',\n",
       " '135',\n",
       " '137',\n",
       " '145',\n",
       " '147',\n",
       " '149',\n",
       " '151',\n",
       " '153',\n",
       " '155',\n",
       " '159',\n",
       " '161',\n",
       " '163',\n",
       " '169',\n",
       " '171',\n",
       " '173',\n",
       " '175',\n",
       " '177',\n",
       " '179',\n",
       " '180',\n",
       " '181',\n",
       " '183',\n",
       " '185',\n",
       " '186',\n",
       " '187',\n",
       " '189',\n",
       " '191',\n",
       " '193',\n",
       " '195',\n",
       " '197',\n",
       " '199',\n",
       " '201',\n",
       " '202',\n",
       " '203',\n",
       " '204',\n",
       " '205',\n",
       " '207',\n",
       " '209',\n",
       " '211',\n",
       " '213',\n",
       " '215',\n",
       " '217',\n",
       " '219',\n",
       " '221',\n",
       " '223',\n",
       " '225',\n",
       " '229',\n",
       " '231',\n",
       " '233',\n",
       " '235',\n",
       " '237',\n",
       " '238',\n",
       " '239',\n",
       " '240',\n",
       " '241',\n",
       " '243',\n",
       " '245',\n",
       " '247',\n",
       " '249',\n",
       " '251',\n",
       " '257',\n",
       " '261',\n",
       " '263',\n",
       " '269',\n",
       " '271',\n",
       " '273',\n",
       " '275',\n",
       " '277',\n",
       " '281',\n",
       " '283',\n",
       " '285',\n",
       " '287',\n",
       " '289',\n",
       " '291',\n",
       " '293',\n",
       " '295',\n",
       " '297',\n",
       " '299',\n",
       " '301',\n",
       " '303',\n",
       " '305',\n",
       " '307',\n",
       " '309',\n",
       " '311',\n",
       " '313',\n",
       " '315',\n",
       " '317',\n",
       " '319',\n",
       " '321',\n",
       " '323',\n",
       " '325',\n",
       " '329',\n",
       " '330',\n",
       " '333']"
      ]
     },
     "execution_count": 35,
     "metadata": {},
     "output_type": "execute_result"
    }
   ],
   "source": [
    "wn.pipe_name_list"
   ]
  },
  {
   "cell_type": "markdown",
   "id": "29d5c83c-0ccd-4e38-b53b-2dd0b4e251d0",
   "metadata": {},
   "source": [
    "## DEMANDS AND PATTERN PART"
   ]
  },
  {
   "cell_type": "code",
   "execution_count": 87,
   "id": "2738419a-9475-4891-bf0d-42a1bc7fbd06",
   "metadata": {},
   "outputs": [],
   "source": [
    "expectedDemand=wntr.metrics.expected_demand(wn)"
   ]
  },
  {
   "cell_type": "code",
   "execution_count": 88,
   "id": "c1935a01-6b78-46f6-89fc-2ee3315ade97",
   "metadata": {},
   "outputs": [
    {
     "data": {
      "text/html": [
       "<div>\n",
       "<style scoped>\n",
       "    .dataframe tbody tr th:only-of-type {\n",
       "        vertical-align: middle;\n",
       "    }\n",
       "\n",
       "    .dataframe tbody tr th {\n",
       "        vertical-align: top;\n",
       "    }\n",
       "\n",
       "    .dataframe thead th {\n",
       "        text-align: right;\n",
       "    }\n",
       "</style>\n",
       "<table border=\"1\" class=\"dataframe\">\n",
       "  <thead>\n",
       "    <tr style=\"text-align: right;\">\n",
       "      <th></th>\n",
       "      <th>10</th>\n",
       "      <th>15</th>\n",
       "      <th>20</th>\n",
       "      <th>35</th>\n",
       "      <th>40</th>\n",
       "      <th>50</th>\n",
       "      <th>60</th>\n",
       "      <th>601</th>\n",
       "      <th>61</th>\n",
       "      <th>101</th>\n",
       "      <th>...</th>\n",
       "      <th>257</th>\n",
       "      <th>259</th>\n",
       "      <th>261</th>\n",
       "      <th>263</th>\n",
       "      <th>265</th>\n",
       "      <th>267</th>\n",
       "      <th>269</th>\n",
       "      <th>271</th>\n",
       "      <th>273</th>\n",
       "      <th>275</th>\n",
       "    </tr>\n",
       "  </thead>\n",
       "  <tbody>\n",
       "    <tr>\n",
       "      <th>0.0</th>\n",
       "      <td>0.9914</td>\n",
       "      <td>0.039116</td>\n",
       "      <td>0.0</td>\n",
       "      <td>0.103279</td>\n",
       "      <td>0.0</td>\n",
       "      <td>0.0</td>\n",
       "      <td>0.0</td>\n",
       "      <td>0.0</td>\n",
       "      <td>0.0</td>\n",
       "      <td>0.016059</td>\n",
       "      <td>...</td>\n",
       "      <td>0.0</td>\n",
       "      <td>0.0</td>\n",
       "      <td>0.0</td>\n",
       "      <td>0.0</td>\n",
       "      <td>0.0</td>\n",
       "      <td>0.0</td>\n",
       "      <td>0.0</td>\n",
       "      <td>0.0</td>\n",
       "      <td>0.0</td>\n",
       "      <td>0.0</td>\n",
       "    </tr>\n",
       "    <tr>\n",
       "      <th>3600.0</th>\n",
       "      <td>1.4174</td>\n",
       "      <td>0.039116</td>\n",
       "      <td>0.0</td>\n",
       "      <td>0.107632</td>\n",
       "      <td>0.0</td>\n",
       "      <td>0.0</td>\n",
       "      <td>0.0</td>\n",
       "      <td>0.0</td>\n",
       "      <td>0.0</td>\n",
       "      <td>0.023249</td>\n",
       "      <td>...</td>\n",
       "      <td>0.0</td>\n",
       "      <td>0.0</td>\n",
       "      <td>0.0</td>\n",
       "      <td>0.0</td>\n",
       "      <td>0.0</td>\n",
       "      <td>0.0</td>\n",
       "      <td>0.0</td>\n",
       "      <td>0.0</td>\n",
       "      <td>0.0</td>\n",
       "      <td>0.0</td>\n",
       "    </tr>\n",
       "    <tr>\n",
       "      <th>7200.0</th>\n",
       "      <td>1.0766</td>\n",
       "      <td>0.039116</td>\n",
       "      <td>0.0</td>\n",
       "      <td>0.108452</td>\n",
       "      <td>0.0</td>\n",
       "      <td>0.0</td>\n",
       "      <td>0.0</td>\n",
       "      <td>0.0</td>\n",
       "      <td>0.0</td>\n",
       "      <td>0.017497</td>\n",
       "      <td>...</td>\n",
       "      <td>0.0</td>\n",
       "      <td>0.0</td>\n",
       "      <td>0.0</td>\n",
       "      <td>0.0</td>\n",
       "      <td>0.0</td>\n",
       "      <td>0.0</td>\n",
       "      <td>0.0</td>\n",
       "      <td>0.0</td>\n",
       "      <td>0.0</td>\n",
       "      <td>0.0</td>\n",
       "    </tr>\n",
       "    <tr>\n",
       "      <th>10800.0</th>\n",
       "      <td>1.0624</td>\n",
       "      <td>0.039116</td>\n",
       "      <td>0.0</td>\n",
       "      <td>0.108452</td>\n",
       "      <td>0.0</td>\n",
       "      <td>0.0</td>\n",
       "      <td>0.0</td>\n",
       "      <td>0.0</td>\n",
       "      <td>0.0</td>\n",
       "      <td>0.017257</td>\n",
       "      <td>...</td>\n",
       "      <td>0.0</td>\n",
       "      <td>0.0</td>\n",
       "      <td>0.0</td>\n",
       "      <td>0.0</td>\n",
       "      <td>0.0</td>\n",
       "      <td>0.0</td>\n",
       "      <td>0.0</td>\n",
       "      <td>0.0</td>\n",
       "      <td>0.0</td>\n",
       "      <td>0.0</td>\n",
       "    </tr>\n",
       "    <tr>\n",
       "      <th>14400.0</th>\n",
       "      <td>0.5796</td>\n",
       "      <td>0.039116</td>\n",
       "      <td>0.0</td>\n",
       "      <td>0.112995</td>\n",
       "      <td>0.0</td>\n",
       "      <td>0.0</td>\n",
       "      <td>0.0</td>\n",
       "      <td>0.0</td>\n",
       "      <td>0.0</td>\n",
       "      <td>0.009108</td>\n",
       "      <td>...</td>\n",
       "      <td>0.0</td>\n",
       "      <td>0.0</td>\n",
       "      <td>0.0</td>\n",
       "      <td>0.0</td>\n",
       "      <td>0.0</td>\n",
       "      <td>0.0</td>\n",
       "      <td>0.0</td>\n",
       "      <td>0.0</td>\n",
       "      <td>0.0</td>\n",
       "      <td>0.0</td>\n",
       "    </tr>\n",
       "    <tr>\n",
       "      <th>18000.0</th>\n",
       "      <td>0.6932</td>\n",
       "      <td>0.022712</td>\n",
       "      <td>0.0</td>\n",
       "      <td>0.114761</td>\n",
       "      <td>0.0</td>\n",
       "      <td>0.0</td>\n",
       "      <td>0.0</td>\n",
       "      <td>0.0</td>\n",
       "      <td>0.0</td>\n",
       "      <td>0.011025</td>\n",
       "      <td>...</td>\n",
       "      <td>0.0</td>\n",
       "      <td>0.0</td>\n",
       "      <td>0.0</td>\n",
       "      <td>0.0</td>\n",
       "      <td>0.0</td>\n",
       "      <td>0.0</td>\n",
       "      <td>0.0</td>\n",
       "      <td>0.0</td>\n",
       "      <td>0.0</td>\n",
       "      <td>0.0</td>\n",
       "    </tr>\n",
       "    <tr>\n",
       "      <th>21600.0</th>\n",
       "      <td>0.6435</td>\n",
       "      <td>0.022712</td>\n",
       "      <td>0.0</td>\n",
       "      <td>0.112111</td>\n",
       "      <td>0.0</td>\n",
       "      <td>0.0</td>\n",
       "      <td>0.0</td>\n",
       "      <td>0.0</td>\n",
       "      <td>0.0</td>\n",
       "      <td>0.010186</td>\n",
       "      <td>...</td>\n",
       "      <td>0.0</td>\n",
       "      <td>0.0</td>\n",
       "      <td>0.0</td>\n",
       "      <td>0.0</td>\n",
       "      <td>0.0</td>\n",
       "      <td>0.0</td>\n",
       "      <td>0.0</td>\n",
       "      <td>0.0</td>\n",
       "      <td>0.0</td>\n",
       "      <td>0.0</td>\n",
       "    </tr>\n",
       "    <tr>\n",
       "      <th>25200.0</th>\n",
       "      <td>0.7997</td>\n",
       "      <td>0.000000</td>\n",
       "      <td>0.0</td>\n",
       "      <td>0.116212</td>\n",
       "      <td>0.0</td>\n",
       "      <td>0.0</td>\n",
       "      <td>0.0</td>\n",
       "      <td>0.0</td>\n",
       "      <td>0.0</td>\n",
       "      <td>0.012823</td>\n",
       "      <td>...</td>\n",
       "      <td>0.0</td>\n",
       "      <td>0.0</td>\n",
       "      <td>0.0</td>\n",
       "      <td>0.0</td>\n",
       "      <td>0.0</td>\n",
       "      <td>0.0</td>\n",
       "      <td>0.0</td>\n",
       "      <td>0.0</td>\n",
       "      <td>0.0</td>\n",
       "      <td>0.0</td>\n",
       "    </tr>\n",
       "    <tr>\n",
       "      <th>28800.0</th>\n",
       "      <td>0.7216</td>\n",
       "      <td>0.000000</td>\n",
       "      <td>0.0</td>\n",
       "      <td>0.114509</td>\n",
       "      <td>0.0</td>\n",
       "      <td>0.0</td>\n",
       "      <td>0.0</td>\n",
       "      <td>0.0</td>\n",
       "      <td>0.0</td>\n",
       "      <td>0.011505</td>\n",
       "      <td>...</td>\n",
       "      <td>0.0</td>\n",
       "      <td>0.0</td>\n",
       "      <td>0.0</td>\n",
       "      <td>0.0</td>\n",
       "      <td>0.0</td>\n",
       "      <td>0.0</td>\n",
       "      <td>0.0</td>\n",
       "      <td>0.0</td>\n",
       "      <td>0.0</td>\n",
       "      <td>0.0</td>\n",
       "    </tr>\n",
       "    <tr>\n",
       "      <th>32400.0</th>\n",
       "      <td>0.8210</td>\n",
       "      <td>0.000000</td>\n",
       "      <td>0.0</td>\n",
       "      <td>0.115140</td>\n",
       "      <td>0.0</td>\n",
       "      <td>0.0</td>\n",
       "      <td>0.0</td>\n",
       "      <td>0.0</td>\n",
       "      <td>0.0</td>\n",
       "      <td>0.013182</td>\n",
       "      <td>...</td>\n",
       "      <td>0.0</td>\n",
       "      <td>0.0</td>\n",
       "      <td>0.0</td>\n",
       "      <td>0.0</td>\n",
       "      <td>0.0</td>\n",
       "      <td>0.0</td>\n",
       "      <td>0.0</td>\n",
       "      <td>0.0</td>\n",
       "      <td>0.0</td>\n",
       "      <td>0.0</td>\n",
       "    </tr>\n",
       "    <tr>\n",
       "      <th>36000.0</th>\n",
       "      <td>0.8068</td>\n",
       "      <td>0.000000</td>\n",
       "      <td>0.0</td>\n",
       "      <td>0.117095</td>\n",
       "      <td>0.0</td>\n",
       "      <td>0.0</td>\n",
       "      <td>0.0</td>\n",
       "      <td>0.0</td>\n",
       "      <td>0.0</td>\n",
       "      <td>0.012943</td>\n",
       "      <td>...</td>\n",
       "      <td>0.0</td>\n",
       "      <td>0.0</td>\n",
       "      <td>0.0</td>\n",
       "      <td>0.0</td>\n",
       "      <td>0.0</td>\n",
       "      <td>0.0</td>\n",
       "      <td>0.0</td>\n",
       "      <td>0.0</td>\n",
       "      <td>0.0</td>\n",
       "      <td>0.0</td>\n",
       "    </tr>\n",
       "    <tr>\n",
       "      <th>39600.0</th>\n",
       "      <td>0.8849</td>\n",
       "      <td>0.022712</td>\n",
       "      <td>0.0</td>\n",
       "      <td>0.113625</td>\n",
       "      <td>0.0</td>\n",
       "      <td>0.0</td>\n",
       "      <td>0.0</td>\n",
       "      <td>0.0</td>\n",
       "      <td>0.0</td>\n",
       "      <td>0.014261</td>\n",
       "      <td>...</td>\n",
       "      <td>0.0</td>\n",
       "      <td>0.0</td>\n",
       "      <td>0.0</td>\n",
       "      <td>0.0</td>\n",
       "      <td>0.0</td>\n",
       "      <td>0.0</td>\n",
       "      <td>0.0</td>\n",
       "      <td>0.0</td>\n",
       "      <td>0.0</td>\n",
       "      <td>0.0</td>\n",
       "    </tr>\n",
       "    <tr>\n",
       "      <th>43200.0</th>\n",
       "      <td>0.8636</td>\n",
       "      <td>0.022712</td>\n",
       "      <td>0.0</td>\n",
       "      <td>0.114761</td>\n",
       "      <td>0.0</td>\n",
       "      <td>0.0</td>\n",
       "      <td>0.0</td>\n",
       "      <td>0.0</td>\n",
       "      <td>0.0</td>\n",
       "      <td>0.013901</td>\n",
       "      <td>...</td>\n",
       "      <td>0.0</td>\n",
       "      <td>0.0</td>\n",
       "      <td>0.0</td>\n",
       "      <td>0.0</td>\n",
       "      <td>0.0</td>\n",
       "      <td>0.0</td>\n",
       "      <td>0.0</td>\n",
       "      <td>0.0</td>\n",
       "      <td>0.0</td>\n",
       "      <td>0.0</td>\n",
       "    </tr>\n",
       "    <tr>\n",
       "      <th>46800.0</th>\n",
       "      <td>0.8068</td>\n",
       "      <td>0.022712</td>\n",
       "      <td>0.0</td>\n",
       "      <td>0.109335</td>\n",
       "      <td>0.0</td>\n",
       "      <td>0.0</td>\n",
       "      <td>0.0</td>\n",
       "      <td>0.0</td>\n",
       "      <td>0.0</td>\n",
       "      <td>0.012943</td>\n",
       "      <td>...</td>\n",
       "      <td>0.0</td>\n",
       "      <td>0.0</td>\n",
       "      <td>0.0</td>\n",
       "      <td>0.0</td>\n",
       "      <td>0.0</td>\n",
       "      <td>0.0</td>\n",
       "      <td>0.0</td>\n",
       "      <td>0.0</td>\n",
       "      <td>0.0</td>\n",
       "      <td>0.0</td>\n",
       "    </tr>\n",
       "    <tr>\n",
       "      <th>50400.0</th>\n",
       "      <td>0.7216</td>\n",
       "      <td>0.022712</td>\n",
       "      <td>0.0</td>\n",
       "      <td>0.104982</td>\n",
       "      <td>0.0</td>\n",
       "      <td>0.0</td>\n",
       "      <td>0.0</td>\n",
       "      <td>0.0</td>\n",
       "      <td>0.0</td>\n",
       "      <td>0.011505</td>\n",
       "      <td>...</td>\n",
       "      <td>0.0</td>\n",
       "      <td>0.0</td>\n",
       "      <td>0.0</td>\n",
       "      <td>0.0</td>\n",
       "      <td>0.0</td>\n",
       "      <td>0.0</td>\n",
       "      <td>0.0</td>\n",
       "      <td>0.0</td>\n",
       "      <td>0.0</td>\n",
       "      <td>0.0</td>\n",
       "    </tr>\n",
       "    <tr>\n",
       "      <th>54000.0</th>\n",
       "      <td>0.6293</td>\n",
       "      <td>0.022712</td>\n",
       "      <td>0.0</td>\n",
       "      <td>0.102206</td>\n",
       "      <td>0.0</td>\n",
       "      <td>0.0</td>\n",
       "      <td>0.0</td>\n",
       "      <td>0.0</td>\n",
       "      <td>0.0</td>\n",
       "      <td>0.009947</td>\n",
       "      <td>...</td>\n",
       "      <td>0.0</td>\n",
       "      <td>0.0</td>\n",
       "      <td>0.0</td>\n",
       "      <td>0.0</td>\n",
       "      <td>0.0</td>\n",
       "      <td>0.0</td>\n",
       "      <td>0.0</td>\n",
       "      <td>0.0</td>\n",
       "      <td>0.0</td>\n",
       "      <td>0.0</td>\n",
       "    </tr>\n",
       "    <tr>\n",
       "      <th>57600.0</th>\n",
       "      <td>0.6009</td>\n",
       "      <td>0.000000</td>\n",
       "      <td>0.0</td>\n",
       "      <td>0.101764</td>\n",
       "      <td>0.0</td>\n",
       "      <td>0.0</td>\n",
       "      <td>0.0</td>\n",
       "      <td>0.0</td>\n",
       "      <td>0.0</td>\n",
       "      <td>0.009467</td>\n",
       "      <td>...</td>\n",
       "      <td>0.0</td>\n",
       "      <td>0.0</td>\n",
       "      <td>0.0</td>\n",
       "      <td>0.0</td>\n",
       "      <td>0.0</td>\n",
       "      <td>0.0</td>\n",
       "      <td>0.0</td>\n",
       "      <td>0.0</td>\n",
       "      <td>0.0</td>\n",
       "      <td>0.0</td>\n",
       "    </tr>\n",
       "    <tr>\n",
       "      <th>61200.0</th>\n",
       "      <td>0.5654</td>\n",
       "      <td>0.000000</td>\n",
       "      <td>0.0</td>\n",
       "      <td>0.102206</td>\n",
       "      <td>0.0</td>\n",
       "      <td>0.0</td>\n",
       "      <td>0.0</td>\n",
       "      <td>0.0</td>\n",
       "      <td>0.0</td>\n",
       "      <td>0.008868</td>\n",
       "      <td>...</td>\n",
       "      <td>0.0</td>\n",
       "      <td>0.0</td>\n",
       "      <td>0.0</td>\n",
       "      <td>0.0</td>\n",
       "      <td>0.0</td>\n",
       "      <td>0.0</td>\n",
       "      <td>0.0</td>\n",
       "      <td>0.0</td>\n",
       "      <td>0.0</td>\n",
       "      <td>0.0</td>\n",
       "    </tr>\n",
       "    <tr>\n",
       "      <th>64800.0</th>\n",
       "      <td>0.4944</td>\n",
       "      <td>0.000000</td>\n",
       "      <td>0.0</td>\n",
       "      <td>0.101954</td>\n",
       "      <td>0.0</td>\n",
       "      <td>0.0</td>\n",
       "      <td>0.0</td>\n",
       "      <td>0.0</td>\n",
       "      <td>0.0</td>\n",
       "      <td>0.007670</td>\n",
       "      <td>...</td>\n",
       "      <td>0.0</td>\n",
       "      <td>0.0</td>\n",
       "      <td>0.0</td>\n",
       "      <td>0.0</td>\n",
       "      <td>0.0</td>\n",
       "      <td>0.0</td>\n",
       "      <td>0.0</td>\n",
       "      <td>0.0</td>\n",
       "      <td>0.0</td>\n",
       "      <td>0.0</td>\n",
       "    </tr>\n",
       "    <tr>\n",
       "      <th>68400.0</th>\n",
       "      <td>0.4944</td>\n",
       "      <td>0.000000</td>\n",
       "      <td>0.0</td>\n",
       "      <td>0.103910</td>\n",
       "      <td>0.0</td>\n",
       "      <td>0.0</td>\n",
       "      <td>0.0</td>\n",
       "      <td>0.0</td>\n",
       "      <td>0.0</td>\n",
       "      <td>0.007670</td>\n",
       "      <td>...</td>\n",
       "      <td>0.0</td>\n",
       "      <td>0.0</td>\n",
       "      <td>0.0</td>\n",
       "      <td>0.0</td>\n",
       "      <td>0.0</td>\n",
       "      <td>0.0</td>\n",
       "      <td>0.0</td>\n",
       "      <td>0.0</td>\n",
       "      <td>0.0</td>\n",
       "      <td>0.0</td>\n",
       "    </tr>\n",
       "    <tr>\n",
       "      <th>72000.0</th>\n",
       "      <td>0.6435</td>\n",
       "      <td>0.000000</td>\n",
       "      <td>0.0</td>\n",
       "      <td>0.102648</td>\n",
       "      <td>0.0</td>\n",
       "      <td>0.0</td>\n",
       "      <td>0.0</td>\n",
       "      <td>0.0</td>\n",
       "      <td>0.0</td>\n",
       "      <td>0.010186</td>\n",
       "      <td>...</td>\n",
       "      <td>0.0</td>\n",
       "      <td>0.0</td>\n",
       "      <td>0.0</td>\n",
       "      <td>0.0</td>\n",
       "      <td>0.0</td>\n",
       "      <td>0.0</td>\n",
       "      <td>0.0</td>\n",
       "      <td>0.0</td>\n",
       "      <td>0.0</td>\n",
       "      <td>0.0</td>\n",
       "    </tr>\n",
       "    <tr>\n",
       "      <th>75600.0</th>\n",
       "      <td>0.7216</td>\n",
       "      <td>0.000000</td>\n",
       "      <td>0.0</td>\n",
       "      <td>0.102648</td>\n",
       "      <td>0.0</td>\n",
       "      <td>0.0</td>\n",
       "      <td>0.0</td>\n",
       "      <td>0.0</td>\n",
       "      <td>0.0</td>\n",
       "      <td>0.011505</td>\n",
       "      <td>...</td>\n",
       "      <td>0.0</td>\n",
       "      <td>0.0</td>\n",
       "      <td>0.0</td>\n",
       "      <td>0.0</td>\n",
       "      <td>0.0</td>\n",
       "      <td>0.0</td>\n",
       "      <td>0.0</td>\n",
       "      <td>0.0</td>\n",
       "      <td>0.0</td>\n",
       "      <td>0.0</td>\n",
       "    </tr>\n",
       "    <tr>\n",
       "      <th>79200.0</th>\n",
       "      <td>0.9204</td>\n",
       "      <td>0.022712</td>\n",
       "      <td>0.0</td>\n",
       "      <td>0.105424</td>\n",
       "      <td>0.0</td>\n",
       "      <td>0.0</td>\n",
       "      <td>0.0</td>\n",
       "      <td>0.0</td>\n",
       "      <td>0.0</td>\n",
       "      <td>0.014860</td>\n",
       "      <td>...</td>\n",
       "      <td>0.0</td>\n",
       "      <td>0.0</td>\n",
       "      <td>0.0</td>\n",
       "      <td>0.0</td>\n",
       "      <td>0.0</td>\n",
       "      <td>0.0</td>\n",
       "      <td>0.0</td>\n",
       "      <td>0.0</td>\n",
       "      <td>0.0</td>\n",
       "      <td>0.0</td>\n",
       "    </tr>\n",
       "    <tr>\n",
       "      <th>82800.0</th>\n",
       "      <td>1.2257</td>\n",
       "      <td>0.022712</td>\n",
       "      <td>0.0</td>\n",
       "      <td>0.105234</td>\n",
       "      <td>0.0</td>\n",
       "      <td>0.0</td>\n",
       "      <td>0.0</td>\n",
       "      <td>0.0</td>\n",
       "      <td>0.0</td>\n",
       "      <td>0.020013</td>\n",
       "      <td>...</td>\n",
       "      <td>0.0</td>\n",
       "      <td>0.0</td>\n",
       "      <td>0.0</td>\n",
       "      <td>0.0</td>\n",
       "      <td>0.0</td>\n",
       "      <td>0.0</td>\n",
       "      <td>0.0</td>\n",
       "      <td>0.0</td>\n",
       "      <td>0.0</td>\n",
       "      <td>0.0</td>\n",
       "    </tr>\n",
       "    <tr>\n",
       "      <th>86400.0</th>\n",
       "      <td>0.9914</td>\n",
       "      <td>0.039116</td>\n",
       "      <td>0.0</td>\n",
       "      <td>0.103279</td>\n",
       "      <td>0.0</td>\n",
       "      <td>0.0</td>\n",
       "      <td>0.0</td>\n",
       "      <td>0.0</td>\n",
       "      <td>0.0</td>\n",
       "      <td>0.016059</td>\n",
       "      <td>...</td>\n",
       "      <td>0.0</td>\n",
       "      <td>0.0</td>\n",
       "      <td>0.0</td>\n",
       "      <td>0.0</td>\n",
       "      <td>0.0</td>\n",
       "      <td>0.0</td>\n",
       "      <td>0.0</td>\n",
       "      <td>0.0</td>\n",
       "      <td>0.0</td>\n",
       "      <td>0.0</td>\n",
       "    </tr>\n",
       "  </tbody>\n",
       "</table>\n",
       "<p>25 rows × 92 columns</p>\n",
       "</div>"
      ],
      "text/plain": [
       "             10        15   20        35   40   50   60  601   61       101  \\\n",
       "0.0      0.9914  0.039116  0.0  0.103279  0.0  0.0  0.0  0.0  0.0  0.016059   \n",
       "3600.0   1.4174  0.039116  0.0  0.107632  0.0  0.0  0.0  0.0  0.0  0.023249   \n",
       "7200.0   1.0766  0.039116  0.0  0.108452  0.0  0.0  0.0  0.0  0.0  0.017497   \n",
       "10800.0  1.0624  0.039116  0.0  0.108452  0.0  0.0  0.0  0.0  0.0  0.017257   \n",
       "14400.0  0.5796  0.039116  0.0  0.112995  0.0  0.0  0.0  0.0  0.0  0.009108   \n",
       "18000.0  0.6932  0.022712  0.0  0.114761  0.0  0.0  0.0  0.0  0.0  0.011025   \n",
       "21600.0  0.6435  0.022712  0.0  0.112111  0.0  0.0  0.0  0.0  0.0  0.010186   \n",
       "25200.0  0.7997  0.000000  0.0  0.116212  0.0  0.0  0.0  0.0  0.0  0.012823   \n",
       "28800.0  0.7216  0.000000  0.0  0.114509  0.0  0.0  0.0  0.0  0.0  0.011505   \n",
       "32400.0  0.8210  0.000000  0.0  0.115140  0.0  0.0  0.0  0.0  0.0  0.013182   \n",
       "36000.0  0.8068  0.000000  0.0  0.117095  0.0  0.0  0.0  0.0  0.0  0.012943   \n",
       "39600.0  0.8849  0.022712  0.0  0.113625  0.0  0.0  0.0  0.0  0.0  0.014261   \n",
       "43200.0  0.8636  0.022712  0.0  0.114761  0.0  0.0  0.0  0.0  0.0  0.013901   \n",
       "46800.0  0.8068  0.022712  0.0  0.109335  0.0  0.0  0.0  0.0  0.0  0.012943   \n",
       "50400.0  0.7216  0.022712  0.0  0.104982  0.0  0.0  0.0  0.0  0.0  0.011505   \n",
       "54000.0  0.6293  0.022712  0.0  0.102206  0.0  0.0  0.0  0.0  0.0  0.009947   \n",
       "57600.0  0.6009  0.000000  0.0  0.101764  0.0  0.0  0.0  0.0  0.0  0.009467   \n",
       "61200.0  0.5654  0.000000  0.0  0.102206  0.0  0.0  0.0  0.0  0.0  0.008868   \n",
       "64800.0  0.4944  0.000000  0.0  0.101954  0.0  0.0  0.0  0.0  0.0  0.007670   \n",
       "68400.0  0.4944  0.000000  0.0  0.103910  0.0  0.0  0.0  0.0  0.0  0.007670   \n",
       "72000.0  0.6435  0.000000  0.0  0.102648  0.0  0.0  0.0  0.0  0.0  0.010186   \n",
       "75600.0  0.7216  0.000000  0.0  0.102648  0.0  0.0  0.0  0.0  0.0  0.011505   \n",
       "79200.0  0.9204  0.022712  0.0  0.105424  0.0  0.0  0.0  0.0  0.0  0.014860   \n",
       "82800.0  1.2257  0.022712  0.0  0.105234  0.0  0.0  0.0  0.0  0.0  0.020013   \n",
       "86400.0  0.9914  0.039116  0.0  0.103279  0.0  0.0  0.0  0.0  0.0  0.016059   \n",
       "\n",
       "         ...  257  259  261  263  265  267  269  271  273  275  \n",
       "0.0      ...  0.0  0.0  0.0  0.0  0.0  0.0  0.0  0.0  0.0  0.0  \n",
       "3600.0   ...  0.0  0.0  0.0  0.0  0.0  0.0  0.0  0.0  0.0  0.0  \n",
       "7200.0   ...  0.0  0.0  0.0  0.0  0.0  0.0  0.0  0.0  0.0  0.0  \n",
       "10800.0  ...  0.0  0.0  0.0  0.0  0.0  0.0  0.0  0.0  0.0  0.0  \n",
       "14400.0  ...  0.0  0.0  0.0  0.0  0.0  0.0  0.0  0.0  0.0  0.0  \n",
       "18000.0  ...  0.0  0.0  0.0  0.0  0.0  0.0  0.0  0.0  0.0  0.0  \n",
       "21600.0  ...  0.0  0.0  0.0  0.0  0.0  0.0  0.0  0.0  0.0  0.0  \n",
       "25200.0  ...  0.0  0.0  0.0  0.0  0.0  0.0  0.0  0.0  0.0  0.0  \n",
       "28800.0  ...  0.0  0.0  0.0  0.0  0.0  0.0  0.0  0.0  0.0  0.0  \n",
       "32400.0  ...  0.0  0.0  0.0  0.0  0.0  0.0  0.0  0.0  0.0  0.0  \n",
       "36000.0  ...  0.0  0.0  0.0  0.0  0.0  0.0  0.0  0.0  0.0  0.0  \n",
       "39600.0  ...  0.0  0.0  0.0  0.0  0.0  0.0  0.0  0.0  0.0  0.0  \n",
       "43200.0  ...  0.0  0.0  0.0  0.0  0.0  0.0  0.0  0.0  0.0  0.0  \n",
       "46800.0  ...  0.0  0.0  0.0  0.0  0.0  0.0  0.0  0.0  0.0  0.0  \n",
       "50400.0  ...  0.0  0.0  0.0  0.0  0.0  0.0  0.0  0.0  0.0  0.0  \n",
       "54000.0  ...  0.0  0.0  0.0  0.0  0.0  0.0  0.0  0.0  0.0  0.0  \n",
       "57600.0  ...  0.0  0.0  0.0  0.0  0.0  0.0  0.0  0.0  0.0  0.0  \n",
       "61200.0  ...  0.0  0.0  0.0  0.0  0.0  0.0  0.0  0.0  0.0  0.0  \n",
       "64800.0  ...  0.0  0.0  0.0  0.0  0.0  0.0  0.0  0.0  0.0  0.0  \n",
       "68400.0  ...  0.0  0.0  0.0  0.0  0.0  0.0  0.0  0.0  0.0  0.0  \n",
       "72000.0  ...  0.0  0.0  0.0  0.0  0.0  0.0  0.0  0.0  0.0  0.0  \n",
       "75600.0  ...  0.0  0.0  0.0  0.0  0.0  0.0  0.0  0.0  0.0  0.0  \n",
       "79200.0  ...  0.0  0.0  0.0  0.0  0.0  0.0  0.0  0.0  0.0  0.0  \n",
       "82800.0  ...  0.0  0.0  0.0  0.0  0.0  0.0  0.0  0.0  0.0  0.0  \n",
       "86400.0  ...  0.0  0.0  0.0  0.0  0.0  0.0  0.0  0.0  0.0  0.0  \n",
       "\n",
       "[25 rows x 92 columns]"
      ]
     },
     "execution_count": 88,
     "metadata": {},
     "output_type": "execute_result"
    }
   ],
   "source": [
    "expectedDemand"
   ]
  },
  {
   "cell_type": "code",
   "execution_count": 89,
   "id": "54960996-0323-4444-9202-d00f55b412a7",
   "metadata": {},
   "outputs": [],
   "source": [
    "AvgexpectedDemand=wntr.metrics.average_expected_demand(wn)"
   ]
  },
  {
   "cell_type": "code",
   "execution_count": 90,
   "id": "4a74394e-21ea-4734-93f3-075546726001",
   "metadata": {},
   "outputs": [
    {
     "data": {
      "text/plain": [
       "10     0.799404\n",
       "15     0.016666\n",
       "20     0.000000\n",
       "35     0.108389\n",
       "40     0.000000\n",
       "         ...   \n",
       "267    0.000000\n",
       "269    0.000000\n",
       "271    0.000000\n",
       "273    0.000000\n",
       "275    0.000000\n",
       "Length: 92, dtype: float64"
      ]
     },
     "execution_count": 90,
     "metadata": {},
     "output_type": "execute_result"
    }
   ],
   "source": [
    "AvgexpectedDemand"
   ]
  },
  {
   "cell_type": "code",
   "execution_count": 91,
   "id": "6ab8fc79-b079-4cbb-b0e2-632892512ba0",
   "metadata": {},
   "outputs": [
    {
     "data": {
      "text/plain": [
       "Index(['20', '40', '50', '60', '601', '61', '120', '129', '164', '169', '173',\n",
       "       '179', '181', '183', '184', '187', '195', '204', '206', '208', '241',\n",
       "       '249', '257', '259', '261', '263', '265', '267', '269', '271', '273',\n",
       "       '275'],\n",
       "      dtype='object')"
      ]
     },
     "execution_count": 91,
     "metadata": {},
     "output_type": "execute_result"
    }
   ],
   "source": [
    "AvgexpectedDemand[AvgexpectedDemand<=0].index"
   ]
  },
  {
   "cell_type": "code",
   "execution_count": 92,
   "id": "1a8a5bea-6fd0-4770-9404-cb30ceea31e2",
   "metadata": {},
   "outputs": [
    {
     "data": {
      "text/plain": [
       "<Demands: [<TimeSeries: base_value=6.30901964e-05, pattern_name='3', category='None'>]>"
      ]
     },
     "execution_count": 92,
     "metadata": {},
     "output_type": "execute_result"
    }
   ],
   "source": [
    "jun=wn.get_node('15')\n",
    "jun.demand_timeseries_list"
   ]
  },
  {
   "cell_type": "code",
   "execution_count": 93,
   "id": "e4e7fb03-4f70-48c3-8042-4eef35d9be92",
   "metadata": {},
   "outputs": [],
   "source": [
    "pattern=wn.get_pattern(jun.demand_timeseries_list[0].pattern_name)"
   ]
  },
  {
   "cell_type": "code",
   "execution_count": 94,
   "id": "d472bfcd-1ebf-4bf7-9588-9e879cbd445c",
   "metadata": {},
   "outputs": [
    {
     "data": {
      "text/plain": [
       "<Pattern '3', multipliers=array([620., 620., 620., 620., 620., 360., 360.,   0.,   0.,   0.,   0., 360., 360., 360., 360., 360.,   0.,   0.,   0.,   0.,   0.,   0., 360., 360.])>"
      ]
     },
     "execution_count": 94,
     "metadata": {},
     "output_type": "execute_result"
    }
   ],
   "source": [
    "pattern"
   ]
  },
  {
   "cell_type": "code",
   "execution_count": 95,
   "id": "7baaaa46-4563-4df9-9676-00b127fed1cd",
   "metadata": {},
   "outputs": [],
   "source": [
    "jun.demand_timeseries_list[0].base_value=9"
   ]
  },
  {
   "cell_type": "code",
   "execution_count": 96,
   "id": "9e8dd287-cc49-41a9-9b20-9445f207bff3",
   "metadata": {},
   "outputs": [
    {
     "data": {
      "text/plain": [
       "<Demands: [<TimeSeries: base_value=9, pattern_name='3', category='None'>]>"
      ]
     },
     "execution_count": 96,
     "metadata": {},
     "output_type": "execute_result"
    }
   ],
   "source": [
    "jun.demand_timeseries_list"
   ]
  },
  {
   "cell_type": "code",
   "execution_count": 98,
   "id": "545e7295-4d2a-4852-b975-3641d0ec303e",
   "metadata": {},
   "outputs": [],
   "source": [
    "wn.add_pattern('Newpattern2',[1,1,1])"
   ]
  },
  {
   "cell_type": "code",
   "execution_count": 99,
   "id": "b390391e-2c59-4dff-bb6d-2f2b4bfd6e74",
   "metadata": {},
   "outputs": [],
   "source": [
    "jun.demand_timeseries_list[0].pattern_name='Newpattern'"
   ]
  },
  {
   "cell_type": "code",
   "execution_count": 100,
   "id": "976e2c2b-b8f7-4098-97bb-12b1f8103a37",
   "metadata": {},
   "outputs": [],
   "source": [
    "pattern=wn.get_pattern(jun.demand_timeseries_list[0].pattern_name)"
   ]
  },
  {
   "cell_type": "code",
   "execution_count": 101,
   "id": "2f131d6d-8616-4a3c-9cbe-1248c269c0d1",
   "metadata": {},
   "outputs": [
    {
     "data": {
      "text/plain": [
       "<Pattern 'Newpattern', multipliers=array([1., 1., 1.])>"
      ]
     },
     "execution_count": 101,
     "metadata": {},
     "output_type": "execute_result"
    }
   ],
   "source": [
    "pattern"
   ]
  },
  {
   "cell_type": "code",
   "execution_count": 102,
   "id": "1a5348e6-08c1-4ad8-b800-f880b57618c7",
   "metadata": {},
   "outputs": [],
   "source": [
    "jun.demand_timeseries_list[0].base_value=0.01"
   ]
  },
  {
   "cell_type": "code",
   "execution_count": 103,
   "id": "91b705c1-d2da-499c-a134-6f126252d663",
   "metadata": {},
   "outputs": [],
   "source": [
    "jun.demand_timeseries_list[0].pattern_name='New Pattern'"
   ]
  },
  {
   "cell_type": "code",
   "execution_count": 104,
   "id": "b284f020-e4a2-49be-9f10-fb23668c134c",
   "metadata": {},
   "outputs": [
    {
     "name": "stdout",
     "output_type": "stream",
     "text": [
      "Help on method add_demand in module wntr.network.elements:\n",
      "\n",
      "add_demand(base, pattern_name, category=None) method of wntr.network.elements.Junction instance\n",
      "    Add a new demand entry to the Junction\n",
      "    \n",
      "    Parameters\n",
      "    ----------\n",
      "    base : float\n",
      "        The base demand value for this new entry\n",
      "    pattern_name : str or None\n",
      "        The name of the pattern to use or ``None`` for a constant value\n",
      "    category : str, optional\n",
      "        A category name for this demand\n",
      "\n"
     ]
    }
   ],
   "source": [
    "help(jun.add_demand)"
   ]
  },
  {
   "cell_type": "code",
   "execution_count": 105,
   "id": "07734b91-1aaf-4775-a314-aceb84ff0a65",
   "metadata": {},
   "outputs": [],
   "source": [
    "jun.add_demand(base=0.7,pattern_name='1')"
   ]
  },
  {
   "cell_type": "code",
   "execution_count": 106,
   "id": "548160cd-92e2-4a3b-bef2-731bde970676",
   "metadata": {},
   "outputs": [],
   "source": [
    "newexpecteddemand=wntr.metrics.expected_demand(wn)"
   ]
  },
  {
   "cell_type": "code",
   "execution_count": 108,
   "id": "198a5625-fabf-44e2-8d09-b8ee92f88a68",
   "metadata": {},
   "outputs": [
    {
     "data": {
      "text/plain": [
       "<matplotlib.legend.Legend at 0x7274d14c5dd0>"
      ]
     },
     "execution_count": 108,
     "metadata": {},
     "output_type": "execute_result"
    },
    {
     "data": {
      "image/png": "[encoded data removed]",
      "text/plain": [
       "<Figure size 640x480 with 1 Axes>"
      ]
     },
     "metadata": {},
     "output_type": "display_data"
    }
   ],
   "source": [
    "plt.figure()\n",
    "x=expectedDemand.loc[0:48*3600,'15'].plot()\n",
    "newexpecteddemand.loc[0:48*3600,'15'].plot(x=x)\n",
    "x.set_xlabel('Time(s)')\n",
    "x.set_ylabel('Expected Demand')\n",
    "plt.legend()"
   ]
  },
  {
   "cell_type": "markdown",
   "id": "3d417391-c33a-4ad9-9576-17f977c8208d",
   "metadata": {},
   "source": [
    "## Curves "
   ]
  },
  {
   "cell_type": "code",
   "execution_count": 109,
   "id": "ee818c02-e904-485c-85ed-149c17841e84",
   "metadata": {},
   "outputs": [],
   "source": [
    "pump=wn.get_link('10')"
   ]
  },
  {
   "cell_type": "code",
   "execution_count": 110,
   "id": "872c4516-ce7a-4cfe-977e-9483f7057c74",
   "metadata": {},
   "outputs": [
    {
     "data": {
      "text/plain": [
       "<Pump '10' from 'Lake' to '10', pump_type='HEAD', pump_curve=1, speed=<TimeSeries: base_value=1.0, pattern_name=None, category='None'>, status=Closed>"
      ]
     },
     "execution_count": 110,
     "metadata": {},
     "output_type": "execute_result"
    }
   ],
   "source": [
    "pump"
   ]
  },
  {
   "cell_type": "code",
   "execution_count": 111,
   "id": "014ba4ef-92aa-499f-aa1e-d400fe5cbd1e",
   "metadata": {},
   "outputs": [],
   "source": [
    "from epyt import epanet"
   ]
  },
  {
   "cell_type": "code",
   "execution_count": 112,
   "id": "649cd5dc-f125-42be-a2b4-5e1e37611ae5",
   "metadata": {},
   "outputs": [
    {
     "name": "stdout",
     "output_type": "stream",
     "text": [
      "EPANET version 20200 loaded (EPyT version 1.1.8).\n",
      "Input File Net3.inp loaded successfully.\n",
      "\n"
     ]
    }
   ],
   "source": [
    "d=epanet('Net3.inp')"
   ]
  },
  {
   "cell_type": "code",
   "execution_count": 114,
   "id": "56161bc7-9208-4e0d-a528-69ad8122c38b",
   "metadata": {},
   "outputs": [
    {
     "data": {
      "text/plain": [
       "['10', '335']"
      ]
     },
     "execution_count": 114,
     "metadata": {},
     "output_type": "execute_result"
    }
   ],
   "source": [
    "d.getLinkPumpNameID()"
   ]
  },
  {
   "cell_type": "code",
   "execution_count": 115,
   "id": "2665d3de-5175-4160-a645-8e734c2a4ce8",
   "metadata": {},
   "outputs": [
    {
     "name": "stdout",
     "output_type": "stream",
     "text": [
      "<class 'wntr.network.elements.HeadPump'>\n"
     ]
    }
   ],
   "source": [
    "print(type(pump))"
   ]
  },
  {
   "cell_type": "code",
   "execution_count": 116,
   "id": "1aa31ddd-e97f-4d1e-af4c-dfb929fa8fae",
   "metadata": {},
   "outputs": [
    {
     "name": "stderr",
     "output_type": "stream",
     "text": [
      "/home/wahab901278/anaconda3/lib/python3.11/site-packages/wntr/network/elements.py:1362: OptimizeWarning: Covariance of the parameters could not be estimated\n",
      "  coeff, cov = curve_fit(flow_vs_head_func, Q, H, [A0, B0, C0])\n"
     ]
    },
    {
     "data": {
      "image/png": "[encoded data removed]",
      "text/plain": [
       "<Figure size 800x400 with 1 Axes>"
      ]
     },
     "metadata": {},
     "output_type": "display_data"
    },
    {
     "data": {
      "text/plain": [
       "<Axes: title={'center': 'Pump curve'}, xlabel='Flow (m$^3$/s)', ylabel='Head (m)'>"
      ]
     },
     "execution_count": 116,
     "metadata": {},
     "output_type": "execute_result"
    }
   ],
   "source": [
    "wntr.graphics.plot_pump_curve(pump)"
   ]
  },
  {
   "cell_type": "code",
   "execution_count": 117,
   "id": "ee7b7ee5-661f-4542-97ee-433237205521",
   "metadata": {},
   "outputs": [],
   "source": [
    "pump_curve_name=pump.pump_curve_name"
   ]
  },
  {
   "cell_type": "code",
   "execution_count": 118,
   "id": "553ad6ea-c9a0-4466-94b4-6395ac51ddc3",
   "metadata": {},
   "outputs": [
    {
     "data": {
      "text/plain": [
       "[(0.0, 31.6992), (0.1261803928, 28.041600000000003), (0.2523607856, 19.2024)]"
      ]
     },
     "execution_count": 118,
     "metadata": {},
     "output_type": "execute_result"
    }
   ],
   "source": [
    "curve=wn.get_curve(pump_curve_name)\n",
    "curve.points"
   ]
  },
  {
   "cell_type": "code",
   "execution_count": 119,
   "id": "98124d32-5a40-439f-a74e-5797c971135c",
   "metadata": {},
   "outputs": [],
   "source": [
    "curve.points=[(0.0,5),(0.20,10),(0.40,2)]"
   ]
  },
  {
   "cell_type": "code",
   "execution_count": 120,
   "id": "47565aed-1324-4da0-ae39-1c1c822ea2e2",
   "metadata": {},
   "outputs": [
    {
     "data": {
      "image/png": "[encoded data removed]",
      "text/plain": [
       "<Figure size 800x400 with 1 Axes>"
      ]
     },
     "metadata": {},
     "output_type": "display_data"
    },
    {
     "data": {
      "text/plain": [
       "<Axes: title={'center': 'Pump curve'}, xlabel='Flow (m$^3$/s)', ylabel='Head (m)'>"
      ]
     },
     "execution_count": 120,
     "metadata": {},
     "output_type": "execute_result"
    }
   ],
   "source": [
    "wntr.graphics.plot_pump_curve(pump)"
   ]
  },
  {
   "cell_type": "code",
   "execution_count": 121,
   "id": "12885a68-b5c8-4b90-bf1b-bae483fa7329",
   "metadata": {},
   "outputs": [
    {
     "name": "stdout",
     "output_type": "stream",
     "text": [
      "Help on method add_curve in module wntr.network.model:\n",
      "\n",
      "add_curve(name, curve_type, xy_tuples_list) method of wntr.network.model.WaterNetworkModel instance\n",
      "    Adds a curve to the water network model\n",
      "    \n",
      "    Parameters\n",
      "    ----------\n",
      "    name : string\n",
      "        Name of the curve.\n",
      "    curve_type : string\n",
      "        Type of curve. Options are HEAD, EFFICIENCY, VOLUME, HEADLOSS.\n",
      "    xy_tuples_list : list of (x, y) tuples\n",
      "        List of X-Y coordinate tuples on the curve.\n",
      "\n"
     ]
    }
   ],
   "source": [
    "help(wn.add_curve)"
   ]
  },
  {
   "cell_type": "code",
   "execution_count": 137,
   "id": "04b1a549-bb21-49af-bce3-baf1f21ea0dd",
   "metadata": {},
   "outputs": [],
   "source": [
    "wn.add_curve('tank_curve','VOLUME',[(0.0, 31.6992), (0.1261803928, 28.041600000000003), (0.2523607856, 19.2024)])"
   ]
  },
  {
   "cell_type": "code",
   "execution_count": 138,
   "id": "9d861c61-5451-4a85-a1bf-dbb26c5049b9",
   "metadata": {},
   "outputs": [
    {
     "data": {
      "text/plain": [
       "[95, 96, 97]"
      ]
     },
     "execution_count": 138,
     "metadata": {},
     "output_type": "execute_result"
    }
   ],
   "source": [
    "d.getNodeTankIndex()"
   ]
  },
  {
   "cell_type": "code",
   "execution_count": 139,
   "id": "97fd9eeb-85ac-4f9e-aa11-b9221419d8e8",
   "metadata": {},
   "outputs": [],
   "source": [
    "tank=wn.get_node('2')"
   ]
  },
  {
   "cell_type": "code",
   "execution_count": 142,
   "id": "e5b7dd8b-f2ba-4db0-8d23-582df80ab22e",
   "metadata": {},
   "outputs": [],
   "source": [
    "tank.vol_curve_name='tank_curve'"
   ]
  },
  {
   "cell_type": "code",
   "execution_count": 143,
   "id": "40d6c365-3829-439a-ab23-1f684b487107",
   "metadata": {},
   "outputs": [
    {
     "name": "stderr",
     "output_type": "stream",
     "text": [
      "/home/wahab901278/anaconda3/lib/python3.11/site-packages/wntr/graphics/curve.py:211: RuntimeWarning: invalid value encountered in sqrt\n",
      "  dn = np.sqrt(4.0*(vol-vol0)/(np.pi * (lev-lev0)))\n",
      "/home/wahab901278/anaconda3/lib/python3.11/site-packages/wntr/graphics/curve.py:211: RuntimeWarning: invalid value encountered in sqrt\n",
      "  dn = np.sqrt(4.0*(vol-vol0)/(np.pi * (lev-lev0)))\n"
     ]
    },
    {
     "data": {
      "image/png": "[encoded data removed]",
      "text/plain": [
       "<Figure size 1200x400 with 2 Axes>"
      ]
     },
     "metadata": {},
     "output_type": "display_data"
    },
    {
     "data": {
      "text/plain": [
       "array([<Axes: title={'center': 'Tank volume curve'}, xlabel='Tank level (m)', ylabel='Tank volume (m$^3$)'>, <Axes: title={'center': 'Geometric tank profile'}, xlabel='Equivalent axisymmetric tank radius (m)', ylabel='Tank level (m)'>], dtype=object)"
      ]
     },
     "execution_count": 143,
     "metadata": {},
     "output_type": "execute_result"
    }
   ],
   "source": [
    "wntr.graphics.plot_tank_volume_curve(tank)"
   ]
  },
  {
   "cell_type": "markdown",
   "id": "9dd50734-0b24-48e3-b521-2fd41598c01b",
   "metadata": {},
   "source": [
    "## CONTROLS"
   ]
  },
  {
   "cell_type": "code",
   "execution_count": 145,
   "id": "dc7c96c2-efc4-4561-85a4-518c2ae39f10",
   "metadata": {},
   "outputs": [
    {
     "data": {
      "text/plain": [
       "['control 1', 'control 2', 'control 3', 'control 4', 'control 5', 'control 6']"
      ]
     },
     "execution_count": 145,
     "metadata": {},
     "output_type": "execute_result"
    }
   ],
   "source": [
    "wn.control_name_list"
   ]
  },
  {
   "cell_type": "code",
   "execution_count": 147,
   "id": "88ac4f40-8e98-444d-b536-cd82342ca4d0",
   "metadata": {},
   "outputs": [
    {
     "name": "stdout",
     "output_type": "stream",
     "text": [
      "control 1 IF SYSTEM TIME IS 01:00:00 THEN PUMP 10 STATUS IS OPEN PRIORITY 3\n",
      "control 2 IF SYSTEM TIME IS 15:00:00 THEN PUMP 10 STATUS IS CLOSED PRIORITY 3\n",
      "control 3 IF TANK 1 LEVEL BELOW 5.21208 THEN PUMP 335 STATUS IS OPEN PRIORITY 3\n",
      "control 4 IF TANK 1 LEVEL ABOVE 5.821680000000001 THEN PUMP 335 STATUS IS CLOSED PRIORITY 3\n",
      "control 5 IF TANK 1 LEVEL BELOW 5.21208 THEN PIPE 330 STATUS IS CLOSED PRIORITY 3\n",
      "control 6 IF TANK 1 LEVEL ABOVE 5.821680000000001 THEN PIPE 330 STATUS IS OPEN PRIORITY 3\n"
     ]
    }
   ],
   "source": [
    "for name, controls in  wn.controls():\n",
    "    print(name,controls)"
   ]
  },
  {
   "cell_type": "code",
   "execution_count": 149,
   "id": "8f370ce9-33d7-4795-bd94-949feeaa6fd6",
   "metadata": {},
   "outputs": [],
   "source": [
    "control=wn.get_control('control 6')"
   ]
  },
  {
   "cell_type": "code",
   "execution_count": 150,
   "id": "b32b7202-7738-4b41-b9a0-e42513d3af78",
   "metadata": {},
   "outputs": [
    {
     "name": "stdout",
     "output_type": "stream",
     "text": [
      "Help on ControlPriority in module wntr.network.controls object:\n",
      "\n",
      "class ControlPriority(enum.IntEnum)\n",
      " |  ControlPriority(value, names=None, *, module=None, qualname=None, type=None, start=1, boundary=None)\n",
      " |  \n",
      " |  An enum class for control priorities.\n",
      " |  \n",
      " |  .. rubric:: Enum Members\n",
      " |  \n",
      " |  ====================  =====================================================\n",
      " |  :attr:`~very_low`     very low priority\n",
      " |  :attr:`~low`          low priority\n",
      " |  :attr:`~medium_low`   medium low priority\n",
      " |  :attr:`~medium`       medium priority\n",
      " |  :attr:`~medium_high`  medium high priority\n",
      " |  :attr:`~high`         high priority\n",
      " |  :attr:`~very_high`    very high priority\n",
      " |  ====================  =====================================================\n",
      " |  \n",
      " |  Method resolution order:\n",
      " |      ControlPriority\n",
      " |      enum.IntEnum\n",
      " |      builtins.int\n",
      " |      enum.ReprEnum\n",
      " |      enum.Enum\n",
      " |      builtins.object\n",
      " |  \n",
      " |  Methods defined here:\n",
      " |  \n",
      " |  __format__(self, format_spec, /)\n",
      " |      Default object formatter.\n",
      " |  \n",
      " |  __new__(cls, value)\n",
      " |      Create and return a new object.  See help(type) for accurate signature.\n",
      " |  \n",
      " |  ----------------------------------------------------------------------\n",
      " |  Data and other attributes defined here:\n",
      " |  \n",
      " |  high = <ControlPriority.high: 5>\n",
      " |  \n",
      " |  low = <ControlPriority.low: 1>\n",
      " |  \n",
      " |  medium = <ControlPriority.medium: 3>\n",
      " |  \n",
      " |  medium_high = <ControlPriority.medium_high: 4>\n",
      " |  \n",
      " |  medium_low = <ControlPriority.medium_low: 2>\n",
      " |  \n",
      " |  very_high = <ControlPriority.very_high: 6>\n",
      " |  \n",
      " |  very_low = <ControlPriority.very_low: 0>\n",
      " |  \n",
      " |  ----------------------------------------------------------------------\n",
      " |  Methods inherited from enum.IntEnum:\n",
      " |  \n",
      " |  __repr__(self)\n",
      " |      Return repr(self).\n",
      " |  \n",
      " |  __str__ = __repr__(self, /)\n",
      " |      Return repr(self).\n",
      " |  \n",
      " |  ----------------------------------------------------------------------\n",
      " |  Methods inherited from builtins.int:\n",
      " |  \n",
      " |  __abs__(self, /)\n",
      " |      abs(self)\n",
      " |  \n",
      " |  __add__(self, value, /)\n",
      " |      Return self+value.\n",
      " |  \n",
      " |  __and__(self, value, /)\n",
      " |      Return self&value.\n",
      " |  \n",
      " |  __bool__(self, /)\n",
      " |      True if self else False\n",
      " |  \n",
      " |  __ceil__(...)\n",
      " |      Ceiling of an Integral returns itself.\n",
      " |  \n",
      " |  __divmod__(self, value, /)\n",
      " |      Return divmod(self, value).\n",
      " |  \n",
      " |  __eq__(self, value, /)\n",
      " |      Return self==value.\n",
      " |  \n",
      " |  __float__(self, /)\n",
      " |      float(self)\n",
      " |  \n",
      " |  __floor__(...)\n",
      " |      Flooring an Integral returns itself.\n",
      " |  \n",
      " |  __floordiv__(self, value, /)\n",
      " |      Return self//value.\n",
      " |  \n",
      " |  __ge__(self, value, /)\n",
      " |      Return self>=value.\n",
      " |  \n",
      " |  __getattribute__(self, name, /)\n",
      " |      Return getattr(self, name).\n",
      " |  \n",
      " |  __getnewargs__(self, /)\n",
      " |  \n",
      " |  __gt__(self, value, /)\n",
      " |      Return self>value.\n",
      " |  \n",
      " |  __hash__(self, /)\n",
      " |      Return hash(self).\n",
      " |  \n",
      " |  __index__(self, /)\n",
      " |      Return self converted to an integer, if self is suitable for use as an index into a list.\n",
      " |  \n",
      " |  __int__(self, /)\n",
      " |      int(self)\n",
      " |  \n",
      " |  __invert__(self, /)\n",
      " |      ~self\n",
      " |  \n",
      " |  __le__(self, value, /)\n",
      " |      Return self<=value.\n",
      " |  \n",
      " |  __lshift__(self, value, /)\n",
      " |      Return self<<value.\n",
      " |  \n",
      " |  __lt__(self, value, /)\n",
      " |      Return self<value.\n",
      " |  \n",
      " |  __mod__(self, value, /)\n",
      " |      Return self%value.\n",
      " |  \n",
      " |  __mul__(self, value, /)\n",
      " |      Return self*value.\n",
      " |  \n",
      " |  __ne__(self, value, /)\n",
      " |      Return self!=value.\n",
      " |  \n",
      " |  __neg__(self, /)\n",
      " |      -self\n",
      " |  \n",
      " |  __or__(self, value, /)\n",
      " |      Return self|value.\n",
      " |  \n",
      " |  __pos__(self, /)\n",
      " |      +self\n",
      " |  \n",
      " |  __pow__(self, value, mod=None, /)\n",
      " |      Return pow(self, value, mod).\n",
      " |  \n",
      " |  __radd__(self, value, /)\n",
      " |      Return value+self.\n",
      " |  \n",
      " |  __rand__(self, value, /)\n",
      " |      Return value&self.\n",
      " |  \n",
      " |  __rdivmod__(self, value, /)\n",
      " |      Return divmod(value, self).\n",
      " |  \n",
      " |  __rfloordiv__(self, value, /)\n",
      " |      Return value//self.\n",
      " |  \n",
      " |  __rlshift__(self, value, /)\n",
      " |      Return value<<self.\n",
      " |  \n",
      " |  __rmod__(self, value, /)\n",
      " |      Return value%self.\n",
      " |  \n",
      " |  __rmul__(self, value, /)\n",
      " |      Return value*self.\n",
      " |  \n",
      " |  __ror__(self, value, /)\n",
      " |      Return value|self.\n",
      " |  \n",
      " |  __round__(...)\n",
      " |      Rounding an Integral returns itself.\n",
      " |      \n",
      " |      Rounding with an ndigits argument also returns an integer.\n",
      " |  \n",
      " |  __rpow__(self, value, mod=None, /)\n",
      " |      Return pow(value, self, mod).\n",
      " |  \n",
      " |  __rrshift__(self, value, /)\n",
      " |      Return value>>self.\n",
      " |  \n",
      " |  __rshift__(self, value, /)\n",
      " |      Return self>>value.\n",
      " |  \n",
      " |  __rsub__(self, value, /)\n",
      " |      Return value-self.\n",
      " |  \n",
      " |  __rtruediv__(self, value, /)\n",
      " |      Return value/self.\n",
      " |  \n",
      " |  __rxor__(self, value, /)\n",
      " |      Return value^self.\n",
      " |  \n",
      " |  __sizeof__(self, /)\n",
      " |      Returns size in memory, in bytes.\n",
      " |  \n",
      " |  __sub__(self, value, /)\n",
      " |      Return self-value.\n",
      " |  \n",
      " |  __truediv__(self, value, /)\n",
      " |      Return self/value.\n",
      " |  \n",
      " |  __trunc__(...)\n",
      " |      Truncating an Integral returns itself.\n",
      " |  \n",
      " |  __xor__(self, value, /)\n",
      " |      Return self^value.\n",
      " |  \n",
      " |  as_integer_ratio(self, /)\n",
      " |      Return integer ratio.\n",
      " |      \n",
      " |      Return a pair of integers, whose ratio is exactly equal to the original int\n",
      " |      and with a positive denominator.\n",
      " |      \n",
      " |      >>> (10).as_integer_ratio()\n",
      " |      (10, 1)\n",
      " |      >>> (-10).as_integer_ratio()\n",
      " |      (-10, 1)\n",
      " |      >>> (0).as_integer_ratio()\n",
      " |      (0, 1)\n",
      " |  \n",
      " |  bit_count(self, /)\n",
      " |      Number of ones in the binary representation of the absolute value of self.\n",
      " |      \n",
      " |      Also known as the population count.\n",
      " |      \n",
      " |      >>> bin(13)\n",
      " |      '0b1101'\n",
      " |      >>> (13).bit_count()\n",
      " |      3\n",
      " |  \n",
      " |  bit_length(self, /)\n",
      " |      Number of bits necessary to represent self in binary.\n",
      " |      \n",
      " |      >>> bin(37)\n",
      " |      '0b100101'\n",
      " |      >>> (37).bit_length()\n",
      " |      6\n",
      " |  \n",
      " |  conjugate(...)\n",
      " |      Returns self, the complex conjugate of any int.\n",
      " |  \n",
      " |  to_bytes(self, /, length=1, byteorder='big', *, signed=False)\n",
      " |      Return an array of bytes representing an integer.\n",
      " |      \n",
      " |      length\n",
      " |        Length of bytes object to use.  An OverflowError is raised if the\n",
      " |        integer is not representable with the given number of bytes.  Default\n",
      " |        is length 1.\n",
      " |      byteorder\n",
      " |        The byte order used to represent the integer.  If byteorder is 'big',\n",
      " |        the most significant byte is at the beginning of the byte array.  If\n",
      " |        byteorder is 'little', the most significant byte is at the end of the\n",
      " |        byte array.  To request the native byte order of the host system, use\n",
      " |        `sys.byteorder' as the byte order value.  Default is to use 'big'.\n",
      " |      signed\n",
      " |        Determines whether two's complement is used to represent the integer.\n",
      " |        If signed is False and a negative integer is given, an OverflowError\n",
      " |        is raised.\n",
      " |  \n",
      " |  ----------------------------------------------------------------------\n",
      " |  Class methods inherited from builtins.int:\n",
      " |  \n",
      " |  from_bytes(bytes, byteorder='big', *, signed=False) from enum.EnumType\n",
      " |      Return the integer represented by the given array of bytes.\n",
      " |      \n",
      " |      bytes\n",
      " |        Holds the array of bytes to convert.  The argument must either\n",
      " |        support the buffer protocol or be an iterable object producing bytes.\n",
      " |        Bytes and bytearray are examples of built-in objects that support the\n",
      " |        buffer protocol.\n",
      " |      byteorder\n",
      " |        The byte order used to represent the integer.  If byteorder is 'big',\n",
      " |        the most significant byte is at the beginning of the byte array.  If\n",
      " |        byteorder is 'little', the most significant byte is at the end of the\n",
      " |        byte array.  To request the native byte order of the host system, use\n",
      " |        `sys.byteorder' as the byte order value.  Default is to use 'big'.\n",
      " |      signed\n",
      " |        Indicates whether two's complement is used to represent the integer.\n",
      " |  \n",
      " |  ----------------------------------------------------------------------\n",
      " |  Data descriptors inherited from builtins.int:\n",
      " |  \n",
      " |  denominator\n",
      " |      the denominator of a rational number in lowest terms\n",
      " |  \n",
      " |  imag\n",
      " |      the imaginary part of a complex number\n",
      " |  \n",
      " |  numerator\n",
      " |      the numerator of a rational number in lowest terms\n",
      " |  \n",
      " |  real\n",
      " |      the real part of a complex number\n",
      " |  \n",
      " |  ----------------------------------------------------------------------\n",
      " |  Methods inherited from enum.Enum:\n",
      " |  \n",
      " |  __dir__(self)\n",
      " |      Returns all members and all public methods\n",
      " |  \n",
      " |  __init__(self, *args, **kwds)\n",
      " |      Initialize self.  See help(type(self)) for accurate signature.\n",
      " |  \n",
      " |  __reduce_ex__(self, proto)\n",
      " |      Helper for pickle.\n",
      " |  \n",
      " |  ----------------------------------------------------------------------\n",
      " |  Data descriptors inherited from enum.Enum:\n",
      " |  \n",
      " |  name\n",
      " |      The name of the Enum member.\n",
      " |  \n",
      " |  value\n",
      " |      The value of the Enum member.\n",
      " |  \n",
      " |  ----------------------------------------------------------------------\n",
      " |  Methods inherited from enum.EnumType:\n",
      " |  \n",
      " |  __contains__(member) from enum.EnumType\n",
      " |      Return True if member is a member of this enum\n",
      " |      raises TypeError if member is not an enum member\n",
      " |      \n",
      " |      note: in 3.12 TypeError will no longer be raised, and True will also be\n",
      " |      returned if member is the value of a member in this enum\n",
      " |  \n",
      " |  __getitem__(name) from enum.EnumType\n",
      " |      Return the member matching `name`.\n",
      " |  \n",
      " |  __iter__() from enum.EnumType\n",
      " |      Return members in definition order.\n",
      " |  \n",
      " |  __len__() from enum.EnumType\n",
      " |      Return the number of members (no aliases)\n",
      " |  \n",
      " |  ----------------------------------------------------------------------\n",
      " |  Readonly properties inherited from enum.EnumType:\n",
      " |  \n",
      " |  __members__\n",
      " |      Returns a mapping of member name->value.\n",
      " |      \n",
      " |      This mapping lists all enum members, including aliases. Note that this\n",
      " |      is a read-only view of the internal mapping.\n",
      "\n"
     ]
    }
   ],
   "source": [
    "help(control.priority)"
   ]
  },
  {
   "cell_type": "code",
   "execution_count": 153,
   "id": "5f7be61d-4498-4518-bf5d-523ff5a7fcc6",
   "metadata": {},
   "outputs": [],
   "source": [
    "control.update_priority(5)"
   ]
  },
  {
   "cell_type": "code",
   "execution_count": 154,
   "id": "1076d0c4-1810-46c4-843d-6fb9f85d462d",
   "metadata": {},
   "outputs": [
    {
     "data": {
      "text/plain": [
       "5"
      ]
     },
     "execution_count": 154,
     "metadata": {},
     "output_type": "execute_result"
    }
   ],
   "source": [
    "control.priority"
   ]
  },
  {
   "cell_type": "code",
   "execution_count": 155,
   "id": "1ce6e991-a9eb-418a-b977-2402ca3adf64",
   "metadata": {},
   "outputs": [],
   "source": [
    "pump=wn.get_link('335')"
   ]
  },
  {
   "cell_type": "code",
   "execution_count": 156,
   "id": "23fdd27f-c6ff-4d60-b8ce-29c96210560d",
   "metadata": {},
   "outputs": [
    {
     "name": "stdout",
     "output_type": "stream",
     "text": [
      "Help on class ControlAction in module wntr.network.controls:\n",
      "\n",
      "class ControlAction(BaseControlAction)\n",
      " |  ControlAction(target_obj, attribute, value)\n",
      " |  \n",
      " |  A general class for specifying a control action that simply modifies the attribute of an object (target).\n",
      " |  \n",
      " |  Parameters\n",
      " |  ----------\n",
      " |  target_obj : object\n",
      " |      The object whose attribute will be changed when the control runs.\n",
      " |  attribute : string\n",
      " |      The attribute that will be changed on the target_obj when the control runs.\n",
      " |  value : any\n",
      " |      The new value for target_obj.attribute when the control runs.\n",
      " |  \n",
      " |  Method resolution order:\n",
      " |      ControlAction\n",
      " |      BaseControlAction\n",
      " |      Subject\n",
      " |      builtins.object\n",
      " |  \n",
      " |  Methods defined here:\n",
      " |  \n",
      " |  __init__(self, target_obj, attribute, value)\n",
      " |      Initialize self.  See help(type(self)) for accurate signature.\n",
      " |  \n",
      " |  __repr__(self)\n",
      " |      Return repr(self).\n",
      " |  \n",
      " |  __str__(self)\n",
      " |      Return str(self).\n",
      " |  \n",
      " |  requires(self)\n",
      " |      Returns a set of objects used to evaluate the control\n",
      " |      \n",
      " |      Returns\n",
      " |      -------\n",
      " |      req: OrderedSet\n",
      " |          The objects required to run the control action.\n",
      " |  \n",
      " |  run_control_action(self)\n",
      " |      This method is called to run the corresponding control action.\n",
      " |  \n",
      " |  target(self)\n",
      " |      Returns a tuple (object, attribute) containing the object and attribute that the control action may change\n",
      " |      \n",
      " |      Returns\n",
      " |      -------\n",
      " |      target: tuple\n",
      " |          A tuple containing the target object and the attribute to be changed (target, attr).\n",
      " |  \n",
      " |  ----------------------------------------------------------------------\n",
      " |  Data and other attributes defined here:\n",
      " |  \n",
      " |  __abstractmethods__ = frozenset()\n",
      " |  \n",
      " |  ----------------------------------------------------------------------\n",
      " |  Methods inherited from Subject:\n",
      " |  \n",
      " |  notify(self)\n",
      " |      Call the update method for all observers of this subject.\n",
      " |  \n",
      " |  subscribe(self, observer)\n",
      " |      Subscribe observer to this subject. The update method of any observers of this subject will be called when\n",
      " |      notify is called on this subject.\n",
      " |      \n",
      " |      Parameters\n",
      " |      ----------\n",
      " |      observer: Observer\n",
      " |  \n",
      " |  unsubscribe(self, observer)\n",
      " |      Unsubscribe observer from this subject.\n",
      " |      \n",
      " |      Parameters\n",
      " |      ----------\n",
      " |      observer: Observer\n",
      " |  \n",
      " |  ----------------------------------------------------------------------\n",
      " |  Data descriptors inherited from Subject:\n",
      " |  \n",
      " |  __dict__\n",
      " |      dictionary for instance variables (if defined)\n",
      " |  \n",
      " |  __weakref__\n",
      " |      list of weak references to the object (if defined)\n",
      "\n"
     ]
    }
   ],
   "source": [
    "help(wntr.network.controls.ControlAction)"
   ]
  },
  {
   "cell_type": "code",
   "execution_count": 161,
   "id": "b6130c18-8d0b-4fc3-871d-2aa3ef033376",
   "metadata": {},
   "outputs": [],
   "source": [
    "action=wntr.network.controls.ControlAction(pump,'status',1)\n",
    "condition=wntr.network.controls.SimTimeCondition(wn,'=','40:00:00')\n",
    "control=wntr.network.controls.Control(condition,action,name='Contol n')\n",
    "wn.add_control('NewControl',control)"
   ]
  },
  {
   "cell_type": "code",
   "execution_count": 160,
   "id": "ea11a5d2-e64c-42ae-8696-4ecc8bf8a20b",
   "metadata": {},
   "outputs": [
    {
     "name": "stdout",
     "output_type": "stream",
     "text": [
      "Help on class Control in module wntr.network.controls:\n",
      "\n",
      "class Control(Rule)\n",
      " |  Control(condition, then_action: wntr.network.controls.BaseControlAction, priority=<ControlPriority.medium: 3>, name=None)\n",
      " |  \n",
      " |  A class for controls.\n",
      " |  \n",
      " |  Method resolution order:\n",
      " |      Control\n",
      " |      Rule\n",
      " |      ControlBase\n",
      " |      builtins.object\n",
      " |  \n",
      " |  Methods defined here:\n",
      " |  \n",
      " |  __init__(self, condition, then_action: wntr.network.controls.BaseControlAction, priority=<ControlPriority.medium: 3>, name=None)\n",
      " |      Parameters\n",
      " |      ----------\n",
      " |      condition: ControlCondition\n",
      " |          The condition that should be used to determine when the actions need to be activated. When the condition\n",
      " |          evaluates to True, the then_actions are activated. When the condition evaluates to False, the else_actions\n",
      " |          are activated.\n",
      " |      then_action: BaseControlAction\n",
      " |          The action that should be activated when the condition evaluates to True.\n",
      " |      priority: ControlPriority\n",
      " |          The priority of the control. Default is ControlPriority.medium\n",
      " |      name: str\n",
      " |          The name of the control\n",
      " |  \n",
      " |  ----------------------------------------------------------------------\n",
      " |  Data and other attributes defined here:\n",
      " |  \n",
      " |  __abstractmethods__ = frozenset()\n",
      " |  \n",
      " |  ----------------------------------------------------------------------\n",
      " |  Methods inherited from Rule:\n",
      " |  \n",
      " |  __repr__(self)\n",
      " |      Return repr(self).\n",
      " |  \n",
      " |  __str__(self)\n",
      " |      Return str(self).\n",
      " |  \n",
      " |  actions(self)\n",
      " |      Returns a list of all actions used by this control.\n",
      " |      \n",
      " |      Returns\n",
      " |      -------\n",
      " |      act: list of BaseControlAction\n",
      " |  \n",
      " |  is_control_action_required(self)\n",
      " |      This method is called to see if any action is required by this control object. This method returns a tuple\n",
      " |      that indicates if action is required (a bool) and a recommended time for the simulation to backup (in seconds\n",
      " |      as a positive int).\n",
      " |      \n",
      " |      Returns\n",
      " |      -------\n",
      " |      req: tuple\n",
      " |          A tuple (bool, int) indicating if an action should be run and how far to back up the simulation.\n",
      " |  \n",
      " |  requires(self)\n",
      " |      Returns a set of objects required for this control.\n",
      " |      \n",
      " |      Returns\n",
      " |      -------\n",
      " |      required_objects: OrderedSet of object\n",
      " |  \n",
      " |  run_control_action(self)\n",
      " |      This method is called to run the control action after a call to IsControlActionRequired indicates that an\n",
      " |      action is required.\n",
      " |  \n",
      " |  to_dict(self)\n",
      " |  \n",
      " |  update_condition(self, condition: wntr.network.controls.ControlCondition)\n",
      " |      Update the controls condition in place\n",
      " |      \n",
      " |      Parameters\n",
      " |      ----------\n",
      " |      condition : ControlCondition\n",
      " |          The new condition for this control to use\n",
      " |      \n",
      " |      Raises\n",
      " |      ------\n",
      " |      ValueError\n",
      " |          If the provided condition isn't a valid ControlCondition\n",
      " |  \n",
      " |  update_else_actions(self, else_actions: Iterable[wntr.network.controls.ControlAction])\n",
      " |      Update the controls else_actions in place\n",
      " |      \n",
      " |      Parameters\n",
      " |      ----------\n",
      " |      else_actions : Iterable[ControlAction]\n",
      " |          The new else_actions for this control to use\n",
      " |  \n",
      " |  update_priority(self, priority: wntr.network.controls.ControlPriority)\n",
      " |      Update the controls priority in place\n",
      " |      \n",
      " |      Parameters\n",
      " |      ----------\n",
      " |      priority : ControlPriority\n",
      " |          The new priority for this control to use\n",
      " |  \n",
      " |  update_then_actions(self, then_actions: Iterable[wntr.network.controls.ControlAction])\n",
      " |      Update the controls then_actions in place\n",
      " |      \n",
      " |      Parameters\n",
      " |      ----------\n",
      " |      then_actions : Iterable[ControlAction]\n",
      " |          The new then_actions for this control to use\n",
      " |  \n",
      " |  ----------------------------------------------------------------------\n",
      " |  Readonly properties inherited from Rule:\n",
      " |  \n",
      " |  epanet_control_type\n",
      " |      The control type. Note that presolve and postsolve controls are both simple controls in Epanet.\n",
      " |      \n",
      " |      Returns\n",
      " |      -------\n",
      " |      control_type: _ControlType\n",
      " |  \n",
      " |  name\n",
      " |      A string representation of the Control.\n",
      " |  \n",
      " |  ----------------------------------------------------------------------\n",
      " |  Readonly properties inherited from ControlBase:\n",
      " |  \n",
      " |  condition\n",
      " |  \n",
      " |  priority\n",
      " |  \n",
      " |  ----------------------------------------------------------------------\n",
      " |  Data descriptors inherited from ControlBase:\n",
      " |  \n",
      " |  __dict__\n",
      " |      dictionary for instance variables (if defined)\n",
      " |  \n",
      " |  __weakref__\n",
      " |      list of weak references to the object (if defined)\n",
      "\n"
     ]
    }
   ],
   "source": [
    "help(wntr.network.controls.Control)"
   ]
  },
  {
   "cell_type": "code",
   "execution_count": 162,
   "id": "132c930c-6c1a-4e2a-95f8-2f391dc0b3ef",
   "metadata": {},
   "outputs": [
    {
     "data": {
      "text/plain": [
       "['control 1',\n",
       " 'control 2',\n",
       " 'control 3',\n",
       " 'control 4',\n",
       " 'control 5',\n",
       " 'control 6',\n",
       " 'NewControl']"
      ]
     },
     "execution_count": 162,
     "metadata": {},
     "output_type": "execute_result"
    }
   ],
   "source": [
    "wn.control_name_list"
   ]
  },
  {
   "cell_type": "code",
   "execution_count": 163,
   "id": "ca364fca-6beb-42bc-8847-8e833def9549",
   "metadata": {},
   "outputs": [],
   "source": [
    "wn.remove_control('NewControl')"
   ]
  },
  {
   "cell_type": "code",
   "execution_count": 164,
   "id": "6209c320-ba91-49af-bb90-272d0e427833",
   "metadata": {},
   "outputs": [
    {
     "data": {
      "text/plain": [
       "['control 1', 'control 2', 'control 3', 'control 4', 'control 5', 'control 6']"
      ]
     },
     "execution_count": 164,
     "metadata": {},
     "output_type": "execute_result"
    }
   ],
   "source": [
    "wn.control_name_list"
   ]
  },
  {
   "cell_type": "code",
   "execution_count": 165,
   "id": "34a6a3bb-113d-477a-b7f5-f2ae9f01e4b8",
   "metadata": {},
   "outputs": [],
   "source": [
    "wn.convert_controls_to_rules()"
   ]
  },
  {
   "cell_type": "code",
   "execution_count": 166,
   "id": "f98f5f55-5c38-4e73-a8c9-d94bc2032244",
   "metadata": {},
   "outputs": [
    {
     "data": {
      "text/plain": [
       "['control_1_Rule',\n",
       " 'control_2_Rule',\n",
       " 'control_3_Rule',\n",
       " 'control_4_Rule',\n",
       " 'control_5_Rule',\n",
       " 'control_6_Rule']"
      ]
     },
     "execution_count": 166,
     "metadata": {},
     "output_type": "execute_result"
    }
   ],
   "source": [
    "wn.control_name_list"
   ]
  },
  {
   "cell_type": "markdown",
   "id": "8fd427b7-d8a6-41d4-bd0d-318e5d1adf84",
   "metadata": {},
   "source": [
    "## Queries"
   ]
  },
  {
   "cell_type": "code",
   "execution_count": 168,
   "id": "2867bdb7-4b58-45de-8689-332260a1b971",
   "metadata": {},
   "outputs": [],
   "source": [
    "allPipediameters=wn.query_link_attribute('diameter')"
   ]
  },
  {
   "cell_type": "code",
   "execution_count": 169,
   "id": "d2b6046f-741f-47f8-aaa2-eeb15cf0cbe8",
   "metadata": {},
   "outputs": [
    {
     "data": {
      "text/plain": [
       "20     2.5146\n",
       "40     2.5146\n",
       "50     2.5146\n",
       "60     0.6096\n",
       "101    0.4572\n",
       "        ...  \n",
       "323    0.3048\n",
       "325    0.2032\n",
       "329    0.7620\n",
       "330    0.7620\n",
       "333    0.7620\n",
       "Length: 117, dtype: float64"
      ]
     },
     "execution_count": 169,
     "metadata": {},
     "output_type": "execute_result"
    }
   ],
   "source": [
    "allPipediameters"
   ]
  },
  {
   "cell_type": "code",
   "execution_count": 172,
   "id": "dfb3daaa-1fb2-48ba-9696-77e241371036",
   "metadata": {},
   "outputs": [],
   "source": [
    "pipeswithzeropointfiveorgreater=wn.query_link_attribute('diameter',np.greater_equal,0.5)"
   ]
  },
  {
   "cell_type": "code",
   "execution_count": 171,
   "id": "0e57064b-ba1f-4803-9e55-86d4eaa5e0d9",
   "metadata": {},
   "outputs": [
    {
     "name": "stdout",
     "output_type": "stream",
     "text": [
      "Help on method query_link_attribute in module wntr.network.model:\n",
      "\n",
      "query_link_attribute(attribute, operation=None, value=None, link_type=None) method of wntr.network.model.WaterNetworkModel instance\n",
      "    Query link attributes, for example get all pipe diameters > threshold\n",
      "    \n",
      "    Parameters\n",
      "    ----------\n",
      "    attribute: string\n",
      "        Link attribute\n",
      "    \n",
      "    operation: numpy operator\n",
      "        Numpy operator, options include\n",
      "        np.greater,\n",
      "        np.greater_equal,\n",
      "        np.less,\n",
      "        np.less_equal,\n",
      "        np.equal,\n",
      "        np.not_equal.\n",
      "    \n",
      "    value: float or int\n",
      "        Threshold\n",
      "    \n",
      "    link_type: Link type\n",
      "        Link type, options include\n",
      "        wntr.network.model.Link,\n",
      "        wntr.network.model.Pipe,\n",
      "        wntr.network.model.Pump,\n",
      "        wntr.network.model.Valve, or None. Default = None.\n",
      "        Note None and wntr.network.model.Link produce the same results.\n",
      "    \n",
      "    Returns\n",
      "    -------\n",
      "    A pandas Series that contains the attribute that satisfies the\n",
      "    operation threshold for a given link_type.\n",
      "    \n",
      "    Notes\n",
      "    -----\n",
      "    If operation and value are both None, the Series will contain the attributes\n",
      "    for all links with the specified attribute.\n",
      "\n"
     ]
    }
   ],
   "source": [
    "help(wn.query_link_attribute)"
   ]
  },
  {
   "cell_type": "code",
   "execution_count": 173,
   "id": "af2893c7-05b8-4488-94f1-2a48608c9a35",
   "metadata": {},
   "outputs": [
    {
     "data": {
      "text/plain": [
       "20     2.5146\n",
       "40     2.5146\n",
       "50     2.5146\n",
       "60     0.6096\n",
       "123    0.7620\n",
       "125    0.7620\n",
       "129    0.6096\n",
       "131    0.6096\n",
       "133    0.5080\n",
       "135    0.6096\n",
       "173    0.7620\n",
       "175    0.7620\n",
       "177    0.7620\n",
       "179    0.7620\n",
       "183    0.7620\n",
       "187    0.7620\n",
       "189    0.7620\n",
       "191    0.6096\n",
       "193    0.6096\n",
       "229    0.6096\n",
       "231    0.6096\n",
       "233    0.6096\n",
       "315    0.6096\n",
       "321    0.7620\n",
       "329    0.7620\n",
       "330    0.7620\n",
       "333    0.7620\n",
       "dtype: float64"
      ]
     },
     "execution_count": 173,
     "metadata": {},
     "output_type": "execute_result"
    }
   ],
   "source": [
    "pipeswithzeropointfiveorgreater"
   ]
  },
  {
   "cell_type": "code",
   "execution_count": 174,
   "id": "5f2fbc7c-a799-4880-b81b-7f8a683b1bd5",
   "metadata": {},
   "outputs": [
    {
     "ename": "AttributeError",
     "evalue": "'list' object has no attribute 'get_array'",
     "output_type": "error",
     "traceback": [
      "\u001b[0;31m---------------------------------------------------------------------------\u001b[0m",
      "\u001b[0;31mAttributeError\u001b[0m                            Traceback (most recent call last)",
      "Cell \u001b[0;32mIn[174], line 1\u001b[0m\n\u001b[0;32m----> 1\u001b[0m wntr\u001b[38;5;241m.\u001b[39mgraphics\u001b[38;5;241m.\u001b[39mplot_network(wn,link_attribute\u001b[38;5;241m=\u001b[39mpipeswithzeropointfiveorgreater,title\u001b[38;5;241m=\u001b[39m\u001b[38;5;124m\"\u001b[39m\u001b[38;5;124mPIPES WITH DIAMETER > 0.5 m\u001b[39m\u001b[38;5;124m\"\u001b[39m)\n",
      "File \u001b[0;32m~/anaconda3/lib/python3.11/site-packages/wntr/graphics/network.py:238\u001b[0m, in \u001b[0;36mplot_network\u001b[0;34m(wn, node_attribute, link_attribute, title, node_size, node_range, node_alpha, node_cmap, node_labels, link_width, link_range, link_alpha, link_cmap, link_labels, add_colorbar, node_colorbar_label, link_colorbar_label, directed, ax, filename)\u001b[0m\n\u001b[1;32m    236\u001b[0m         clb \u001b[38;5;241m=\u001b[39m plt\u001b[38;5;241m.\u001b[39mcolorbar(sm, shrink\u001b[38;5;241m=\u001b[39m\u001b[38;5;241m0.5\u001b[39m, pad\u001b[38;5;241m=\u001b[39m\u001b[38;5;241m0.05\u001b[39m, ax\u001b[38;5;241m=\u001b[39max)\n\u001b[1;32m    237\u001b[0m     \u001b[38;5;28;01melse\u001b[39;00m:\n\u001b[0;32m--> 238\u001b[0m         clb \u001b[38;5;241m=\u001b[39m plt\u001b[38;5;241m.\u001b[39mcolorbar(edges, shrink\u001b[38;5;241m=\u001b[39m\u001b[38;5;241m0.5\u001b[39m, pad\u001b[38;5;241m=\u001b[39m\u001b[38;5;241m0.05\u001b[39m, ax\u001b[38;5;241m=\u001b[39max)\n\u001b[1;32m    239\u001b[0m     clb\u001b[38;5;241m.\u001b[39max\u001b[38;5;241m.\u001b[39mset_title(link_colorbar_label, fontsize\u001b[38;5;241m=\u001b[39m\u001b[38;5;241m10\u001b[39m)\n\u001b[1;32m    241\u001b[0m ax\u001b[38;5;241m.\u001b[39maxis(\u001b[38;5;124m'\u001b[39m\u001b[38;5;124moff\u001b[39m\u001b[38;5;124m'\u001b[39m)\n",
      "File \u001b[0;32m~/anaconda3/lib/python3.11/site-packages/matplotlib/pyplot.py:2137\u001b[0m, in \u001b[0;36mcolorbar\u001b[0;34m(mappable, cax, ax, **kwargs)\u001b[0m\n\u001b[1;32m   2132\u001b[0m     \u001b[38;5;28;01mif\u001b[39;00m mappable \u001b[38;5;129;01mis\u001b[39;00m \u001b[38;5;28;01mNone\u001b[39;00m:\n\u001b[1;32m   2133\u001b[0m         \u001b[38;5;28;01mraise\u001b[39;00m \u001b[38;5;167;01mRuntimeError\u001b[39;00m(\u001b[38;5;124m'\u001b[39m\u001b[38;5;124mNo mappable was found to use for colorbar \u001b[39m\u001b[38;5;124m'\u001b[39m\n\u001b[1;32m   2134\u001b[0m                            \u001b[38;5;124m'\u001b[39m\u001b[38;5;124mcreation. First define a mappable such as \u001b[39m\u001b[38;5;124m'\u001b[39m\n\u001b[1;32m   2135\u001b[0m                            \u001b[38;5;124m'\u001b[39m\u001b[38;5;124man image (with imshow) or a contour set (\u001b[39m\u001b[38;5;124m'\u001b[39m\n\u001b[1;32m   2136\u001b[0m                            \u001b[38;5;124m'\u001b[39m\u001b[38;5;124mwith contourf).\u001b[39m\u001b[38;5;124m'\u001b[39m)\n\u001b[0;32m-> 2137\u001b[0m ret \u001b[38;5;241m=\u001b[39m gcf()\u001b[38;5;241m.\u001b[39mcolorbar(mappable, cax\u001b[38;5;241m=\u001b[39mcax, ax\u001b[38;5;241m=\u001b[39max, \u001b[38;5;241m*\u001b[39m\u001b[38;5;241m*\u001b[39mkwargs)\n\u001b[1;32m   2138\u001b[0m \u001b[38;5;28;01mreturn\u001b[39;00m ret\n",
      "File \u001b[0;32m~/anaconda3/lib/python3.11/site-packages/matplotlib/figure.py:1310\u001b[0m, in \u001b[0;36mFigureBase.colorbar\u001b[0;34m(self, mappable, cax, ax, use_gridspec, **kwargs)\u001b[0m\n\u001b[1;32m   1306\u001b[0m NON_COLORBAR_KEYS \u001b[38;5;241m=\u001b[39m [\u001b[38;5;124m'\u001b[39m\u001b[38;5;124mfraction\u001b[39m\u001b[38;5;124m'\u001b[39m, \u001b[38;5;124m'\u001b[39m\u001b[38;5;124mpad\u001b[39m\u001b[38;5;124m'\u001b[39m, \u001b[38;5;124m'\u001b[39m\u001b[38;5;124mshrink\u001b[39m\u001b[38;5;124m'\u001b[39m, \u001b[38;5;124m'\u001b[39m\u001b[38;5;124maspect\u001b[39m\u001b[38;5;124m'\u001b[39m, \u001b[38;5;124m'\u001b[39m\u001b[38;5;124manchor\u001b[39m\u001b[38;5;124m'\u001b[39m,\n\u001b[1;32m   1307\u001b[0m                      \u001b[38;5;124m'\u001b[39m\u001b[38;5;124mpanchor\u001b[39m\u001b[38;5;124m'\u001b[39m]\n\u001b[1;32m   1308\u001b[0m cb_kw \u001b[38;5;241m=\u001b[39m {k: v \u001b[38;5;28;01mfor\u001b[39;00m k, v \u001b[38;5;129;01min\u001b[39;00m kwargs\u001b[38;5;241m.\u001b[39mitems() \u001b[38;5;28;01mif\u001b[39;00m k \u001b[38;5;129;01mnot\u001b[39;00m \u001b[38;5;129;01min\u001b[39;00m NON_COLORBAR_KEYS}\n\u001b[0;32m-> 1310\u001b[0m cb \u001b[38;5;241m=\u001b[39m cbar\u001b[38;5;241m.\u001b[39mColorbar(cax, mappable, \u001b[38;5;241m*\u001b[39m\u001b[38;5;241m*\u001b[39mcb_kw)\n\u001b[1;32m   1312\u001b[0m \u001b[38;5;28;01mif\u001b[39;00m \u001b[38;5;129;01mnot\u001b[39;00m userax:\n\u001b[1;32m   1313\u001b[0m     \u001b[38;5;28mself\u001b[39m\u001b[38;5;241m.\u001b[39msca(current_ax)\n",
      "File \u001b[0;32m~/anaconda3/lib/python3.11/site-packages/matplotlib/_api/deprecation.py:384\u001b[0m, in \u001b[0;36mdelete_parameter.<locals>.wrapper\u001b[0;34m(*inner_args, **inner_kwargs)\u001b[0m\n\u001b[1;32m    379\u001b[0m \u001b[38;5;129m@functools\u001b[39m\u001b[38;5;241m.\u001b[39mwraps(func)\n\u001b[1;32m    380\u001b[0m \u001b[38;5;28;01mdef\u001b[39;00m \u001b[38;5;21mwrapper\u001b[39m(\u001b[38;5;241m*\u001b[39minner_args, \u001b[38;5;241m*\u001b[39m\u001b[38;5;241m*\u001b[39minner_kwargs):\n\u001b[1;32m    381\u001b[0m     \u001b[38;5;28;01mif\u001b[39;00m \u001b[38;5;28mlen\u001b[39m(inner_args) \u001b[38;5;241m<\u001b[39m\u001b[38;5;241m=\u001b[39m name_idx \u001b[38;5;129;01mand\u001b[39;00m name \u001b[38;5;129;01mnot\u001b[39;00m \u001b[38;5;129;01min\u001b[39;00m inner_kwargs:\n\u001b[1;32m    382\u001b[0m         \u001b[38;5;66;03m# Early return in the simple, non-deprecated case (much faster than\u001b[39;00m\n\u001b[1;32m    383\u001b[0m         \u001b[38;5;66;03m# calling bind()).\u001b[39;00m\n\u001b[0;32m--> 384\u001b[0m         \u001b[38;5;28;01mreturn\u001b[39;00m func(\u001b[38;5;241m*\u001b[39minner_args, \u001b[38;5;241m*\u001b[39m\u001b[38;5;241m*\u001b[39minner_kwargs)\n\u001b[1;32m    385\u001b[0m     arguments \u001b[38;5;241m=\u001b[39m signature\u001b[38;5;241m.\u001b[39mbind(\u001b[38;5;241m*\u001b[39minner_args, \u001b[38;5;241m*\u001b[39m\u001b[38;5;241m*\u001b[39minner_kwargs)\u001b[38;5;241m.\u001b[39marguments\n\u001b[1;32m    386\u001b[0m     \u001b[38;5;28;01mif\u001b[39;00m is_varargs \u001b[38;5;129;01mand\u001b[39;00m arguments\u001b[38;5;241m.\u001b[39mget(name):\n",
      "File \u001b[0;32m~/anaconda3/lib/python3.11/site-packages/matplotlib/colorbar.py:306\u001b[0m, in \u001b[0;36mColorbar.__init__\u001b[0;34m(self, ax, mappable, cmap, norm, alpha, values, boundaries, orientation, ticklocation, extend, spacing, ticks, format, drawedges, filled, extendfrac, extendrect, label, location)\u001b[0m\n\u001b[1;32m    302\u001b[0m     mappable \u001b[38;5;241m=\u001b[39m cm\u001b[38;5;241m.\u001b[39mScalarMappable(norm\u001b[38;5;241m=\u001b[39mnorm, cmap\u001b[38;5;241m=\u001b[39mcmap)\n\u001b[1;32m    304\u001b[0m \u001b[38;5;66;03m# Ensure the given mappable's norm has appropriate vmin and vmax\u001b[39;00m\n\u001b[1;32m    305\u001b[0m \u001b[38;5;66;03m# set even if mappable.draw has not yet been called.\u001b[39;00m\n\u001b[0;32m--> 306\u001b[0m \u001b[38;5;28;01mif\u001b[39;00m mappable\u001b[38;5;241m.\u001b[39mget_array() \u001b[38;5;129;01mis\u001b[39;00m \u001b[38;5;129;01mnot\u001b[39;00m \u001b[38;5;28;01mNone\u001b[39;00m:\n\u001b[1;32m    307\u001b[0m     mappable\u001b[38;5;241m.\u001b[39mautoscale_None()\n\u001b[1;32m    309\u001b[0m \u001b[38;5;28mself\u001b[39m\u001b[38;5;241m.\u001b[39mmappable \u001b[38;5;241m=\u001b[39m mappable\n",
      "\u001b[0;31mAttributeError\u001b[0m: 'list' object has no attribute 'get_array'"
     ]
    },
    {
     "data": {
      "image/png": "[encoded data removed]",
      "text/plain": [
       "<Figure size 640x480 with 2 Axes>"
      ]
     },
     "metadata": {},
     "output_type": "display_data"
    }
   ],
   "source": [
    "wntr.graphics.plot_network(wn,link_attribute=pipeswithzeropointfiveorgreater,title=\"PIPES WITH DIAMETER > 0.5 m\")"
   ]
  },
  {
   "cell_type": "code",
   "execution_count": 177,
   "id": "85d03f23-cda7-4c3d-8d1d-4e5b3c3bf3b2",
   "metadata": {},
   "outputs": [],
   "source": [
    "coor=wn.query_node_attribute('coodinates')"
   ]
  },
  {
   "cell_type": "code",
   "execution_count": 178,
   "id": "8d83bbbb-4ed4-45bf-b3db-3fdae9f01db4",
   "metadata": {},
   "outputs": [
    {
     "data": {
      "text/plain": [
       "Series([], dtype: object)"
      ]
     },
     "execution_count": 178,
     "metadata": {},
     "output_type": "execute_result"
    }
   ],
   "source": [
    "coor"
   ]
  },
  {
   "cell_type": "code",
   "execution_count": 183,
   "id": "ec1b4c4f-8d3b-4498-9153-2f8221a4d9b8",
   "metadata": {},
   "outputs": [],
   "source": [
    "wn_rotated=wntr.morph.rotate_node_coordinates(wn,85)"
   ]
  },
  {
   "cell_type": "code",
   "execution_count": 184,
   "id": "e37af2b4-8ab1-42cd-ba2c-8f089cd5d15f",
   "metadata": {},
   "outputs": [
    {
     "data": {
      "image/png": "[encoded data removed]",
      "text/plain": [
       "<Figure size 640x480 with 1 Axes>"
      ]
     },
     "metadata": {},
     "output_type": "display_data"
    },
    {
     "data": {
      "text/plain": [
       "<Axes: >"
      ]
     },
     "execution_count": 184,
     "metadata": {},
     "output_type": "execute_result"
    }
   ],
   "source": [
    "wntr.graphics.plot_network(wn_rotated)"
   ]
  },
  {
   "cell_type": "code",
   "execution_count": 186,
   "id": "501d5de8-7f78-4a5c-b466-14f9ecc1ace7",
   "metadata": {},
   "outputs": [
    {
     "name": "stdout",
     "output_type": "stream",
     "text": [
      "Max level for tank 1 = 10\n",
      "Max level for tank 2 = 12.28344\n",
      "Max level for tank 3 = 10.820400000000001\n"
     ]
    }
   ],
   "source": [
    "for name, tank in wn.tanks():\n",
    "    print('Max level for tank',name,\"=\",tank.max_level)"
   ]
  },
  {
   "cell_type": "code",
   "execution_count": 187,
   "id": "7698a191-b2ff-4d58-a263-659960f21581",
   "metadata": {},
   "outputs": [
    {
     "name": "stdout",
     "output_type": "stream",
     "text": [
      "Max level for tank 1 = 10\n",
      "Max level for tank 2 = 12.28344\n",
      "Max level for tank 3 = 10.820400000000001\n"
     ]
    }
   ],
   "source": [
    "for name in wn.tank_name_list:\n",
    "    tank=wn.get_node(name)\n",
    "    print('Max level for tank',name,\"=\",tank.max_level)"
   ]
  },
  {
   "cell_type": "markdown",
   "id": "f5b9b51d-f51f-433e-b9bc-8b15a8d73b42",
   "metadata": {},
   "source": [
    "## PIPE BREAKS AND LEAKS"
   ]
  },
  {
   "cell_type": "code",
   "execution_count": 194,
   "id": "e7ae3f93-3321-4382-95aa-65d2aae0e425",
   "metadata": {},
   "outputs": [],
   "source": [
    "wn=wntr.morph.split_pipe(wn,pipe_name_to_split='123',new_pipe_name='123_ABC',new_junction_name='123_node12')\n",
    "leak_node=wn.get_node('123_node12')\n",
    "leak_node.add_leak(wn,area=0.05,start_time=2*3600,end_time=10*3600)"
   ]
  },
  {
   "cell_type": "code",
   "execution_count": 195,
   "id": "89216a70-1aa9-4e6a-b324-3adc441c7cef",
   "metadata": {},
   "outputs": [
    {
     "name": "stdout",
     "output_type": "stream",
     "text": [
      "Help on function break_pipe in module wntr.morph.link:\n",
      "\n",
      "break_pipe(wn, pipe_name_to_split, new_pipe_name, new_junction_name_old_pipe, new_junction_name_new_pipe, add_pipe_at_end=True, split_at_point=0.5, return_copy=True)\n",
      "    Break a pipe by adding a two unconnected junctions and one new pipe segment.\n",
      "    \n",
      "    This function splits the original pipe into two disconnected pipes by \n",
      "    adding two new junctions and new pipe to the model.  \n",
      "    **This provides a true broken pipe -- i.e., there is no longer flow \n",
      "    possible from one side of the break to the other. This is more likely to \n",
      "    introduce non-convergable hydraulics than a simple split_pipe with a leak \n",
      "    added.**\n",
      "    The updated model retains the original length of the pipe section. \n",
      "    The split occurs at a user specified distance between the \n",
      "    original start and end nodes of the pipe (in that direction). \n",
      "    The new pipe can be added to either end of the original pipe. \n",
      "    \n",
      "    * The new junction has a base demand of 0 and the default demand pattern.\n",
      "      The elevation and coordinates of the new junction are based on a linear \n",
      "      interpolation between the end points of the original pipe.\n",
      "    \n",
      "    * The new pipe has the same diameter, roughness, minor loss, \n",
      "      and base status of the original pipe. \n",
      "    \n",
      "    * Check valves are not added to the new\n",
      "      pipe. Since the new pipe can be connected at either the start\n",
      "      or the end of the original pipe, the user can control if the split occurs before\n",
      "      or after a check valve. \n",
      "    \n",
      "    * No controls are added to the new pipe; the original pipe keeps any controls. \n",
      "    \n",
      "    Parameters\n",
      "    ----------\n",
      "    wn: wntr WaterNetworkModel\n",
      "        Water network model\n",
      "    pipe_name_to_split: string\n",
      "        Name of the pipe to split.\n",
      "    new_pipe_name: string\n",
      "        Name of the new pipe to be added as the split part of the pipe.\n",
      "    new_junction_name_old_pipe: string\n",
      "        Name of the new junction to be added to the original pipe\n",
      "    new_junction_name_new_pipe: string\n",
      "        Name of the new junction to be added to the new pipe\n",
      "    add_pipe_at_end: bool, optional\n",
      "        If True, add the new pipe at after the new junction. If False, add the \n",
      "        new pipe before the new junction\n",
      "    split_at_point: float, optional\n",
      "        Relative position (value between 0 and 1) along the original pipe \n",
      "        where the new junction will be located.\n",
      "    return_copy: bool, optional\n",
      "        If True, modify and return a copy of the WaterNetworkModel object.\n",
      "        If False, modify and return the original WaterNetworkModel object.\n",
      "        \n",
      "    Returns\n",
      "    -------\n",
      "    wntr WaterNetworkModel\n",
      "        Water network model with pipe break\n",
      "\n"
     ]
    }
   ],
   "source": [
    "help(wntr.morph.break_pipe)"
   ]
  },
  {
   "cell_type": "code",
   "execution_count": 196,
   "id": "ad931c88-263f-44ca-aae2-c3a4440e902d",
   "metadata": {},
   "outputs": [
    {
     "data": {
      "text/plain": [
       "<wntr.network.model.WaterNetworkModel at 0x7274c5272a90>"
      ]
     },
     "execution_count": 196,
     "metadata": {},
     "output_type": "execute_result"
    }
   ],
   "source": [
    "wntr.morph.break_pipe(wn,pipe_name_to_split='121',new_pipe_name='121_B',new_junction_name_old_pipe='121_node',new_junction_name_new_pipe='121B_node')"
   ]
  },
  {
   "cell_type": "code",
   "execution_count": null,
   "id": "11bc389f-7732-4ffc-b4a8-9b18b94a939a",
   "metadata": {},
   "outputs": [],
   "source": []
  }
 ],
 "metadata": {
  "kernelspec": {
   "display_name": "Python 3 (ipykernel)",
   "language": "python",
   "name": "python3"
  },
  "language_info": {
   "codemirror_mode": {
    "name": "ipython",
    "version": 3
   },
   "file_extension": ".py",
   "mimetype": "text/x-python",
   "name": "python",
   "nbconvert_exporter": "python",
   "pygments_lexer": "ipython3",
   "version": "3.11.5"
  }
 },
 "nbformat": 4,
 "nbformat_minor": 5
}
