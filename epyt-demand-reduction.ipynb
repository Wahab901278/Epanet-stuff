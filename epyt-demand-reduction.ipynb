{
 "cells": [
  {
   "cell_type": "code",
   "execution_count": 15,
   "id": "73daa37d",
   "metadata": {},
   "outputs": [],
   "source": [
    "from epyt import epanet"
   ]
  },
  {
   "cell_type": "code",
   "execution_count": 16,
   "id": "d9fa17c9",
   "metadata": {},
   "outputs": [
    {
     "name": "stdout",
     "output_type": "stream",
     "text": [
      "EPANET version 20200 loaded (EPyT version 1.1.8).\n",
      "Input File Net1.inp loaded successfully.\n",
      "\n"
     ]
    }
   ],
   "source": [
    "d=epanet('Net1.inp')"
   ]
  },
  {
   "cell_type": "code",
   "execution_count": 17,
   "id": "74c90cd7",
   "metadata": {},
   "outputs": [],
   "source": [
    "d.setOptionsPatternDemandMultiplier(10)"
   ]
  },
  {
   "cell_type": "code",
   "execution_count": 18,
   "id": "47fb2558",
   "metadata": {},
   "outputs": [
    {
     "name": "stderr",
     "output_type": "stream",
     "text": [
      "/home/wahab901278/anaconda3/lib/python3.11/site-packages/epyt/epanet.py:14234: UserWarning: WARNING: System has negative pressures.\n",
      "  warnings.warn(errmssg.value.decode())\n"
     ]
    }
   ],
   "source": [
    "d.setTimeSimulationDuration(0)\n",
    "d.solveCompleteHydraulics()"
   ]
  },
  {
   "cell_type": "code",
   "execution_count": 19,
   "id": "f0e59361",
   "metadata": {},
   "outputs": [
    {
     "name": "stdout",
     "output_type": "stream",
     "text": [
      "4.0\n",
      "0.0\n"
     ]
    }
   ],
   "source": [
    "deficient_nodes=d.getStatistic().DeficientNodes\n",
    "demand_reduction=d.getStatistic().DemandReduction\n",
    "print(deficient_nodes)\n",
    "print(demand_reduction)"
   ]
  },
  {
   "cell_type": "code",
   "execution_count": 20,
   "id": "1b6fc0af",
   "metadata": {},
   "outputs": [
    {
     "name": "stdout",
     "output_type": "stream",
     "text": [
      "True\n"
     ]
    }
   ],
   "source": [
    "if deficient_nodes>=4:\n",
    "    print(True)\n",
    "else:\n",
    "    print(False)"
   ]
  },
  {
   "cell_type": "code",
   "execution_count": 21,
   "id": "d5283789",
   "metadata": {},
   "outputs": [],
   "source": [
    "Type='PDA'\n",
    "pmin=0\n",
    "preq=0.1\n",
    "pexp=0.5\n",
    "d.setDemandModel(Type,pmin,preq,pexp)"
   ]
  },
  {
   "cell_type": "code",
   "execution_count": 22,
   "id": "92d72c2a",
   "metadata": {},
   "outputs": [],
   "source": [
    "d.solveCompleteHydraulics()"
   ]
  },
  {
   "cell_type": "code",
   "execution_count": 23,
   "id": "e588c702",
   "metadata": {},
   "outputs": [],
   "source": [
    "deficient_nodes=d.getStatistic().DeficientNodes"
   ]
  },
  {
   "cell_type": "code",
   "execution_count": 24,
   "id": "3ab6d315",
   "metadata": {},
   "outputs": [],
   "source": [
    "demand_reduction=d.getStatistic().DemandReduction"
   ]
  },
  {
   "cell_type": "code",
   "execution_count": 25,
   "id": "361a9d51",
   "metadata": {},
   "outputs": [
    {
     "name": "stdout",
     "output_type": "stream",
     "text": [
      "2.0\n",
      "54.998165130615234\n"
     ]
    }
   ],
   "source": [
    "print(deficient_nodes)\n",
    "print(demand_reduction)"
   ]
  },
  {
   "cell_type": "code",
   "execution_count": 26,
   "id": "04fd423f",
   "metadata": {},
   "outputs": [],
   "source": [
    "junctionIndex_11=d.getNodeIndex('11')\n",
    "demand_deficient_11=d.getNodeDemandDeficit(junctionIndex_11)"
   ]
  },
  {
   "cell_type": "code",
   "execution_count": 27,
   "id": "7c574123",
   "metadata": {},
   "outputs": [],
   "source": [
    "junctionIndex_2=d.getNodeIndex('2')\n",
    "demand_deficient_2=d.getNodeDemandDeficit(junctionIndex_11)"
   ]
  },
  {
   "cell_type": "code",
   "execution_count": 28,
   "id": "9e83f8b7",
   "metadata": {},
   "outputs": [
    {
     "name": "stdout",
     "output_type": "stream",
     "text": [
      "2\n"
     ]
    }
   ],
   "source": [
    "print(junctionIndex_11)"
   ]
  },
  {
   "cell_type": "code",
   "execution_count": 29,
   "id": "e1abb5b8",
   "metadata": {},
   "outputs": [
    {
     "data": {
      "text/plain": [
       "-1500.0010986328125"
      ]
     },
     "execution_count": 29,
     "metadata": {},
     "output_type": "execute_result"
    }
   ],
   "source": [
    "demand_deficient_11"
   ]
  },
  {
   "cell_type": "code",
   "execution_count": 30,
   "id": "c5a3288f",
   "metadata": {},
   "outputs": [
    {
     "name": "stdout",
     "output_type": "stream",
     "text": [
      "Close toolkit for the input file \"Net1\". EPANET Toolkit is unloaded.\n",
      "\n"
     ]
    }
   ],
   "source": [
    "d.unload()"
   ]
  },
  {
   "cell_type": "code",
   "execution_count": null,
   "id": "9639ef55",
   "metadata": {},
   "outputs": [],
   "source": []
  }
 ],
 "metadata": {
  "kernelspec": {
   "display_name": "Python 3 (ipykernel)",
   "language": "python",
   "name": "python3"
  },
  "language_info": {
   "codemirror_mode": {
    "name": "ipython",
    "version": 3
   },
   "file_extension": ".py",
   "mimetype": "text/x-python",
   "name": "python",
   "nbconvert_exporter": "python",
   "pygments_lexer": "ipython3",
   "version": "3.11.5"
  }
 },
 "nbformat": 4,
 "nbformat_minor": 5
}
