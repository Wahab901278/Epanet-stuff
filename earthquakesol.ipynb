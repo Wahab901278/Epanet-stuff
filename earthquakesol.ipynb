{
 "cells": [
  {
   "cell_type": "code",
   "execution_count": 29,
   "id": "768bce25-2d4b-4f9d-b2b2-b1ce4479785d",
   "metadata": {},
   "outputs": [],
   "source": [
    "import wntr\n",
    "import networkx as nx\n",
    "import matplotlib.pyplot as plt\n",
    "import matplotlib"
   ]
  },
  {
   "cell_type": "code",
   "execution_count": 3,
   "id": "9b49e74e-0ae4-4919-9b89-1f6910b004bd",
   "metadata": {},
   "outputs": [],
   "source": [
    "inp_file='/home/wahab901278/Downloads/Net3.inp'\n",
    "wn=wntr.network.WaterNetworkModel(inp_file)"
   ]
  },
  {
   "cell_type": "code",
   "execution_count": 30,
   "id": "efdd1692-488f-49d0-80dd-fe7e2c7e92fe",
   "metadata": {},
   "outputs": [],
   "source": [
    "cmap=matplotlib.colormaps['viridis']\n",
    "G=wn.to_graph()"
   ]
  },
  {
   "cell_type": "code",
   "execution_count": 7,
   "id": "18ef1152-f819-4027-9348-fe147f01c02b",
   "metadata": {},
   "outputs": [],
   "source": [
    "betweenness_centrality=nx.betweenness_centrality(G,weight='length')"
   ]
  },
  {
   "cell_type": "code",
   "execution_count": 11,
   "id": "e39d8eb1-c52b-44b0-bc61-2426f9554294",
   "metadata": {},
   "outputs": [],
   "source": [
    "critical_pipes=[]\n",
    "centrality_threshold=sorted(betweenness_centrality.values(),reverse=True)[int(0.1*len(betweenness_centrality))]\n",
    "for pipe, centrality in betweenness_centrality.items():\n",
    "    if centrality>centrality_threshold:\n",
    "        critical_pipes.append(pipe)"
   ]
  },
  {
   "cell_type": "code",
   "execution_count": 12,
   "id": "fb829c12-a06c-4445-b56e-38b7875fa250",
   "metadata": {},
   "outputs": [
    {
     "data": {
      "text/plain": [
       "['184', '185', '205', '206', '207', '208', '209', '211', '237']"
      ]
     },
     "execution_count": 12,
     "metadata": {},
     "output_type": "execute_result"
    }
   ],
   "source": [
    "critical_pipes"
   ]
  },
  {
   "cell_type": "code",
   "execution_count": 27,
   "id": "72077d0b-b410-4bcf-ba89-d82183bc1c66",
   "metadata": {},
   "outputs": [
    {
     "name": "stderr",
     "output_type": "stream",
     "text": [
      "/home/wahab901278/anaconda3/lib/python3.11/site-packages/wntr/metrics/topographic.py:237: FutureWarning: Series.__getitem__ treating keys as positions is deprecated. In a future version, integer keys will always be treated as labels (consistent with DataFrame behavior). To access a value by position, use `ser.iloc[pos]`\n",
      "  valved_link_names.append(row[0])\n",
      "/home/wahab901278/anaconda3/lib/python3.11/site-packages/wntr/metrics/topographic.py:274: FutureWarning: Series.__getitem__ treating keys as positions is deprecated. In a future version, integer keys will always be treated as labels (consistent with DataFrame behavior). To access a value by position, use `ser.iloc[pos]`\n",
      "  valved_node_name = link_valves.iloc[0][1]\n"
     ]
    }
   ],
   "source": [
    "valve_layer=wntr.network.generate_valve_layer(wn,placement_type='strategic',n=2,seed=123)\n",
    "G=wn.to_graph()\n",
    "node_segments,link_segments,segment_size=wntr.metrics.valve_segments(G,valve_layer)"
   ]
  },
  {
   "cell_type": "code",
   "execution_count": 32,
   "id": "5878753d-7d71-4f8a-af23-adad35129525",
   "metadata": {},
   "outputs": [
    {
     "data": {
      "text/plain": [
       "<Axes: >"
      ]
     },
     "execution_count": 32,
     "metadata": {},
     "output_type": "execute_result"
    },
    {
     "data": {
      "image/png": "[encoded data removed]",
      "text/plain": [
       "<Figure size 640x480 with 2 Axes>"
      ]
     },
     "metadata": {},
     "output_type": "display_data"
    }
   ],
   "source": [
    "wntr.graphics.plot_valve_layer(wn,valve_layer,include_network=True)"
   ]
  },
  {
   "cell_type": "code",
   "execution_count": 35,
   "id": "042c01ac-2b32-4031-b723-0092429d7f0f",
   "metadata": {},
   "outputs": [],
   "source": [
    "# Seismic Retrofit\n",
    "\n",
    "for junction_name in wn.junction_name_list:\n",
    "    junction = wn.get_node(junction_name)\n",
    "    junction.elevation=junction.elevation-0.5"
   ]
  },
  {
   "cell_type": "code",
   "execution_count": 36,
   "id": "187e2f5f-2e26-4a45-9a49-040244297464",
   "metadata": {},
   "outputs": [],
   "source": [
    "sim=wntr.sim.WNTRSimulator(wn)\n",
    "results=sim.run_sim()"
   ]
  },
  {
   "cell_type": "code",
   "execution_count": 43,
   "id": "7df4ab98-eba3-4dca-8271-9c05add21fb8",
   "metadata": {},
   "outputs": [
    {
     "ename": "ValueError",
     "evalue": "The name provided for the control is already used. Please either remove the control with that name first or use a different name for this control.",
     "output_type": "error",
     "traceback": [
      "\u001b[0;31m---------------------------------------------------------------------------\u001b[0m",
      "\u001b[0;31mValueError\u001b[0m                                Traceback (most recent call last)",
      "Cell \u001b[0;32mIn[43], line 4\u001b[0m\n\u001b[1;32m      2\u001b[0m pipe\u001b[38;5;241m=\u001b[39mwn\u001b[38;5;241m.\u001b[39mget_link(pipe_name)\n\u001b[1;32m      3\u001b[0m \u001b[38;5;28;01mif\u001b[39;00m pipe\u001b[38;5;241m.\u001b[39mstatus\u001b[38;5;241m==\u001b[39m\u001b[38;5;241m1\u001b[39m:\n\u001b[0;32m----> 4\u001b[0m     wn\u001b[38;5;241m.\u001b[39madd_control(\u001b[38;5;124mf\u001b[39m\u001b[38;5;124m'\u001b[39m\u001b[38;5;124mmaintenance of \u001b[39m\u001b[38;5;132;01m{\u001b[39;00mpipe_name\u001b[38;5;132;01m}\u001b[39;00m\u001b[38;5;124m'\u001b[39m,wntr\u001b[38;5;241m.\u001b[39mnetwork\u001b[38;5;241m.\u001b[39mcontrols\u001b[38;5;241m.\u001b[39mControlAction(pipe,\u001b[38;5;124m'\u001b[39m\u001b[38;5;124mstatus\u001b[39m\u001b[38;5;124m'\u001b[39m,\u001b[38;5;241m0\u001b[39m))\n",
      "File \u001b[0;32m~/anaconda3/lib/python3.11/site-packages/wntr/network/model.py:632\u001b[0m, in \u001b[0;36mWaterNetworkModel.add_control\u001b[0;34m(self, name, control_object)\u001b[0m\n\u001b[1;32m    621\u001b[0m \u001b[38;5;250m\u001b[39m\u001b[38;5;124;03m\"\"\"\u001b[39;00m\n\u001b[1;32m    622\u001b[0m \u001b[38;5;124;03mAdds a control or rule to the water network model\u001b[39;00m\n\u001b[1;32m    623\u001b[0m \n\u001b[0;32m   (...)\u001b[0m\n\u001b[1;32m    629\u001b[0m \u001b[38;5;124;03m    Control or Rule object.\u001b[39;00m\n\u001b[1;32m    630\u001b[0m \u001b[38;5;124;03m\"\"\"\u001b[39;00m\n\u001b[1;32m    631\u001b[0m \u001b[38;5;28;01mif\u001b[39;00m name \u001b[38;5;129;01min\u001b[39;00m \u001b[38;5;28mself\u001b[39m\u001b[38;5;241m.\u001b[39m_controls:\n\u001b[0;32m--> 632\u001b[0m     \u001b[38;5;28;01mraise\u001b[39;00m \u001b[38;5;167;01mValueError\u001b[39;00m(\n\u001b[1;32m    633\u001b[0m         \u001b[38;5;124m\"\u001b[39m\u001b[38;5;124mThe name provided for the control is already used. Please either remove the control with that name first or use a different name for this control.\u001b[39m\u001b[38;5;124m\"\u001b[39m\n\u001b[1;32m    634\u001b[0m     )\n\u001b[1;32m    635\u001b[0m \u001b[38;5;28mself\u001b[39m\u001b[38;5;241m.\u001b[39m_controls[name] \u001b[38;5;241m=\u001b[39m control_object\n",
      "\u001b[0;31mValueError\u001b[0m: The name provided for the control is already used. Please either remove the control with that name first or use a different name for this control."
     ]
    }
   ],
   "source": [
    "\n",
    "for pipe_name in wn.pipe_name_list:\n",
    "    pipe=wn.get_link(pipe_name)\n",
    "    if pipe.status==1:\n",
    "        wn.add_control(f'maintenance of {pipe_name}',wntr.network.controls.ControlAction(pipe,'status',0))"
   ]
  },
  {
   "cell_type": "code",
   "execution_count": 39,
   "id": "b11fb85e-7631-42bd-b60b-a89ab6bb39a9",
   "metadata": {},
   "outputs": [
    {
     "data": {
      "text/plain": [
       "<Pipe '333' from '601' to '61', length=0.3048, diameter=0.762, roughness=140.0, minor_loss=0.0, check_valve=False, status=Open>"
      ]
     },
     "execution_count": 39,
     "metadata": {},
     "output_type": "execute_result"
    }
   ],
   "source": [
    "pipe"
   ]
  },
  {
   "cell_type": "code",
   "execution_count": null,
   "id": "3914cdbc-5424-4d29-90f1-772147762adc",
   "metadata": {},
   "outputs": [],
   "source": []
  }
 ],
 "metadata": {
  "kernelspec": {
   "display_name": "Python 3 (ipykernel)",
   "language": "python",
   "name": "python3"
  },
  "language_info": {
   "codemirror_mode": {
    "name": "ipython",
    "version": 3
   },
   "file_extension": ".py",
   "mimetype": "text/x-python",
   "name": "python",
   "nbconvert_exporter": "python",
   "pygments_lexer": "ipython3",
   "version": "3.11.5"
  }
 },
 "nbformat": 4,
 "nbformat_minor": 5
}
