{
 "cells": [
  {
   "cell_type": "code",
   "execution_count": 16,
   "id": "3106e00d-611e-4658-bec4-060c69a9ea3d",
   "metadata": {},
   "outputs": [],
   "source": [
    "import wntr\n",
    "import matplotlib.pyplot as plt\n",
    "import numpy as np\n",
    "import pandas as pd"
   ]
  },
  {
   "cell_type": "code",
   "execution_count": 17,
   "id": "3194d976-bd64-4b19-b284-a073a38999b3",
   "metadata": {},
   "outputs": [],
   "source": [
    "inp_file='Net3.inp'"
   ]
  },
  {
   "cell_type": "code",
   "execution_count": 18,
   "id": "02bda9f6-9fb7-4f95-a888-a301f9816389",
   "metadata": {},
   "outputs": [],
   "source": [
    "wn=wntr.network.WaterNetworkModel(inp_file)"
   ]
  },
  {
   "cell_type": "code",
   "execution_count": 19,
   "id": "8bababfb-fc1a-4cf6-b4af-64ccee506514",
   "metadata": {},
   "outputs": [],
   "source": [
    "wn.options.time.duration=24*3600\n",
    "wn.options.time.hydraulic_timestep=3600\n",
    "wn.options.time.report_timestep=3600"
   ]
  },
  {
   "cell_type": "code",
   "execution_count": 20,
   "id": "54aff1bc-0958-4450-b0a5-b4745ea97a42",
   "metadata": {},
   "outputs": [],
   "source": [
    "sim=wntr.sim.WNTRSimulator(wn)\n",
    "results=sim.run_sim()"
   ]
  },
  {
   "cell_type": "code",
   "execution_count": 21,
   "id": "c0a828e2-b7a5-4980-b02f-b1d9b3fee49a",
   "metadata": {},
   "outputs": [],
   "source": [
    "pump_flowrate=results.link['flowrate'].loc[:,wn.pump_name_list]"
   ]
  },
  {
   "cell_type": "code",
   "execution_count": 22,
   "id": "9482096d-9c05-443e-8017-fd52b878714d",
   "metadata": {},
   "outputs": [],
   "source": [
    "pump_heads={}\n",
    "for pump_id in wn.pump_name_list:\n",
    "    pump=wn.get_link(pump_id)\n",
    "    start_node=pump.start_node\n",
    "    end_node=pump.end_node\n",
    "    headStartNode=results.node['head'][start_node.name]\n",
    "    headEndNode=results.node['head'][end_node.name]\n",
    "    pump_heads[pump_id]=headEndNode-headStartNode\n"
   ]
  },
  {
   "cell_type": "code",
   "execution_count": 23,
   "id": "759ac44a-37b5-49fc-9fc3-858f26fc53cd",
   "metadata": {},
   "outputs": [],
   "source": [
    "pumpHeadDF=pd.DataFrame(pump_heads)"
   ]
  },
  {
   "cell_type": "code",
   "execution_count": 24,
   "id": "e3996be4-ef4b-4d2c-ade6-4f721b7b6045",
   "metadata": {},
   "outputs": [
    {
     "data": {
      "text/html": [
       "<div>\n",
       "<style scoped>\n",
       "    .dataframe tbody tr th:only-of-type {\n",
       "        vertical-align: middle;\n",
       "    }\n",
       "\n",
       "    .dataframe tbody tr th {\n",
       "        vertical-align: top;\n",
       "    }\n",
       "\n",
       "    .dataframe thead th {\n",
       "        text-align: right;\n",
       "    }\n",
       "</style>\n",
       "<table border=\"1\" class=\"dataframe\">\n",
       "  <thead>\n",
       "    <tr style=\"text-align: right;\">\n",
       "      <th></th>\n",
       "      <th>10</th>\n",
       "      <th>335</th>\n",
       "    </tr>\n",
       "  </thead>\n",
       "  <tbody>\n",
       "    <tr>\n",
       "      <th>0</th>\n",
       "      <td>-6.546073</td>\n",
       "      <td>28.481457</td>\n",
       "    </tr>\n",
       "    <tr>\n",
       "      <th>3600</th>\n",
       "      <td>22.157711</td>\n",
       "      <td>28.738856</td>\n",
       "    </tr>\n",
       "    <tr>\n",
       "      <th>7200</th>\n",
       "      <td>22.668331</td>\n",
       "      <td>28.980178</td>\n",
       "    </tr>\n",
       "    <tr>\n",
       "      <th>10800</th>\n",
       "      <td>22.775435</td>\n",
       "      <td>29.093495</td>\n",
       "    </tr>\n",
       "    <tr>\n",
       "      <th>14400</th>\n",
       "      <td>23.563301</td>\n",
       "      <td>29.469093</td>\n",
       "    </tr>\n",
       "    <tr>\n",
       "      <th>18000</th>\n",
       "      <td>22.908924</td>\n",
       "      <td>-0.000689</td>\n",
       "    </tr>\n",
       "    <tr>\n",
       "      <th>21600</th>\n",
       "      <td>23.003004</td>\n",
       "      <td>-0.000678</td>\n",
       "    </tr>\n",
       "    <tr>\n",
       "      <th>25200</th>\n",
       "      <td>22.861605</td>\n",
       "      <td>-0.000675</td>\n",
       "    </tr>\n",
       "    <tr>\n",
       "      <th>28800</th>\n",
       "      <td>22.976115</td>\n",
       "      <td>-0.000670</td>\n",
       "    </tr>\n",
       "    <tr>\n",
       "      <th>32400</th>\n",
       "      <td>22.855489</td>\n",
       "      <td>-0.000684</td>\n",
       "    </tr>\n",
       "    <tr>\n",
       "      <th>36000</th>\n",
       "      <td>22.861273</td>\n",
       "      <td>-0.000686</td>\n",
       "    </tr>\n",
       "    <tr>\n",
       "      <th>39600</th>\n",
       "      <td>22.758201</td>\n",
       "      <td>-0.000691</td>\n",
       "    </tr>\n",
       "    <tr>\n",
       "      <th>43200</th>\n",
       "      <td>22.760705</td>\n",
       "      <td>-0.000694</td>\n",
       "    </tr>\n",
       "    <tr>\n",
       "      <th>46800</th>\n",
       "      <td>22.803742</td>\n",
       "      <td>-0.000697</td>\n",
       "    </tr>\n",
       "    <tr>\n",
       "      <th>50400</th>\n",
       "      <td>22.886429</td>\n",
       "      <td>-0.000699</td>\n",
       "    </tr>\n",
       "    <tr>\n",
       "      <th>54000</th>\n",
       "      <td>-4.509284</td>\n",
       "      <td>-0.000719</td>\n",
       "    </tr>\n",
       "    <tr>\n",
       "      <th>57600</th>\n",
       "      <td>-4.575796</td>\n",
       "      <td>-0.000723</td>\n",
       "    </tr>\n",
       "    <tr>\n",
       "      <th>61200</th>\n",
       "      <td>-4.676031</td>\n",
       "      <td>-0.000729</td>\n",
       "    </tr>\n",
       "    <tr>\n",
       "      <th>64800</th>\n",
       "      <td>-4.660322</td>\n",
       "      <td>-0.000734</td>\n",
       "    </tr>\n",
       "    <tr>\n",
       "      <th>68400</th>\n",
       "      <td>-4.804270</td>\n",
       "      <td>-0.000740</td>\n",
       "    </tr>\n",
       "    <tr>\n",
       "      <th>72000</th>\n",
       "      <td>-5.320839</td>\n",
       "      <td>-0.000749</td>\n",
       "    </tr>\n",
       "    <tr>\n",
       "      <th>75600</th>\n",
       "      <td>-5.737906</td>\n",
       "      <td>-0.000759</td>\n",
       "    </tr>\n",
       "    <tr>\n",
       "      <th>79200</th>\n",
       "      <td>-5.695689</td>\n",
       "      <td>28.391201</td>\n",
       "    </tr>\n",
       "    <tr>\n",
       "      <th>82800</th>\n",
       "      <td>-6.719534</td>\n",
       "      <td>28.353122</td>\n",
       "    </tr>\n",
       "    <tr>\n",
       "      <th>86400</th>\n",
       "      <td>-5.885111</td>\n",
       "      <td>28.671231</td>\n",
       "    </tr>\n",
       "  </tbody>\n",
       "</table>\n",
       "</div>"
      ],
      "text/plain": [
       "              10        335\n",
       "0      -6.546073  28.481457\n",
       "3600   22.157711  28.738856\n",
       "7200   22.668331  28.980178\n",
       "10800  22.775435  29.093495\n",
       "14400  23.563301  29.469093\n",
       "18000  22.908924  -0.000689\n",
       "21600  23.003004  -0.000678\n",
       "25200  22.861605  -0.000675\n",
       "28800  22.976115  -0.000670\n",
       "32400  22.855489  -0.000684\n",
       "36000  22.861273  -0.000686\n",
       "39600  22.758201  -0.000691\n",
       "43200  22.760705  -0.000694\n",
       "46800  22.803742  -0.000697\n",
       "50400  22.886429  -0.000699\n",
       "54000  -4.509284  -0.000719\n",
       "57600  -4.575796  -0.000723\n",
       "61200  -4.676031  -0.000729\n",
       "64800  -4.660322  -0.000734\n",
       "68400  -4.804270  -0.000740\n",
       "72000  -5.320839  -0.000749\n",
       "75600  -5.737906  -0.000759\n",
       "79200  -5.695689  28.391201\n",
       "82800  -6.719534  28.353122\n",
       "86400  -5.885111  28.671231"
      ]
     },
     "execution_count": 24,
     "metadata": {},
     "output_type": "execute_result"
    }
   ],
   "source": [
    "pumpHeadDF"
   ]
  },
  {
   "cell_type": "code",
   "execution_count": 25,
   "id": "9d778db0-0a42-42e6-9a7c-0a48acfc42ca",
   "metadata": {},
   "outputs": [],
   "source": [
    "pumpStatus=results.link['status'].loc[:,'10']"
   ]
  },
  {
   "cell_type": "code",
   "execution_count": 26,
   "id": "52e87c42-09bc-4f1e-ba25-60ccc8177c84",
   "metadata": {},
   "outputs": [
    {
     "data": {
      "text/plain": [
       "[<matplotlib.lines.Line2D at 0x7c76ba904d10>]"
      ]
     },
     "execution_count": 26,
     "metadata": {},
     "output_type": "execute_result"
    },
    {
     "data": {
      "image/png": "[encoded data removed]",
      "text/plain": [
       "<Figure size 640x480 with 1 Axes>"
      ]
     },
     "metadata": {},
     "output_type": "display_data"
    }
   ],
   "source": [
    "\n",
    "pumpHeadDF.plot()\n",
    "plt.plot(pumpStatus)"
   ]
  },
  {
   "cell_type": "code",
   "execution_count": 27,
   "id": "fac8d7e0-db5a-4c40-a879-35ac9d362098",
   "metadata": {},
   "outputs": [],
   "source": [
    "# EFFECIENCY\n",
    "# FLOW * HEAD /POWER\n",
    "#Energy_usage=Flowrate*Head*9.81/Efficiency\n",
    "pump_efficiency=0.75\n",
    "energy_usage={}\n",
    "for pump_id in wn.pump_name_list:\n",
    "    flow_rate=results.link['flowrate'][pump_id]\n",
    "    head=pumpHeadDF[pump_id]\n",
    "    energy=(flow_rate*head*9.81)/pump_efficiency\n",
    "    energy_usage[pump_id]=energy\n",
    "energy_usage_df=pd.DataFrame(energy_usage)"
   ]
  },
  {
   "cell_type": "code",
   "execution_count": 28,
   "id": "3e6bb866-b165-46d2-bfb2-096f59ebd766",
   "metadata": {},
   "outputs": [
    {
     "data": {
      "text/html": [
       "<div>\n",
       "<style scoped>\n",
       "    .dataframe tbody tr th:only-of-type {\n",
       "        vertical-align: middle;\n",
       "    }\n",
       "\n",
       "    .dataframe tbody tr th {\n",
       "        vertical-align: top;\n",
       "    }\n",
       "\n",
       "    .dataframe thead th {\n",
       "        text-align: right;\n",
       "    }\n",
       "</style>\n",
       "<table border=\"1\" class=\"dataframe\">\n",
       "  <thead>\n",
       "    <tr style=\"text-align: right;\">\n",
       "      <th></th>\n",
       "      <th>10</th>\n",
       "      <th>335</th>\n",
       "    </tr>\n",
       "  </thead>\n",
       "  <tbody>\n",
       "    <tr>\n",
       "      <th>0</th>\n",
       "      <td>-0.000000</td>\n",
       "      <td>309.255381</td>\n",
       "    </tr>\n",
       "    <tr>\n",
       "      <th>3600</th>\n",
       "      <td>62.812536</td>\n",
       "      <td>309.777240</td>\n",
       "    </tr>\n",
       "    <tr>\n",
       "      <th>7200</th>\n",
       "      <td>62.296757</td>\n",
       "      <td>310.228171</td>\n",
       "    </tr>\n",
       "    <tr>\n",
       "      <th>10800</th>\n",
       "      <td>62.171235</td>\n",
       "      <td>310.427102</td>\n",
       "    </tr>\n",
       "    <tr>\n",
       "      <th>14400</th>\n",
       "      <td>61.053794</td>\n",
       "      <td>311.027861</td>\n",
       "    </tr>\n",
       "    <tr>\n",
       "      <th>18000</th>\n",
       "      <td>62.006157</td>\n",
       "      <td>-0.000000</td>\n",
       "    </tr>\n",
       "    <tr>\n",
       "      <th>21600</th>\n",
       "      <td>61.883992</td>\n",
       "      <td>-0.000000</td>\n",
       "    </tr>\n",
       "    <tr>\n",
       "      <th>25200</th>\n",
       "      <td>62.065777</td>\n",
       "      <td>-0.000000</td>\n",
       "    </tr>\n",
       "    <tr>\n",
       "      <th>28800</th>\n",
       "      <td>61.919403</td>\n",
       "      <td>-0.000000</td>\n",
       "    </tr>\n",
       "    <tr>\n",
       "      <th>32400</th>\n",
       "      <td>62.073394</td>\n",
       "      <td>-0.000000</td>\n",
       "    </tr>\n",
       "    <tr>\n",
       "      <th>36000</th>\n",
       "      <td>62.066191</td>\n",
       "      <td>-0.000000</td>\n",
       "    </tr>\n",
       "    <tr>\n",
       "      <th>39600</th>\n",
       "      <td>62.191847</td>\n",
       "      <td>-0.000000</td>\n",
       "    </tr>\n",
       "    <tr>\n",
       "      <th>43200</th>\n",
       "      <td>62.188861</td>\n",
       "      <td>-0.000000</td>\n",
       "    </tr>\n",
       "    <tr>\n",
       "      <th>46800</th>\n",
       "      <td>62.137034</td>\n",
       "      <td>-0.000000</td>\n",
       "    </tr>\n",
       "    <tr>\n",
       "      <th>50400</th>\n",
       "      <td>62.034652</td>\n",
       "      <td>-0.000000</td>\n",
       "    </tr>\n",
       "    <tr>\n",
       "      <th>54000</th>\n",
       "      <td>-0.000000</td>\n",
       "      <td>-0.000000</td>\n",
       "    </tr>\n",
       "    <tr>\n",
       "      <th>57600</th>\n",
       "      <td>-0.000000</td>\n",
       "      <td>-0.000000</td>\n",
       "    </tr>\n",
       "    <tr>\n",
       "      <th>61200</th>\n",
       "      <td>-0.000000</td>\n",
       "      <td>-0.000000</td>\n",
       "    </tr>\n",
       "    <tr>\n",
       "      <th>64800</th>\n",
       "      <td>-0.000000</td>\n",
       "      <td>-0.000000</td>\n",
       "    </tr>\n",
       "    <tr>\n",
       "      <th>68400</th>\n",
       "      <td>-0.000000</td>\n",
       "      <td>-0.000000</td>\n",
       "    </tr>\n",
       "    <tr>\n",
       "      <th>72000</th>\n",
       "      <td>-0.000000</td>\n",
       "      <td>-0.000000</td>\n",
       "    </tr>\n",
       "    <tr>\n",
       "      <th>75600</th>\n",
       "      <td>-0.000000</td>\n",
       "      <td>-0.000000</td>\n",
       "    </tr>\n",
       "    <tr>\n",
       "      <th>79200</th>\n",
       "      <td>-0.000000</td>\n",
       "      <td>309.062409</td>\n",
       "    </tr>\n",
       "    <tr>\n",
       "      <th>82800</th>\n",
       "      <td>-0.000000</td>\n",
       "      <td>308.979438</td>\n",
       "    </tr>\n",
       "    <tr>\n",
       "      <th>86400</th>\n",
       "      <td>-0.000000</td>\n",
       "      <td>309.644220</td>\n",
       "    </tr>\n",
       "  </tbody>\n",
       "</table>\n",
       "</div>"
      ],
      "text/plain": [
       "              10         335\n",
       "0      -0.000000  309.255381\n",
       "3600   62.812536  309.777240\n",
       "7200   62.296757  310.228171\n",
       "10800  62.171235  310.427102\n",
       "14400  61.053794  311.027861\n",
       "18000  62.006157   -0.000000\n",
       "21600  61.883992   -0.000000\n",
       "25200  62.065777   -0.000000\n",
       "28800  61.919403   -0.000000\n",
       "32400  62.073394   -0.000000\n",
       "36000  62.066191   -0.000000\n",
       "39600  62.191847   -0.000000\n",
       "43200  62.188861   -0.000000\n",
       "46800  62.137034   -0.000000\n",
       "50400  62.034652   -0.000000\n",
       "54000  -0.000000   -0.000000\n",
       "57600  -0.000000   -0.000000\n",
       "61200  -0.000000   -0.000000\n",
       "64800  -0.000000   -0.000000\n",
       "68400  -0.000000   -0.000000\n",
       "72000  -0.000000   -0.000000\n",
       "75600  -0.000000   -0.000000\n",
       "79200  -0.000000  309.062409\n",
       "82800  -0.000000  308.979438\n",
       "86400  -0.000000  309.644220"
      ]
     },
     "execution_count": 28,
     "metadata": {},
     "output_type": "execute_result"
    }
   ],
   "source": [
    "energy_usage_df"
   ]
  },
  {
   "cell_type": "code",
   "execution_count": 29,
   "id": "cd2b70e8-c619-4a8b-bd38-e079fac5da84",
   "metadata": {},
   "outputs": [
    {
     "data": {
      "text/plain": [
       "Text(0.5, 1.0, 'Pump Energy Usage over time')"
      ]
     },
     "execution_count": 29,
     "metadata": {},
     "output_type": "execute_result"
    },
    {
     "data": {
      "image/png": "[encoded data removed]",
      "text/plain": [
       "<Figure size 640x480 with 1 Axes>"
      ]
     },
     "metadata": {},
     "output_type": "display_data"
    }
   ],
   "source": [
    "energy_usage_df.index=energy_usage_df.index/3600\n",
    "energy_usage_df.plot()\n",
    "plt.xlabel('Time(hours)')\n",
    "plt.ylabel('Energy Usage(kwh)')\n",
    "plt.title('Pump Energy Usage over time')"
   ]
  },
  {
   "cell_type": "code",
   "execution_count": 30,
   "id": "31879c9a-b07b-4fb2-b23a-b25888df15c7",
   "metadata": {},
   "outputs": [
    {
     "name": "stdout",
     "output_type": "stream",
     "text": [
      "Total Energy Cost for each pump:\n",
      "10     0.391006\n",
      "335    1.115281\n",
      "dtype: float64\n"
     ]
    }
   ],
   "source": [
    "electricityCostperkwh=1.62 \n",
    "totalEnergyCost=energy_usage_df.sum()*(1/3600)*electricityCostperkwh\n",
    "print('Total Energy Cost for each pump:')\n",
    "print(totalEnergyCost)"
   ]
  },
  {
   "cell_type": "code",
   "execution_count": null,
   "id": "7d3a3454-c41e-4c70-803d-463c826f9ba9",
   "metadata": {},
   "outputs": [],
   "source": []
  },
  {
   "cell_type": "code",
   "execution_count": 89,
   "id": "b454905b-223a-4226-a3ba-b16b66009e8f",
   "metadata": {},
   "outputs": [
    {
     "data": {
      "text/plain": [
       "Index([ 0.0,  1.0,  2.0,  3.0,  4.0,  5.0,  6.0,  7.0,  8.0,  9.0, 10.0, 11.0,\n",
       "       12.0, 13.0, 14.0, 15.0, 16.0, 17.0, 18.0, 19.0, 20.0, 21.0, 22.0, 23.0,\n",
       "       24.0],\n",
       "      dtype='float64')"
      ]
     },
     "execution_count": 89,
     "metadata": {},
     "output_type": "execute_result"
    }
   ],
   "source": []
  },
  {
   "cell_type": "code",
   "execution_count": null,
   "id": "abf36871-df48-4d8c-b410-de54309f0a32",
   "metadata": {},
   "outputs": [],
   "source": []
  }
 ],
 "metadata": {
  "kernelspec": {
   "display_name": "Python 3 (ipykernel)",
   "language": "python",
   "name": "python3"
  },
  "language_info": {
   "codemirror_mode": {
    "name": "ipython",
    "version": 3
   },
   "file_extension": ".py",
   "mimetype": "text/x-python",
   "name": "python",
   "nbconvert_exporter": "python",
   "pygments_lexer": "ipython3",
   "version": "3.11.5"
  }
 },
 "nbformat": 4,
 "nbformat_minor": 5
}
