{
 "cells": [
  {
   "cell_type": "code",
   "execution_count": 1,
   "id": "1bfa2813-8c67-4871-a516-e8ba439375ea",
   "metadata": {},
   "outputs": [],
   "source": [
    "import wntr\n",
    "import matplotlib.pyplot as plt\n",
    "import numpy as np\n",
    "import pandas as pd"
   ]
  },
  {
   "cell_type": "code",
   "execution_count": 2,
   "id": "dce4b2dd-2a32-4ef0-87c0-8d0f72fbe43d",
   "metadata": {},
   "outputs": [],
   "source": [
    "cmap=plt.get_cmap('viridis')"
   ]
  },
  {
   "cell_type": "code",
   "execution_count": 3,
   "id": "0f781ea4-baf3-41dd-9d62-99dbe3335862",
   "metadata": {},
   "outputs": [],
   "source": [
    "inp_file='Net3.inp'"
   ]
  },
  {
   "cell_type": "code",
   "execution_count": 4,
   "id": "a163283e-7f96-49e0-ba71-b7603bc94d91",
   "metadata": {},
   "outputs": [],
   "source": [
    "wn=wntr.network.WaterNetworkModel(inp_file)"
   ]
  },
  {
   "cell_type": "code",
   "execution_count": 5,
   "id": "86d87212-6e16-4177-b544-8dc52a2205e9",
   "metadata": {},
   "outputs": [],
   "source": [
    "bulkDecayCoeff=-0.05\n",
    "wallDecayCoeff= -1e-5"
   ]
  },
  {
   "cell_type": "code",
   "execution_count": 6,
   "id": "4ba65df4-d84f-465a-88e1-5131b1715d47",
   "metadata": {},
   "outputs": [],
   "source": [
    "reservoir=wn.get_node('Lake')\n",
    "reservoir.source_quality=1.0 #mg/L"
   ]
  },
  {
   "cell_type": "code",
   "execution_count": 7,
   "id": "458a9904-ed16-498e-9495-2a54e39aa624",
   "metadata": {},
   "outputs": [],
   "source": [
    "for pipe_name,pipe in wn.pipes():\n",
    "    pipe.bulk_coeff=bulkDecayCoeff\n",
    "    pipe.wall_coeff=wallDecayCoeff\n",
    "    "
   ]
  },
  {
   "cell_type": "code",
   "execution_count": 8,
   "id": "8f690f66-94f7-45de-bf42-9c07f354142a",
   "metadata": {},
   "outputs": [],
   "source": [
    "wn.options.quality.parameter='CHEMICAL'\n",
    "wn.options.time.hydraulic_timestep=3600\n",
    "wn.options.time.quality_timestep=300\n",
    "wn.options.time.report_timestep=3600"
   ]
  },
  {
   "cell_type": "code",
   "execution_count": 9,
   "id": "bcb43d2a-edc5-45db-8234-af6cf920c94c",
   "metadata": {},
   "outputs": [],
   "source": [
    "sim=wntr.sim.WNTRSimulator(wn)\n",
    "results=sim.run_sim()\n"
   ]
  },
  {
   "cell_type": "code",
   "execution_count": 10,
   "id": "645da400-2b42-4e47-b376-07cf359267d3",
   "metadata": {},
   "outputs": [],
   "source": [
    "population=wntr.metrics.population(wn)\n",
    "juncsWithPopulation=population[population>0].index"
   ]
  },
  {
   "cell_type": "code",
   "execution_count": null,
   "id": "75891b25-d9c2-4e4a-883a-7ccf49afce9c",
   "metadata": {},
   "outputs": [],
   "source": []
  },
  {
   "cell_type": "code",
   "execution_count": null,
   "id": "724d6f89-6624-42f4-a204-f0a5b6bf6d05",
   "metadata": {},
   "outputs": [],
   "source": []
  },
  {
   "cell_type": "code",
   "execution_count": null,
   "id": "8e17b1eb-4568-4c4f-82d2-1cc986c53291",
   "metadata": {},
   "outputs": [],
   "source": []
  },
  {
   "cell_type": "code",
   "execution_count": null,
   "id": "12494d30-0629-44ca-96ab-01471b1fea47",
   "metadata": {},
   "outputs": [],
   "source": [
    "plt.plot(chlorine_concentration)"
   ]
  },
  {
   "cell_type": "code",
   "execution_count": null,
   "id": "88d31b6e-ecb4-4396-a0c5-49abf9760388",
   "metadata": {},
   "outputs": [],
   "source": []
  },
  {
   "cell_type": "code",
   "execution_count": null,
   "id": "4c669bb6-c6a0-4ff8-b483-6556b5afdbf9",
   "metadata": {},
   "outputs": [],
   "source": []
  }
 ],
 "metadata": {
  "kernelspec": {
   "display_name": "Python 3 (ipykernel)",
   "language": "python",
   "name": "python3"
  },
  "language_info": {
   "codemirror_mode": {
    "name": "ipython",
    "version": 3
   },
   "file_extension": ".py",
   "mimetype": "text/x-python",
   "name": "python",
   "nbconvert_exporter": "python",
   "pygments_lexer": "ipython3",
   "version": "3.11.5"
  }
 },
 "nbformat": 4,
 "nbformat_minor": 5
}
