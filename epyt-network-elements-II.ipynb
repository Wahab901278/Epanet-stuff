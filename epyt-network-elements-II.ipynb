{
 "cells": [
  {
   "cell_type": "code",
   "execution_count": 56,
   "id": "a853578a",
   "metadata": {},
   "outputs": [],
   "source": [
    "from epyt import epanet\n",
    "import pandas as pd\n",
    "import matplotlib.pyplot as plt"
   ]
  },
  {
   "cell_type": "code",
   "execution_count": 2,
   "id": "85a43455",
   "metadata": {},
   "outputs": [
    {
     "name": "stdout",
     "output_type": "stream",
     "text": [
      "EPANET version 20200 loaded (EPyT version 1.1.8).\n",
      "Input File Net1.inp loaded successfully.\n",
      "\n"
     ]
    }
   ],
   "source": [
    "d=epanet(\"Net1.inp\")"
   ]
  },
  {
   "cell_type": "code",
   "execution_count": 35,
   "id": "55cdf3a6",
   "metadata": {},
   "outputs": [],
   "source": [
    "nodes_data=[]\n",
    "links_data=[]"
   ]
  },
  {
   "cell_type": "code",
   "execution_count": 41,
   "id": "de1dac23",
   "metadata": {},
   "outputs": [],
   "source": [
    "node_ids=d.getNodeNameID()\n",
    "node_elevations=d.getNodeElevations()\n",
    "node_demands=list(d.getNodeBaseDemands().values())[0]\n",
    "node_qualities=d.getNodeActualQuality()"
   ]
  },
  {
   "cell_type": "code",
   "execution_count": 42,
   "id": "0167eb3c",
   "metadata": {},
   "outputs": [
    {
     "name": "stdout",
     "output_type": "stream",
     "text": [
      "['10', '11', '12', '13', '21', '22', '23', '31', '32', '9', '2']\n",
      "[710. 710. 700. 695. 700. 695. 690. 700. 710. 800. 850.]\n",
      "[  0. 150. 150. 100. 150. 200. 150. 100. 100.   0.   0.]\n",
      "[0. 0. 0. 0. 0. 0. 0. 0. 0. 0. 0.]\n"
     ]
    }
   ],
   "source": [
    "print(node_ids)\n",
    "print(node_elevations)\n",
    "print(node_demands)\n",
    "print(node_qualities)"
   ]
  },
  {
   "cell_type": "code",
   "execution_count": 63,
   "id": "9fc69f99",
   "metadata": {},
   "outputs": [],
   "source": [
    "for i in range(len(node_ids)):\n",
    "    nodes_data.append({\n",
    "        'Node IDS':node_ids[i],\n",
    "        'Elevations':node_elevations[i],\n",
    "        'Node Demands':node_demands[i],\n",
    "        'Node Qualities':node_qualities[i]\n",
    "    })"
   ]
  },
  {
   "cell_type": "code",
   "execution_count": 64,
   "id": "3b3c0d7a",
   "metadata": {},
   "outputs": [],
   "source": [
    "nodes_df=pd.DataFrame(nodes_data)"
   ]
  },
  {
   "cell_type": "code",
   "execution_count": 65,
   "id": "e9033c3c",
   "metadata": {},
   "outputs": [],
   "source": [
    "nodes_df=nodes_df.iloc[0:11]"
   ]
  },
  {
   "cell_type": "code",
   "execution_count": 66,
   "id": "f37dc051",
   "metadata": {},
   "outputs": [
    {
     "data": {
      "text/plain": [
       "723.6363636363636"
      ]
     },
     "execution_count": 66,
     "metadata": {},
     "output_type": "execute_result"
    }
   ],
   "source": [
    "nodes_df[\"Elevations\"].mean()"
   ]
  },
  {
   "cell_type": "code",
   "execution_count": 67,
   "id": "d5c8b0a6",
   "metadata": {},
   "outputs": [
    {
     "data": {
      "text/plain": [
       "7960.0"
      ]
     },
     "execution_count": 67,
     "metadata": {},
     "output_type": "execute_result"
    }
   ],
   "source": [
    "nodes_df[\"Elevations\"].sum()"
   ]
  },
  {
   "cell_type": "code",
   "execution_count": 68,
   "id": "e6416090",
   "metadata": {},
   "outputs": [
    {
     "data": {
      "text/plain": [
       "690.0"
      ]
     },
     "execution_count": 68,
     "metadata": {},
     "output_type": "execute_result"
    }
   ],
   "source": [
    "nodes_df[\"Elevations\"].min()"
   ]
  },
  {
   "cell_type": "code",
   "execution_count": 69,
   "id": "66b889b3",
   "metadata": {},
   "outputs": [
    {
     "data": {
      "text/plain": [
       "850.0"
      ]
     },
     "execution_count": 69,
     "metadata": {},
     "output_type": "execute_result"
    }
   ],
   "source": [
    "nodes_df[\"Elevations\"].max()"
   ]
  },
  {
   "cell_type": "code",
   "execution_count": 70,
   "id": "9b56e7ba",
   "metadata": {},
   "outputs": [
    {
     "data": {
      "text/html": [
       "<div>\n",
       "<style scoped>\n",
       "    .dataframe tbody tr th:only-of-type {\n",
       "        vertical-align: middle;\n",
       "    }\n",
       "\n",
       "    .dataframe tbody tr th {\n",
       "        vertical-align: top;\n",
       "    }\n",
       "\n",
       "    .dataframe thead th {\n",
       "        text-align: right;\n",
       "    }\n",
       "</style>\n",
       "<table border=\"1\" class=\"dataframe\">\n",
       "  <thead>\n",
       "    <tr style=\"text-align: right;\">\n",
       "      <th></th>\n",
       "      <th>Node IDS</th>\n",
       "      <th>Elevations</th>\n",
       "      <th>Node Demands</th>\n",
       "      <th>Node Qualities</th>\n",
       "    </tr>\n",
       "  </thead>\n",
       "  <tbody>\n",
       "    <tr>\n",
       "      <th>0</th>\n",
       "      <td>10</td>\n",
       "      <td>710.0</td>\n",
       "      <td>0.0</td>\n",
       "      <td>0.0</td>\n",
       "    </tr>\n",
       "    <tr>\n",
       "      <th>1</th>\n",
       "      <td>11</td>\n",
       "      <td>710.0</td>\n",
       "      <td>150.0</td>\n",
       "      <td>0.0</td>\n",
       "    </tr>\n",
       "    <tr>\n",
       "      <th>2</th>\n",
       "      <td>12</td>\n",
       "      <td>700.0</td>\n",
       "      <td>150.0</td>\n",
       "      <td>0.0</td>\n",
       "    </tr>\n",
       "    <tr>\n",
       "      <th>3</th>\n",
       "      <td>13</td>\n",
       "      <td>695.0</td>\n",
       "      <td>100.0</td>\n",
       "      <td>0.0</td>\n",
       "    </tr>\n",
       "    <tr>\n",
       "      <th>4</th>\n",
       "      <td>21</td>\n",
       "      <td>700.0</td>\n",
       "      <td>150.0</td>\n",
       "      <td>0.0</td>\n",
       "    </tr>\n",
       "    <tr>\n",
       "      <th>5</th>\n",
       "      <td>22</td>\n",
       "      <td>695.0</td>\n",
       "      <td>200.0</td>\n",
       "      <td>0.0</td>\n",
       "    </tr>\n",
       "    <tr>\n",
       "      <th>6</th>\n",
       "      <td>23</td>\n",
       "      <td>690.0</td>\n",
       "      <td>150.0</td>\n",
       "      <td>0.0</td>\n",
       "    </tr>\n",
       "    <tr>\n",
       "      <th>7</th>\n",
       "      <td>31</td>\n",
       "      <td>700.0</td>\n",
       "      <td>100.0</td>\n",
       "      <td>0.0</td>\n",
       "    </tr>\n",
       "    <tr>\n",
       "      <th>8</th>\n",
       "      <td>32</td>\n",
       "      <td>710.0</td>\n",
       "      <td>100.0</td>\n",
       "      <td>0.0</td>\n",
       "    </tr>\n",
       "    <tr>\n",
       "      <th>9</th>\n",
       "      <td>9</td>\n",
       "      <td>800.0</td>\n",
       "      <td>0.0</td>\n",
       "      <td>0.0</td>\n",
       "    </tr>\n",
       "    <tr>\n",
       "      <th>10</th>\n",
       "      <td>2</td>\n",
       "      <td>850.0</td>\n",
       "      <td>0.0</td>\n",
       "      <td>0.0</td>\n",
       "    </tr>\n",
       "  </tbody>\n",
       "</table>\n",
       "</div>"
      ],
      "text/plain": [
       "   Node IDS  Elevations  Node Demands  Node Qualities\n",
       "0        10       710.0           0.0             0.0\n",
       "1        11       710.0         150.0             0.0\n",
       "2        12       700.0         150.0             0.0\n",
       "3        13       695.0         100.0             0.0\n",
       "4        21       700.0         150.0             0.0\n",
       "5        22       695.0         200.0             0.0\n",
       "6        23       690.0         150.0             0.0\n",
       "7        31       700.0         100.0             0.0\n",
       "8        32       710.0         100.0             0.0\n",
       "9         9       800.0           0.0             0.0\n",
       "10        2       850.0           0.0             0.0"
      ]
     },
     "execution_count": 70,
     "metadata": {},
     "output_type": "execute_result"
    }
   ],
   "source": [
    "nodes_df"
   ]
  },
  {
   "cell_type": "code",
   "execution_count": 71,
   "id": "e06a1032",
   "metadata": {},
   "outputs": [
    {
     "data": {
      "text/plain": [
       "<BarContainer object of 11 artists>"
      ]
     },
     "execution_count": 71,
     "metadata": {},
     "output_type": "execute_result"
    },
    {
     "data": {
      "image/png": "[encoded data removed]",
      "text/plain": [
       "<Figure size 640x480 with 1 Axes>"
      ]
     },
     "metadata": {},
     "output_type": "display_data"
    }
   ],
   "source": [
    "plt.bar(nodes_df[\"Node IDS\"],nodes_df[\"Elevations\"])"
   ]
  },
  {
   "cell_type": "code",
   "execution_count": 72,
   "id": "55fbc5d2",
   "metadata": {},
   "outputs": [],
   "source": [
    "link_ids=d.getLinkNameID()\n",
    "link_length=d.getLinkLength()\n",
    "link_diameters=d.getLinkDiameter()\n",
    "link_flows=d.getLinkFlows()\n",
    "link_headloss=d.getLinkHeadloss()"
   ]
  },
  {
   "cell_type": "code",
   "execution_count": 73,
   "id": "51214623",
   "metadata": {},
   "outputs": [
    {
     "data": {
      "text/plain": [
       "['10',\n",
       " '11',\n",
       " '12',\n",
       " '21',\n",
       " '22',\n",
       " '31',\n",
       " '110',\n",
       " '111',\n",
       " '112',\n",
       " '113',\n",
       " '121',\n",
       " '122',\n",
       " '9']"
      ]
     },
     "execution_count": 73,
     "metadata": {},
     "output_type": "execute_result"
    }
   ],
   "source": [
    "link_ids"
   ]
  },
  {
   "cell_type": "code",
   "execution_count": 74,
   "id": "449829ed",
   "metadata": {},
   "outputs": [],
   "source": [
    "for i in range(len(link_ids)):\n",
    "    links_data.append({\n",
    "        'Link IDS':link_ids[i],\n",
    "        'Length':link_length[i],\n",
    "        'Diameter':link_diameters[i],\n",
    "        'Flow':link_flows[i],\n",
    "        'Headloss':link_headloss[i]\n",
    "    })"
   ]
  },
  {
   "cell_type": "code",
   "execution_count": 75,
   "id": "26798ac5",
   "metadata": {},
   "outputs": [],
   "source": [
    "links_df=pd.DataFrame(links_data)"
   ]
  },
  {
   "cell_type": "code",
   "execution_count": 77,
   "id": "76d0fdbb",
   "metadata": {},
   "outputs": [
    {
     "data": {
      "text/html": [
       "<div>\n",
       "<style scoped>\n",
       "    .dataframe tbody tr th:only-of-type {\n",
       "        vertical-align: middle;\n",
       "    }\n",
       "\n",
       "    .dataframe tbody tr th {\n",
       "        vertical-align: top;\n",
       "    }\n",
       "\n",
       "    .dataframe thead th {\n",
       "        text-align: right;\n",
       "    }\n",
       "</style>\n",
       "<table border=\"1\" class=\"dataframe\">\n",
       "  <thead>\n",
       "    <tr style=\"text-align: right;\">\n",
       "      <th></th>\n",
       "      <th>Link IDS</th>\n",
       "      <th>Length</th>\n",
       "      <th>Diameter</th>\n",
       "      <th>Flow</th>\n",
       "      <th>Headloss</th>\n",
       "    </tr>\n",
       "  </thead>\n",
       "  <tbody>\n",
       "    <tr>\n",
       "      <th>0</th>\n",
       "      <td>10</td>\n",
       "      <td>10530.0</td>\n",
       "      <td>18.0</td>\n",
       "      <td>0.0</td>\n",
       "      <td>0.0</td>\n",
       "    </tr>\n",
       "    <tr>\n",
       "      <th>1</th>\n",
       "      <td>11</td>\n",
       "      <td>5280.0</td>\n",
       "      <td>14.0</td>\n",
       "      <td>0.0</td>\n",
       "      <td>0.0</td>\n",
       "    </tr>\n",
       "    <tr>\n",
       "      <th>2</th>\n",
       "      <td>12</td>\n",
       "      <td>5280.0</td>\n",
       "      <td>10.0</td>\n",
       "      <td>0.0</td>\n",
       "      <td>0.0</td>\n",
       "    </tr>\n",
       "    <tr>\n",
       "      <th>3</th>\n",
       "      <td>21</td>\n",
       "      <td>5280.0</td>\n",
       "      <td>10.0</td>\n",
       "      <td>0.0</td>\n",
       "      <td>0.0</td>\n",
       "    </tr>\n",
       "    <tr>\n",
       "      <th>4</th>\n",
       "      <td>22</td>\n",
       "      <td>5280.0</td>\n",
       "      <td>12.0</td>\n",
       "      <td>0.0</td>\n",
       "      <td>0.0</td>\n",
       "    </tr>\n",
       "    <tr>\n",
       "      <th>5</th>\n",
       "      <td>31</td>\n",
       "      <td>5280.0</td>\n",
       "      <td>6.0</td>\n",
       "      <td>0.0</td>\n",
       "      <td>0.0</td>\n",
       "    </tr>\n",
       "    <tr>\n",
       "      <th>6</th>\n",
       "      <td>110</td>\n",
       "      <td>200.0</td>\n",
       "      <td>18.0</td>\n",
       "      <td>0.0</td>\n",
       "      <td>0.0</td>\n",
       "    </tr>\n",
       "    <tr>\n",
       "      <th>7</th>\n",
       "      <td>111</td>\n",
       "      <td>5280.0</td>\n",
       "      <td>10.0</td>\n",
       "      <td>0.0</td>\n",
       "      <td>0.0</td>\n",
       "    </tr>\n",
       "    <tr>\n",
       "      <th>8</th>\n",
       "      <td>112</td>\n",
       "      <td>5280.0</td>\n",
       "      <td>12.0</td>\n",
       "      <td>0.0</td>\n",
       "      <td>0.0</td>\n",
       "    </tr>\n",
       "    <tr>\n",
       "      <th>9</th>\n",
       "      <td>113</td>\n",
       "      <td>5280.0</td>\n",
       "      <td>8.0</td>\n",
       "      <td>0.0</td>\n",
       "      <td>0.0</td>\n",
       "    </tr>\n",
       "    <tr>\n",
       "      <th>10</th>\n",
       "      <td>121</td>\n",
       "      <td>5280.0</td>\n",
       "      <td>8.0</td>\n",
       "      <td>0.0</td>\n",
       "      <td>0.0</td>\n",
       "    </tr>\n",
       "    <tr>\n",
       "      <th>11</th>\n",
       "      <td>122</td>\n",
       "      <td>5280.0</td>\n",
       "      <td>6.0</td>\n",
       "      <td>0.0</td>\n",
       "      <td>0.0</td>\n",
       "    </tr>\n",
       "    <tr>\n",
       "      <th>12</th>\n",
       "      <td>9</td>\n",
       "      <td>0.0</td>\n",
       "      <td>0.0</td>\n",
       "      <td>0.0</td>\n",
       "      <td>0.0</td>\n",
       "    </tr>\n",
       "  </tbody>\n",
       "</table>\n",
       "</div>"
      ],
      "text/plain": [
       "   Link IDS   Length  Diameter  Flow  Headloss\n",
       "0        10  10530.0      18.0   0.0       0.0\n",
       "1        11   5280.0      14.0   0.0       0.0\n",
       "2        12   5280.0      10.0   0.0       0.0\n",
       "3        21   5280.0      10.0   0.0       0.0\n",
       "4        22   5280.0      12.0   0.0       0.0\n",
       "5        31   5280.0       6.0   0.0       0.0\n",
       "6       110    200.0      18.0   0.0       0.0\n",
       "7       111   5280.0      10.0   0.0       0.0\n",
       "8       112   5280.0      12.0   0.0       0.0\n",
       "9       113   5280.0       8.0   0.0       0.0\n",
       "10      121   5280.0       8.0   0.0       0.0\n",
       "11      122   5280.0       6.0   0.0       0.0\n",
       "12        9      0.0       0.0   0.0       0.0"
      ]
     },
     "execution_count": 77,
     "metadata": {},
     "output_type": "execute_result"
    }
   ],
   "source": [
    "links_df"
   ]
  },
  {
   "cell_type": "code",
   "execution_count": 78,
   "id": "856aa98c",
   "metadata": {},
   "outputs": [
    {
     "data": {
      "text/plain": [
       "63530.0"
      ]
     },
     "execution_count": 78,
     "metadata": {},
     "output_type": "execute_result"
    }
   ],
   "source": [
    "links_df[\"Length\"].sum()"
   ]
  },
  {
   "cell_type": "code",
   "execution_count": 79,
   "id": "630a113e",
   "metadata": {},
   "outputs": [
    {
     "data": {
      "text/plain": [
       "10.153846153846153"
      ]
     },
     "execution_count": 79,
     "metadata": {},
     "output_type": "execute_result"
    }
   ],
   "source": [
    "links_df[\"Diameter\"].mean()"
   ]
  },
  {
   "cell_type": "code",
   "execution_count": 84,
   "id": "6d429d88",
   "metadata": {},
   "outputs": [],
   "source": [
    "df=pd.concat([nodes_df,links_df],axis=1)"
   ]
  },
  {
   "cell_type": "code",
   "execution_count": 85,
   "id": "24d3a67a",
   "metadata": {},
   "outputs": [
    {
     "data": {
      "text/html": [
       "<div>\n",
       "<style scoped>\n",
       "    .dataframe tbody tr th:only-of-type {\n",
       "        vertical-align: middle;\n",
       "    }\n",
       "\n",
       "    .dataframe tbody tr th {\n",
       "        vertical-align: top;\n",
       "    }\n",
       "\n",
       "    .dataframe thead th {\n",
       "        text-align: right;\n",
       "    }\n",
       "</style>\n",
       "<table border=\"1\" class=\"dataframe\">\n",
       "  <thead>\n",
       "    <tr style=\"text-align: right;\">\n",
       "      <th></th>\n",
       "      <th>Node IDS</th>\n",
       "      <th>Elevations</th>\n",
       "      <th>Node Demands</th>\n",
       "      <th>Node Qualities</th>\n",
       "      <th>Link IDS</th>\n",
       "      <th>Length</th>\n",
       "      <th>Diameter</th>\n",
       "      <th>Flow</th>\n",
       "      <th>Headloss</th>\n",
       "    </tr>\n",
       "  </thead>\n",
       "  <tbody>\n",
       "    <tr>\n",
       "      <th>0</th>\n",
       "      <td>10</td>\n",
       "      <td>710.0</td>\n",
       "      <td>0.0</td>\n",
       "      <td>0.0</td>\n",
       "      <td>10</td>\n",
       "      <td>10530.0</td>\n",
       "      <td>18.0</td>\n",
       "      <td>0.0</td>\n",
       "      <td>0.0</td>\n",
       "    </tr>\n",
       "    <tr>\n",
       "      <th>1</th>\n",
       "      <td>11</td>\n",
       "      <td>710.0</td>\n",
       "      <td>150.0</td>\n",
       "      <td>0.0</td>\n",
       "      <td>11</td>\n",
       "      <td>5280.0</td>\n",
       "      <td>14.0</td>\n",
       "      <td>0.0</td>\n",
       "      <td>0.0</td>\n",
       "    </tr>\n",
       "    <tr>\n",
       "      <th>2</th>\n",
       "      <td>12</td>\n",
       "      <td>700.0</td>\n",
       "      <td>150.0</td>\n",
       "      <td>0.0</td>\n",
       "      <td>12</td>\n",
       "      <td>5280.0</td>\n",
       "      <td>10.0</td>\n",
       "      <td>0.0</td>\n",
       "      <td>0.0</td>\n",
       "    </tr>\n",
       "    <tr>\n",
       "      <th>3</th>\n",
       "      <td>13</td>\n",
       "      <td>695.0</td>\n",
       "      <td>100.0</td>\n",
       "      <td>0.0</td>\n",
       "      <td>21</td>\n",
       "      <td>5280.0</td>\n",
       "      <td>10.0</td>\n",
       "      <td>0.0</td>\n",
       "      <td>0.0</td>\n",
       "    </tr>\n",
       "    <tr>\n",
       "      <th>4</th>\n",
       "      <td>21</td>\n",
       "      <td>700.0</td>\n",
       "      <td>150.0</td>\n",
       "      <td>0.0</td>\n",
       "      <td>22</td>\n",
       "      <td>5280.0</td>\n",
       "      <td>12.0</td>\n",
       "      <td>0.0</td>\n",
       "      <td>0.0</td>\n",
       "    </tr>\n",
       "    <tr>\n",
       "      <th>5</th>\n",
       "      <td>22</td>\n",
       "      <td>695.0</td>\n",
       "      <td>200.0</td>\n",
       "      <td>0.0</td>\n",
       "      <td>31</td>\n",
       "      <td>5280.0</td>\n",
       "      <td>6.0</td>\n",
       "      <td>0.0</td>\n",
       "      <td>0.0</td>\n",
       "    </tr>\n",
       "    <tr>\n",
       "      <th>6</th>\n",
       "      <td>23</td>\n",
       "      <td>690.0</td>\n",
       "      <td>150.0</td>\n",
       "      <td>0.0</td>\n",
       "      <td>110</td>\n",
       "      <td>200.0</td>\n",
       "      <td>18.0</td>\n",
       "      <td>0.0</td>\n",
       "      <td>0.0</td>\n",
       "    </tr>\n",
       "    <tr>\n",
       "      <th>7</th>\n",
       "      <td>31</td>\n",
       "      <td>700.0</td>\n",
       "      <td>100.0</td>\n",
       "      <td>0.0</td>\n",
       "      <td>111</td>\n",
       "      <td>5280.0</td>\n",
       "      <td>10.0</td>\n",
       "      <td>0.0</td>\n",
       "      <td>0.0</td>\n",
       "    </tr>\n",
       "    <tr>\n",
       "      <th>8</th>\n",
       "      <td>32</td>\n",
       "      <td>710.0</td>\n",
       "      <td>100.0</td>\n",
       "      <td>0.0</td>\n",
       "      <td>112</td>\n",
       "      <td>5280.0</td>\n",
       "      <td>12.0</td>\n",
       "      <td>0.0</td>\n",
       "      <td>0.0</td>\n",
       "    </tr>\n",
       "    <tr>\n",
       "      <th>9</th>\n",
       "      <td>9</td>\n",
       "      <td>800.0</td>\n",
       "      <td>0.0</td>\n",
       "      <td>0.0</td>\n",
       "      <td>113</td>\n",
       "      <td>5280.0</td>\n",
       "      <td>8.0</td>\n",
       "      <td>0.0</td>\n",
       "      <td>0.0</td>\n",
       "    </tr>\n",
       "    <tr>\n",
       "      <th>10</th>\n",
       "      <td>2</td>\n",
       "      <td>850.0</td>\n",
       "      <td>0.0</td>\n",
       "      <td>0.0</td>\n",
       "      <td>121</td>\n",
       "      <td>5280.0</td>\n",
       "      <td>8.0</td>\n",
       "      <td>0.0</td>\n",
       "      <td>0.0</td>\n",
       "    </tr>\n",
       "    <tr>\n",
       "      <th>11</th>\n",
       "      <td>NaN</td>\n",
       "      <td>NaN</td>\n",
       "      <td>NaN</td>\n",
       "      <td>NaN</td>\n",
       "      <td>122</td>\n",
       "      <td>5280.0</td>\n",
       "      <td>6.0</td>\n",
       "      <td>0.0</td>\n",
       "      <td>0.0</td>\n",
       "    </tr>\n",
       "    <tr>\n",
       "      <th>12</th>\n",
       "      <td>NaN</td>\n",
       "      <td>NaN</td>\n",
       "      <td>NaN</td>\n",
       "      <td>NaN</td>\n",
       "      <td>9</td>\n",
       "      <td>0.0</td>\n",
       "      <td>0.0</td>\n",
       "      <td>0.0</td>\n",
       "      <td>0.0</td>\n",
       "    </tr>\n",
       "  </tbody>\n",
       "</table>\n",
       "</div>"
      ],
      "text/plain": [
       "   Node IDS  Elevations  Node Demands  Node Qualities Link IDS   Length  \\\n",
       "0        10       710.0           0.0             0.0       10  10530.0   \n",
       "1        11       710.0         150.0             0.0       11   5280.0   \n",
       "2        12       700.0         150.0             0.0       12   5280.0   \n",
       "3        13       695.0         100.0             0.0       21   5280.0   \n",
       "4        21       700.0         150.0             0.0       22   5280.0   \n",
       "5        22       695.0         200.0             0.0       31   5280.0   \n",
       "6        23       690.0         150.0             0.0      110    200.0   \n",
       "7        31       700.0         100.0             0.0      111   5280.0   \n",
       "8        32       710.0         100.0             0.0      112   5280.0   \n",
       "9         9       800.0           0.0             0.0      113   5280.0   \n",
       "10        2       850.0           0.0             0.0      121   5280.0   \n",
       "11      NaN         NaN           NaN             NaN      122   5280.0   \n",
       "12      NaN         NaN           NaN             NaN        9      0.0   \n",
       "\n",
       "    Diameter  Flow  Headloss  \n",
       "0       18.0   0.0       0.0  \n",
       "1       14.0   0.0       0.0  \n",
       "2       10.0   0.0       0.0  \n",
       "3       10.0   0.0       0.0  \n",
       "4       12.0   0.0       0.0  \n",
       "5        6.0   0.0       0.0  \n",
       "6       18.0   0.0       0.0  \n",
       "7       10.0   0.0       0.0  \n",
       "8       12.0   0.0       0.0  \n",
       "9        8.0   0.0       0.0  \n",
       "10       8.0   0.0       0.0  \n",
       "11       6.0   0.0       0.0  \n",
       "12       0.0   0.0       0.0  "
      ]
     },
     "execution_count": 85,
     "metadata": {},
     "output_type": "execute_result"
    }
   ],
   "source": [
    "df"
   ]
  },
  {
   "cell_type": "code",
   "execution_count": 86,
   "id": "c5df85eb",
   "metadata": {},
   "outputs": [
    {
     "data": {
      "text/html": [
       "<div>\n",
       "<style scoped>\n",
       "    .dataframe tbody tr th:only-of-type {\n",
       "        vertical-align: middle;\n",
       "    }\n",
       "\n",
       "    .dataframe tbody tr th {\n",
       "        vertical-align: top;\n",
       "    }\n",
       "\n",
       "    .dataframe thead th {\n",
       "        text-align: right;\n",
       "    }\n",
       "</style>\n",
       "<table border=\"1\" class=\"dataframe\">\n",
       "  <thead>\n",
       "    <tr style=\"text-align: right;\">\n",
       "      <th></th>\n",
       "      <th>Node IDS</th>\n",
       "      <th>Elevations</th>\n",
       "      <th>Node Demands</th>\n",
       "      <th>Node Qualities</th>\n",
       "      <th>Link IDS</th>\n",
       "      <th>Length</th>\n",
       "      <th>Diameter</th>\n",
       "      <th>Flow</th>\n",
       "      <th>Headloss</th>\n",
       "    </tr>\n",
       "  </thead>\n",
       "  <tbody>\n",
       "    <tr>\n",
       "      <th>Node IDS</th>\n",
       "      <td>1.000000</td>\n",
       "      <td>-0.620888</td>\n",
       "      <td>0.510646</td>\n",
       "      <td>NaN</td>\n",
       "      <td>0.249403</td>\n",
       "      <td>-0.304520</td>\n",
       "      <td>0.089595</td>\n",
       "      <td>NaN</td>\n",
       "      <td>NaN</td>\n",
       "    </tr>\n",
       "    <tr>\n",
       "      <th>Elevations</th>\n",
       "      <td>-0.620888</td>\n",
       "      <td>1.000000</td>\n",
       "      <td>-0.723863</td>\n",
       "      <td>NaN</td>\n",
       "      <td>0.517698</td>\n",
       "      <td>0.083010</td>\n",
       "      <td>-0.394493</td>\n",
       "      <td>NaN</td>\n",
       "      <td>NaN</td>\n",
       "    </tr>\n",
       "    <tr>\n",
       "      <th>Node Demands</th>\n",
       "      <td>0.510646</td>\n",
       "      <td>-0.723863</td>\n",
       "      <td>1.000000</td>\n",
       "      <td>NaN</td>\n",
       "      <td>-0.380761</td>\n",
       "      <td>-0.476891</td>\n",
       "      <td>-0.036187</td>\n",
       "      <td>NaN</td>\n",
       "      <td>NaN</td>\n",
       "    </tr>\n",
       "    <tr>\n",
       "      <th>Node Qualities</th>\n",
       "      <td>NaN</td>\n",
       "      <td>NaN</td>\n",
       "      <td>NaN</td>\n",
       "      <td>NaN</td>\n",
       "      <td>NaN</td>\n",
       "      <td>NaN</td>\n",
       "      <td>NaN</td>\n",
       "      <td>NaN</td>\n",
       "      <td>NaN</td>\n",
       "    </tr>\n",
       "    <tr>\n",
       "      <th>Link IDS</th>\n",
       "      <td>0.249403</td>\n",
       "      <td>0.517698</td>\n",
       "      <td>-0.380761</td>\n",
       "      <td>NaN</td>\n",
       "      <td>1.000000</td>\n",
       "      <td>-0.149684</td>\n",
       "      <td>-0.007179</td>\n",
       "      <td>NaN</td>\n",
       "      <td>NaN</td>\n",
       "    </tr>\n",
       "    <tr>\n",
       "      <th>Length</th>\n",
       "      <td>-0.304520</td>\n",
       "      <td>0.083010</td>\n",
       "      <td>-0.476891</td>\n",
       "      <td>NaN</td>\n",
       "      <td>-0.149684</td>\n",
       "      <td>1.000000</td>\n",
       "      <td>0.361415</td>\n",
       "      <td>NaN</td>\n",
       "      <td>NaN</td>\n",
       "    </tr>\n",
       "    <tr>\n",
       "      <th>Diameter</th>\n",
       "      <td>0.089595</td>\n",
       "      <td>-0.394493</td>\n",
       "      <td>-0.036187</td>\n",
       "      <td>NaN</td>\n",
       "      <td>-0.007179</td>\n",
       "      <td>0.361415</td>\n",
       "      <td>1.000000</td>\n",
       "      <td>NaN</td>\n",
       "      <td>NaN</td>\n",
       "    </tr>\n",
       "    <tr>\n",
       "      <th>Flow</th>\n",
       "      <td>NaN</td>\n",
       "      <td>NaN</td>\n",
       "      <td>NaN</td>\n",
       "      <td>NaN</td>\n",
       "      <td>NaN</td>\n",
       "      <td>NaN</td>\n",
       "      <td>NaN</td>\n",
       "      <td>NaN</td>\n",
       "      <td>NaN</td>\n",
       "    </tr>\n",
       "    <tr>\n",
       "      <th>Headloss</th>\n",
       "      <td>NaN</td>\n",
       "      <td>NaN</td>\n",
       "      <td>NaN</td>\n",
       "      <td>NaN</td>\n",
       "      <td>NaN</td>\n",
       "      <td>NaN</td>\n",
       "      <td>NaN</td>\n",
       "      <td>NaN</td>\n",
       "      <td>NaN</td>\n",
       "    </tr>\n",
       "  </tbody>\n",
       "</table>\n",
       "</div>"
      ],
      "text/plain": [
       "                Node IDS  Elevations  Node Demands  Node Qualities  Link IDS  \\\n",
       "Node IDS        1.000000   -0.620888      0.510646             NaN  0.249403   \n",
       "Elevations     -0.620888    1.000000     -0.723863             NaN  0.517698   \n",
       "Node Demands    0.510646   -0.723863      1.000000             NaN -0.380761   \n",
       "Node Qualities       NaN         NaN           NaN             NaN       NaN   \n",
       "Link IDS        0.249403    0.517698     -0.380761             NaN  1.000000   \n",
       "Length         -0.304520    0.083010     -0.476891             NaN -0.149684   \n",
       "Diameter        0.089595   -0.394493     -0.036187             NaN -0.007179   \n",
       "Flow                 NaN         NaN           NaN             NaN       NaN   \n",
       "Headloss             NaN         NaN           NaN             NaN       NaN   \n",
       "\n",
       "                  Length  Diameter  Flow  Headloss  \n",
       "Node IDS       -0.304520  0.089595   NaN       NaN  \n",
       "Elevations      0.083010 -0.394493   NaN       NaN  \n",
       "Node Demands   -0.476891 -0.036187   NaN       NaN  \n",
       "Node Qualities       NaN       NaN   NaN       NaN  \n",
       "Link IDS       -0.149684 -0.007179   NaN       NaN  \n",
       "Length          1.000000  0.361415   NaN       NaN  \n",
       "Diameter        0.361415  1.000000   NaN       NaN  \n",
       "Flow                 NaN       NaN   NaN       NaN  \n",
       "Headloss             NaN       NaN   NaN       NaN  "
      ]
     },
     "execution_count": 86,
     "metadata": {},
     "output_type": "execute_result"
    }
   ],
   "source": [
    "df.corr()"
   ]
  },
  {
   "cell_type": "code",
   "execution_count": null,
   "id": "9dd5d2a5",
   "metadata": {},
   "outputs": [],
   "source": []
  }
 ],
 "metadata": {
  "kernelspec": {
   "display_name": "Python 3 (ipykernel)",
   "language": "python",
   "name": "python3"
  },
  "language_info": {
   "codemirror_mode": {
    "name": "ipython",
    "version": 3
   },
   "file_extension": ".py",
   "mimetype": "text/x-python",
   "name": "python",
   "nbconvert_exporter": "python",
   "pygments_lexer": "ipython3",
   "version": "3.11.5"
  }
 },
 "nbformat": 4,
 "nbformat_minor": 5
}
