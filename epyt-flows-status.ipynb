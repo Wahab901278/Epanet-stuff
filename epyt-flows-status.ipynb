{
 "cells": [
  {
   "cell_type": "code",
   "execution_count": 50,
   "id": "1536ac3b",
   "metadata": {},
   "outputs": [],
   "source": [
    "from epyt import epanet\n",
    "import matplotlib.pyplot as plt\n",
    "import pandas as pd"
   ]
  },
  {
   "cell_type": "code",
   "execution_count": 3,
   "id": "7f31d551",
   "metadata": {},
   "outputs": [],
   "source": [
    "#print(dir(epanet))"
   ]
  },
  {
   "cell_type": "code",
   "execution_count": 4,
   "id": "9f990339",
   "metadata": {},
   "outputs": [
    {
     "name": "stdout",
     "output_type": "stream",
     "text": [
      "EPANET version 20200 loaded (EPyT version 1.1.8).\n",
      "Input File Net1.inp loaded successfully.\n",
      "\n"
     ]
    }
   ],
   "source": [
    "d=epanet(\"Net1.inp\")"
   ]
  },
  {
   "cell_type": "code",
   "execution_count": 5,
   "id": "9c69c076",
   "metadata": {},
   "outputs": [],
   "source": [
    "node_count=d.getNodeCount()"
   ]
  },
  {
   "cell_type": "code",
   "execution_count": 6,
   "id": "00964ed4",
   "metadata": {},
   "outputs": [
    {
     "name": "stdout",
     "output_type": "stream",
     "text": [
      "Total Nodes:11\n"
     ]
    }
   ],
   "source": [
    "print(f\"Total Nodes:{node_count}\")"
   ]
  },
  {
   "cell_type": "code",
   "execution_count": 7,
   "id": "042706db",
   "metadata": {},
   "outputs": [],
   "source": [
    "node_names=d.getNodeNameID()"
   ]
  },
  {
   "cell_type": "code",
   "execution_count": 8,
   "id": "a0c340dc",
   "metadata": {},
   "outputs": [
    {
     "name": "stdout",
     "output_type": "stream",
     "text": [
      "Nodes Names:['10', '11', '12', '13', '21', '22', '23', '31', '32', '9', '2']\n"
     ]
    }
   ],
   "source": [
    "print(f\"Nodes Names:{node_names}\")"
   ]
  },
  {
   "cell_type": "code",
   "execution_count": 9,
   "id": "0b2a7ef3",
   "metadata": {},
   "outputs": [
    {
     "data": {
      "text/plain": [
       "800.0"
      ]
     },
     "execution_count": 9,
     "metadata": {},
     "output_type": "execute_result"
    }
   ],
   "source": [
    "d.getNodeElevations(node_names[0])"
   ]
  },
  {
   "cell_type": "code",
   "execution_count": 10,
   "id": "e51e163c",
   "metadata": {},
   "outputs": [
    {
     "name": "stdout",
     "output_type": "stream",
     "text": [
      "Node 10:Elevation=800.0,Base Demand={1: array([0.])}\n",
      "Node 11:Elevation=850.0,Base Demand={1: array([150.])}\n",
      "Node 12:Elevation=0.0,Base Demand={1: array([150.])}\n",
      "Node 13:Elevation=0.0,Base Demand={1: array([100.])}\n",
      "Node 21:Elevation=0.0,Base Demand={1: array([150.])}\n"
     ]
    },
    {
     "name": "stderr",
     "output_type": "stream",
     "text": [
      "/home/wahab901278/anaconda3/lib/python3.11/site-packages/epyt/epanet.py:14234: UserWarning: Error 203: function call contains undefined node\n",
      "  warnings.warn(errmssg.value.decode())\n",
      "/home/wahab901278/anaconda3/lib/python3.11/site-packages/epyt/epanet.py:14234: UserWarning: Error 203: function call contains undefined node\n",
      "  warnings.warn(errmssg.value.decode())\n",
      "/home/wahab901278/anaconda3/lib/python3.11/site-packages/epyt/epanet.py:14234: UserWarning: Error 203: function call contains undefined node\n",
      "  warnings.warn(errmssg.value.decode())\n"
     ]
    }
   ],
   "source": [
    "for node in node_names[:5]:\n",
    "    elevation=d.getNodeElevations(node)\n",
    "    base_demand=d.getNodeBaseDemands(node)\n",
    "    print(f\"Node {node}:Elevation={elevation},Base Demand={base_demand}\")"
   ]
  },
  {
   "cell_type": "code",
   "execution_count": 11,
   "id": "0465026f",
   "metadata": {},
   "outputs": [],
   "source": [
    "link_count=d.getLinkCount()"
   ]
  },
  {
   "cell_type": "code",
   "execution_count": 12,
   "id": "aeff322d",
   "metadata": {},
   "outputs": [
    {
     "data": {
      "text/plain": [
       "13"
      ]
     },
     "execution_count": 12,
     "metadata": {},
     "output_type": "execute_result"
    }
   ],
   "source": [
    "link_count"
   ]
  },
  {
   "cell_type": "code",
   "execution_count": 13,
   "id": "233671f3",
   "metadata": {},
   "outputs": [],
   "source": [
    "link_names=d.getLinkNameID()"
   ]
  },
  {
   "cell_type": "code",
   "execution_count": 14,
   "id": "cfe4a521",
   "metadata": {},
   "outputs": [
    {
     "data": {
      "text/plain": [
       "['10',\n",
       " '11',\n",
       " '12',\n",
       " '21',\n",
       " '22',\n",
       " '31',\n",
       " '110',\n",
       " '111',\n",
       " '112',\n",
       " '113',\n",
       " '121',\n",
       " '122',\n",
       " '9']"
      ]
     },
     "execution_count": 14,
     "metadata": {},
     "output_type": "execute_result"
    }
   ],
   "source": [
    "link_names"
   ]
  },
  {
   "cell_type": "code",
   "execution_count": 15,
   "id": "d6176f89",
   "metadata": {},
   "outputs": [
    {
     "name": "stdout",
     "output_type": "stream",
     "text": [
      "Pipe 10:Lengths=5280.0,Diameter=8.0,Roughness=100.0\n",
      "Pipe 11:Lengths=5280.0,Diameter=8.0,Roughness=100.0\n",
      "Pipe 12:Lengths=5280.0,Diameter=6.0,Roughness=100.0\n",
      "Pipe 21:Lengths=0.0,Diameter=0.0,Roughness=0.0\n",
      "Pipe 22:Lengths=0.0,Diameter=0.0,Roughness=0.0\n"
     ]
    },
    {
     "name": "stderr",
     "output_type": "stream",
     "text": [
      "/home/wahab901278/anaconda3/lib/python3.11/site-packages/epyt/epanet.py:14234: UserWarning: Error 204: function call contains undefined link\n",
      "  warnings.warn(errmssg.value.decode())\n",
      "/home/wahab901278/anaconda3/lib/python3.11/site-packages/epyt/epanet.py:14234: UserWarning: Error 204: function call contains undefined link\n",
      "  warnings.warn(errmssg.value.decode())\n",
      "/home/wahab901278/anaconda3/lib/python3.11/site-packages/epyt/epanet.py:14234: UserWarning: Error 204: function call contains undefined link\n",
      "  warnings.warn(errmssg.value.decode())\n",
      "/home/wahab901278/anaconda3/lib/python3.11/site-packages/epyt/epanet.py:14234: UserWarning: Error 204: function call contains undefined link\n",
      "  warnings.warn(errmssg.value.decode())\n",
      "/home/wahab901278/anaconda3/lib/python3.11/site-packages/epyt/epanet.py:14234: UserWarning: Error 204: function call contains undefined link\n",
      "  warnings.warn(errmssg.value.decode())\n",
      "/home/wahab901278/anaconda3/lib/python3.11/site-packages/epyt/epanet.py:14234: UserWarning: Error 204: function call contains undefined link\n",
      "  warnings.warn(errmssg.value.decode())\n"
     ]
    }
   ],
   "source": [
    "for link in link_names[:5]:\n",
    "    length=d.getLinkLength(link)\n",
    "    diameter=d.getLinkDiameter(link)\n",
    "    roughness=d.getLinkRoughnessCoeff(link)\n",
    "    print(f\"Pipe {link}:Lengths={length},Diameter={diameter},Roughness={roughness}\")"
   ]
  },
  {
   "cell_type": "code",
   "execution_count": 16,
   "id": "943d3bc9",
   "metadata": {},
   "outputs": [],
   "source": [
    "node_id=node_names[0]"
   ]
  },
  {
   "cell_type": "code",
   "execution_count": 17,
   "id": "3805ee14",
   "metadata": {},
   "outputs": [
    {
     "name": "stdout",
     "output_type": "stream",
     "text": [
      "10\n"
     ]
    }
   ],
   "source": [
    "print(node_id)"
   ]
  },
  {
   "cell_type": "code",
   "execution_count": 18,
   "id": "c6d5aad0",
   "metadata": {},
   "outputs": [
    {
     "name": "stdout",
     "output_type": "stream",
     "text": [
      "1\n"
     ]
    }
   ],
   "source": [
    "print(d.getNodeIndex(node_id))"
   ]
  },
  {
   "cell_type": "code",
   "execution_count": 19,
   "id": "cff32a29",
   "metadata": {},
   "outputs": [],
   "source": [
    "link_id=link_names[0]"
   ]
  },
  {
   "cell_type": "code",
   "execution_count": 20,
   "id": "550f2149",
   "metadata": {},
   "outputs": [
    {
     "name": "stdout",
     "output_type": "stream",
     "text": [
      "1\n"
     ]
    }
   ],
   "source": [
    "print(d.getLinkIndex(link_id))"
   ]
  },
  {
   "cell_type": "code",
   "execution_count": 24,
   "id": "6a8adef9",
   "metadata": {},
   "outputs": [],
   "source": [
    "new_diameter=0.5\n",
    "d.setLinkDiameter(1,new_diameter)"
   ]
  },
  {
   "cell_type": "code",
   "execution_count": 25,
   "id": "c4241287",
   "metadata": {},
   "outputs": [
    {
     "data": {
      "text/plain": [
       "array(0.5)"
      ]
     },
     "execution_count": 25,
     "metadata": {},
     "output_type": "execute_result"
    }
   ],
   "source": [
    "d.getLinkDiameter(1)"
   ]
  },
  {
   "cell_type": "code",
   "execution_count": 26,
   "id": "59ae37c0",
   "metadata": {},
   "outputs": [],
   "source": [
    "d.setNodeBaseDemands(3,80)"
   ]
  },
  {
   "cell_type": "code",
   "execution_count": 28,
   "id": "654026c2",
   "metadata": {},
   "outputs": [
    {
     "data": {
      "text/plain": [
       "{1: array([80.])}"
      ]
     },
     "execution_count": 28,
     "metadata": {},
     "output_type": "execute_result"
    }
   ],
   "source": [
    "d.getNodeBaseDemands(3)"
   ]
  },
  {
   "cell_type": "code",
   "execution_count": 36,
   "id": "43fe89ac",
   "metadata": {},
   "outputs": [
    {
     "data": {
      "image/png": "[encoded data removed]",
      "text/plain": [
       "<Figure size 900x600 with 1 Axes>"
      ]
     },
     "metadata": {},
     "output_type": "display_data"
    }
   ],
   "source": [
    "d.plot(linksID=True)\n",
    "plt.show()"
   ]
  },
  {
   "cell_type": "code",
   "execution_count": 37,
   "id": "99b858fb",
   "metadata": {},
   "outputs": [
    {
     "name": "stdout",
     "output_type": "stream",
     "text": [
      "Close toolkit for the input file \"Net1\". EPANET Toolkit is unloaded.\n",
      "\n"
     ]
    }
   ],
   "source": [
    "d.unload()"
   ]
  },
  {
   "cell_type": "code",
   "execution_count": 38,
   "id": "a04b45ee",
   "metadata": {},
   "outputs": [
    {
     "name": "stdout",
     "output_type": "stream",
     "text": [
      "EPANET version 20200 loaded (EPyT version 1.1.8).\n",
      "Input File Net1.inp loaded successfully.\n",
      "\n"
     ]
    }
   ],
   "source": [
    "d=epanet('Net1.inp')"
   ]
  },
  {
   "cell_type": "code",
   "execution_count": 46,
   "id": "da65f1d2",
   "metadata": {},
   "outputs": [
    {
     "name": "stdout",
     "output_type": "stream",
     "text": [
      "2\n"
     ]
    }
   ],
   "source": [
    "link_id=link_names[1]\n",
    "link_index=d.getLinkIndex(link_id)\n",
    "print(link_index)"
   ]
  },
  {
   "cell_type": "code",
   "execution_count": 42,
   "id": "90865484",
   "metadata": {},
   "outputs": [],
   "source": [
    "Status=[0,0,0,1,0,1,1,0,1,0,0,1,0,1]"
   ]
  },
  {
   "cell_type": "code",
   "execution_count": 44,
   "id": "3e7488fe",
   "metadata": {},
   "outputs": [],
   "source": [
    "d.openHydraulicAnalysis()\n",
    "d.initializeHydraulicAnalysis()"
   ]
  },
  {
   "cell_type": "code",
   "execution_count": 47,
   "id": "63151770",
   "metadata": {},
   "outputs": [],
   "source": [
    "i,step,dictionary=0,1,{}"
   ]
  },
  {
   "cell_type": "code",
   "execution_count": 49,
   "id": "3480f045",
   "metadata": {},
   "outputs": [],
   "source": [
    "while step>0 and i<len(Status):\n",
    "    t=d.runHydraulicAnalysis()\n",
    "    d.setLinkStatus(link_index,Status[i])\n",
    "    i+=1\n",
    "    dictionary[i]=d.getLinkFlows()\n",
    "    step=d.nextHydraulicAnalysisStep()\n",
    "d.closeHydraulicAnalysis()"
   ]
  },
  {
   "cell_type": "code",
   "execution_count": 53,
   "id": "471bda58",
   "metadata": {},
   "outputs": [],
   "source": [
    "flow= pd.DataFrame(dictionary).iloc[link_index-1]"
   ]
  },
  {
   "cell_type": "code",
   "execution_count": 56,
   "id": "c6d7dc51",
   "metadata": {},
   "outputs": [],
   "source": [
    "df=pd.DataFrame({\"Flows\":flow,\"Status\":Status})"
   ]
  },
  {
   "cell_type": "code",
   "execution_count": 57,
   "id": "2e1ecbee",
   "metadata": {},
   "outputs": [
    {
     "data": {
      "text/html": [
       "<div>\n",
       "<style scoped>\n",
       "    .dataframe tbody tr th:only-of-type {\n",
       "        vertical-align: middle;\n",
       "    }\n",
       "\n",
       "    .dataframe tbody tr th {\n",
       "        vertical-align: top;\n",
       "    }\n",
       "\n",
       "    .dataframe thead th {\n",
       "        text-align: right;\n",
       "    }\n",
       "</style>\n",
       "<table border=\"1\" class=\"dataframe\">\n",
       "  <thead>\n",
       "    <tr style=\"text-align: right;\">\n",
       "      <th></th>\n",
       "      <th>Flows</th>\n",
       "      <th>Status</th>\n",
       "    </tr>\n",
       "  </thead>\n",
       "  <tbody>\n",
       "    <tr>\n",
       "      <th>1</th>\n",
       "      <td>0.000000</td>\n",
       "      <td>0</td>\n",
       "    </tr>\n",
       "    <tr>\n",
       "      <th>2</th>\n",
       "      <td>0.000000</td>\n",
       "      <td>0</td>\n",
       "    </tr>\n",
       "    <tr>\n",
       "      <th>3</th>\n",
       "      <td>0.000000</td>\n",
       "      <td>0</td>\n",
       "    </tr>\n",
       "    <tr>\n",
       "      <th>4</th>\n",
       "      <td>0.000403</td>\n",
       "      <td>1</td>\n",
       "    </tr>\n",
       "    <tr>\n",
       "      <th>5</th>\n",
       "      <td>0.000000</td>\n",
       "      <td>0</td>\n",
       "    </tr>\n",
       "    <tr>\n",
       "      <th>6</th>\n",
       "      <td>0.000385</td>\n",
       "      <td>1</td>\n",
       "    </tr>\n",
       "    <tr>\n",
       "      <th>7</th>\n",
       "      <td>1083.053955</td>\n",
       "      <td>1</td>\n",
       "    </tr>\n",
       "    <tr>\n",
       "      <th>8</th>\n",
       "      <td>0.000000</td>\n",
       "      <td>0</td>\n",
       "    </tr>\n",
       "    <tr>\n",
       "      <th>9</th>\n",
       "      <td>0.000385</td>\n",
       "      <td>1</td>\n",
       "    </tr>\n",
       "    <tr>\n",
       "      <th>10</th>\n",
       "      <td>0.000000</td>\n",
       "      <td>0</td>\n",
       "    </tr>\n",
       "    <tr>\n",
       "      <th>11</th>\n",
       "      <td>0.000000</td>\n",
       "      <td>0</td>\n",
       "    </tr>\n",
       "    <tr>\n",
       "      <th>12</th>\n",
       "      <td>0.000400</td>\n",
       "      <td>1</td>\n",
       "    </tr>\n",
       "    <tr>\n",
       "      <th>13</th>\n",
       "      <td>0.000000</td>\n",
       "      <td>0</td>\n",
       "    </tr>\n",
       "    <tr>\n",
       "      <th>14</th>\n",
       "      <td>0.000408</td>\n",
       "      <td>1</td>\n",
       "    </tr>\n",
       "  </tbody>\n",
       "</table>\n",
       "</div>"
      ],
      "text/plain": [
       "          Flows  Status\n",
       "1      0.000000       0\n",
       "2      0.000000       0\n",
       "3      0.000000       0\n",
       "4      0.000403       1\n",
       "5      0.000000       0\n",
       "6      0.000385       1\n",
       "7   1083.053955       1\n",
       "8      0.000000       0\n",
       "9      0.000385       1\n",
       "10     0.000000       0\n",
       "11     0.000000       0\n",
       "12     0.000400       1\n",
       "13     0.000000       0\n",
       "14     0.000408       1"
      ]
     },
     "execution_count": 57,
     "metadata": {},
     "output_type": "execute_result"
    }
   ],
   "source": [
    "df"
   ]
  },
  {
   "cell_type": "code",
   "execution_count": null,
   "id": "5cb1e00d",
   "metadata": {},
   "outputs": [],
   "source": []
  }
 ],
 "metadata": {
  "kernelspec": {
   "display_name": "Python 3 (ipykernel)",
   "language": "python",
   "name": "python3"
  },
  "language_info": {
   "codemirror_mode": {
    "name": "ipython",
    "version": 3
   },
   "file_extension": ".py",
   "mimetype": "text/x-python",
   "name": "python",
   "nbconvert_exporter": "python",
   "pygments_lexer": "ipython3",
   "version": "3.11.5"
  }
 },
 "nbformat": 4,
 "nbformat_minor": 5
}
